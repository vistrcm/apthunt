{
 "cells": [
  {
   "cell_type": "markdown",
   "metadata": {},
   "source": [
    "## Set Up\n",
    "In this first cell, we'll load the necessary libraries."
   ]
  },
  {
   "cell_type": "code",
   "execution_count": 78,
   "metadata": {},
   "outputs": [
    {
     "name": "stdout",
     "output_type": "stream",
     "text": [
      "1.8.0\n"
     ]
    }
   ],
   "source": [
    "import tensorflow as tf \n",
    "import pandas as pd\n",
    "import numpy as np\n",
    "import shutil\n",
    "\n",
    "print(tf.__version__)\n",
    "tf.logging.set_verbosity(tf.logging.INFO)\n",
    "pd.options.display.max_rows = 10\n",
    "pd.options.display.float_format = '{:.1f}'.format"
   ]
  },
  {
   "cell_type": "code",
   "execution_count": 79,
   "metadata": {},
   "outputs": [],
   "source": [
    "df = pd.read_csv(\"train.csv\")\n",
    "df = df.dropna()"
   ]
  },
  {
   "cell_type": "code",
   "execution_count": 80,
   "metadata": {},
   "outputs": [],
   "source": [
    "# df[\"latitude\"] = df[\"latitude\"].astype(float)\n",
    "# df[\"longitude\"] = df[\"longitude\"].astype(float)\n",
    "# df[\"price\"] = df[\"price\"].astype(float)"
   ]
  },
  {
   "cell_type": "code",
   "execution_count": 81,
   "metadata": {},
   "outputs": [
    {
     "data": {
      "text/html": [
       "<div>\n",
       "<style scoped>\n",
       "    .dataframe tbody tr th:only-of-type {\n",
       "        vertical-align: middle;\n",
       "    }\n",
       "\n",
       "    .dataframe tbody tr th {\n",
       "        vertical-align: top;\n",
       "    }\n",
       "\n",
       "    .dataframe thead th {\n",
       "        text-align: right;\n",
       "    }\n",
       "</style>\n",
       "<table border=\"1\" class=\"dataframe\">\n",
       "  <thead>\n",
       "    <tr style=\"text-align: right;\">\n",
       "      <th></th>\n",
       "      <th>Unnamed: 0</th>\n",
       "      <th>latitude</th>\n",
       "      <th>longitude</th>\n",
       "      <th>price</th>\n",
       "    </tr>\n",
       "  </thead>\n",
       "  <tbody>\n",
       "    <tr>\n",
       "      <th>count</th>\n",
       "      <td>28575.0</td>\n",
       "      <td>28575.0</td>\n",
       "      <td>28575.0</td>\n",
       "      <td>28575.0</td>\n",
       "    </tr>\n",
       "    <tr>\n",
       "      <th>mean</th>\n",
       "      <td>30002.8</td>\n",
       "      <td>37.7</td>\n",
       "      <td>-122.2</td>\n",
       "      <td>10205.0</td>\n",
       "    </tr>\n",
       "    <tr>\n",
       "      <th>std</th>\n",
       "      <td>17285.9</td>\n",
       "      <td>0.4</td>\n",
       "      <td>1.1</td>\n",
       "      <td>377371.2</td>\n",
       "    </tr>\n",
       "    <tr>\n",
       "      <th>min</th>\n",
       "      <td>0.0</td>\n",
       "      <td>17.1</td>\n",
       "      <td>-124.1</td>\n",
       "      <td>0.0</td>\n",
       "    </tr>\n",
       "    <tr>\n",
       "      <th>25%</th>\n",
       "      <td>15078.5</td>\n",
       "      <td>37.4</td>\n",
       "      <td>-122.4</td>\n",
       "      <td>2158.0</td>\n",
       "    </tr>\n",
       "    <tr>\n",
       "      <th>50%</th>\n",
       "      <td>30043.0</td>\n",
       "      <td>37.8</td>\n",
       "      <td>-122.2</td>\n",
       "      <td>2775.0</td>\n",
       "    </tr>\n",
       "    <tr>\n",
       "      <th>75%</th>\n",
       "      <td>45010.5</td>\n",
       "      <td>37.8</td>\n",
       "      <td>-122.0</td>\n",
       "      <td>3600.0</td>\n",
       "    </tr>\n",
       "    <tr>\n",
       "      <th>max</th>\n",
       "      <td>59873.0</td>\n",
       "      <td>49.2</td>\n",
       "      <td>-54.2</td>\n",
       "      <td>34754255.0</td>\n",
       "    </tr>\n",
       "  </tbody>\n",
       "</table>\n",
       "</div>"
      ],
      "text/plain": [
       "       Unnamed: 0  latitude  longitude      price\n",
       "count     28575.0   28575.0    28575.0    28575.0\n",
       "mean      30002.8      37.7     -122.2    10205.0\n",
       "std       17285.9       0.4        1.1   377371.2\n",
       "min           0.0      17.1     -124.1        0.0\n",
       "25%       15078.5      37.4     -122.4     2158.0\n",
       "50%       30043.0      37.8     -122.2     2775.0\n",
       "75%       45010.5      37.8     -122.0     3600.0\n",
       "max       59873.0      49.2      -54.2 34754255.0"
      ]
     },
     "execution_count": 81,
     "metadata": {},
     "output_type": "execute_result"
    }
   ],
   "source": [
    "df.describe()"
   ]
  },
  {
   "cell_type": "code",
   "execution_count": 82,
   "metadata": {},
   "outputs": [
    {
     "data": {
      "text/html": [
       "<div>\n",
       "<style scoped>\n",
       "    .dataframe tbody tr th:only-of-type {\n",
       "        vertical-align: middle;\n",
       "    }\n",
       "\n",
       "    .dataframe tbody tr th {\n",
       "        vertical-align: top;\n",
       "    }\n",
       "\n",
       "    .dataframe thead th {\n",
       "        text-align: right;\n",
       "    }\n",
       "</style>\n",
       "<table border=\"1\" class=\"dataframe\">\n",
       "  <thead>\n",
       "    <tr style=\"text-align: right;\">\n",
       "      <th></th>\n",
       "      <th>Unnamed: 0</th>\n",
       "      <th>latitude</th>\n",
       "      <th>longitude</th>\n",
       "      <th>district</th>\n",
       "      <th>price</th>\n",
       "    </tr>\n",
       "  </thead>\n",
       "  <tbody>\n",
       "    <tr>\n",
       "      <th>0</th>\n",
       "      <td>0</td>\n",
       "      <td>38.0</td>\n",
       "      <td>-122.1</td>\n",
       "      <td>concord / pleasant hill / martinez</td>\n",
       "      <td>2395.0</td>\n",
       "    </tr>\n",
       "    <tr>\n",
       "      <th>1</th>\n",
       "      <td>1</td>\n",
       "      <td>37.4</td>\n",
       "      <td>-122.0</td>\n",
       "      <td>santa clara</td>\n",
       "      <td>2100.0</td>\n",
       "    </tr>\n",
       "    <tr>\n",
       "      <th>3</th>\n",
       "      <td>3</td>\n",
       "      <td>37.8</td>\n",
       "      <td>-122.5</td>\n",
       "      <td>sunset / parkside</td>\n",
       "      <td>1900.0</td>\n",
       "    </tr>\n",
       "    <tr>\n",
       "      <th>4</th>\n",
       "      <td>4</td>\n",
       "      <td>37.4</td>\n",
       "      <td>-121.9</td>\n",
       "      <td>san jose north</td>\n",
       "      <td>2205.0</td>\n",
       "    </tr>\n",
       "    <tr>\n",
       "      <th>7</th>\n",
       "      <td>7</td>\n",
       "      <td>38.0</td>\n",
       "      <td>-122.3</td>\n",
       "      <td>hercules, pinole, san pablo, el sob</td>\n",
       "      <td>2500.0</td>\n",
       "    </tr>\n",
       "  </tbody>\n",
       "</table>\n",
       "</div>"
      ],
      "text/plain": [
       "   Unnamed: 0  latitude  longitude                             district  price\n",
       "0           0      38.0     -122.1   concord / pleasant hill / martinez 2395.0\n",
       "1           1      37.4     -122.0                          santa clara 2100.0\n",
       "3           3      37.8     -122.5                    sunset / parkside 1900.0\n",
       "4           4      37.4     -121.9                       san jose north 2205.0\n",
       "7           7      38.0     -122.3  hercules, pinole, san pablo, el sob 2500.0"
      ]
     },
     "execution_count": 82,
     "metadata": {},
     "output_type": "execute_result"
    }
   ],
   "source": [
    "df.head()"
   ]
  },
  {
   "cell_type": "code",
   "execution_count": 83,
   "metadata": {},
   "outputs": [
    {
     "data": {
      "text/plain": [
       "Unnamed: 0      int64\n",
       "latitude      float64\n",
       "longitude     float64\n",
       "district       object\n",
       "price         float64\n",
       "dtype: object"
      ]
     },
     "execution_count": 83,
     "metadata": {},
     "output_type": "execute_result"
    }
   ],
   "source": [
    "df.dtypes"
   ]
  },
  {
   "cell_type": "markdown",
   "metadata": {},
   "source": [
    "Now, split the data into two parts -- training and evaluation."
   ]
  },
  {
   "cell_type": "code",
   "execution_count": 84,
   "metadata": {},
   "outputs": [],
   "source": [
    "np.random.seed(seed=1) #makes result reproducible\n",
    "msk = np.random.rand(len(df)) < 0.8\n",
    "traindf = df[msk]\n",
    "evaldf = df[~msk]"
   ]
  },
  {
   "cell_type": "markdown",
   "metadata": {},
   "source": [
    "## Training and Evaluation"
   ]
  },
  {
   "cell_type": "code",
   "execution_count": 85,
   "metadata": {},
   "outputs": [],
   "source": [
    "def add_more_features(df):\n",
    "    # df[\"avg_rooms_per_house\"] = df[\"total_rooms\"] / df[\"households\"] #expect positive correlation\n",
    "    # df[\"avg_persons_per_room\"] = df[\"population\"] / df[\"total_rooms\"] #expect negative correlation\n",
    "    return df"
   ]
  },
  {
   "cell_type": "code",
   "execution_count": 86,
   "metadata": {},
   "outputs": [],
   "source": [
    "# Create pandas input function\n",
    "def make_input_fn(df, num_epochs):\n",
    "    return tf.estimator.inputs.pandas_input_fn(\n",
    "        x = add_more_features(df),\n",
    "        # y = df['price'] / 100000, # will talk about why later in the course\n",
    "        y = df['price'],\n",
    "        batch_size = 32,\n",
    "        num_epochs = num_epochs,\n",
    "        shuffle = True,\n",
    "        queue_capacity = 1000,\n",
    "        num_threads = 1\n",
    "    )"
   ]
  },
  {
   "cell_type": "code",
   "execution_count": 87,
   "metadata": {},
   "outputs": [],
   "source": [
    "# Define your feature columns\n",
    "def create_feature_cols():\n",
    "    return [\n",
    "#         tf.feature_column.numeric_column('housing_median_age'),\n",
    "        tf.feature_column.bucketized_column(\n",
    "            tf.feature_column.numeric_column('latitude'), boundaries = np.arange(37.0, 38.5, 0.1).tolist()\n",
    "        ),\n",
    "        tf.feature_column.bucketized_column(\n",
    "            tf.feature_column.numeric_column('longitude'), boundaries = np.arange(-122.78, -121.65, 0.1).tolist()\n",
    "        ),\n",
    "  ]"
   ]
  },
  {
   "cell_type": "code",
   "execution_count": 88,
   "metadata": {},
   "outputs": [],
   "source": [
    "# Create estimator train and evaluate function\n",
    "def train_and_evaluate(output_dir, num_train_steps):\n",
    "    estimator = tf.estimator.LinearRegressor(model_dir = output_dir, feature_columns = create_feature_cols())\n",
    "    train_spec = tf.estimator.TrainSpec(input_fn = make_input_fn(traindf, None), \n",
    "                                        max_steps = num_train_steps)\n",
    "    eval_spec = tf.estimator.EvalSpec(input_fn = make_input_fn(evaldf, 1), \n",
    "                                      steps = None, \n",
    "                                      start_delay_secs = 1, # start evaluating after N seconds, \n",
    "                                      throttle_secs = 5)  # evaluate every N seconds\n",
    "    tf.estimator.train_and_evaluate(estimator, train_spec, eval_spec)"
   ]
  },
  {
   "cell_type": "code",
   "execution_count": 89,
   "metadata": {},
   "outputs": [],
   "source": [
    "# # Launch tensorboard\n",
    "# from google.datalab.ml import TensorBoard\n",
    "\n",
    "OUTDIR = './trained_model'\n",
    "# TensorBoard().start(OUTDIR)\n",
    "\n",
    "# will run tensorboard --logdir=path/to/log-directory instead"
   ]
  },
  {
   "cell_type": "code",
   "execution_count": 90,
   "metadata": {},
   "outputs": [
    {
     "name": "stdout",
     "output_type": "stream",
     "text": [
      "INFO:tensorflow:Using default config.\n",
      "INFO:tensorflow:Using config: {'_save_checkpoints_secs': 600, '_session_config': None, '_keep_checkpoint_max': 5, '_task_type': 'worker', '_train_distribute': None, '_is_chief': True, '_cluster_spec': <tensorflow.python.training.server_lib.ClusterSpec object at 0x7feb9f335050>, '_evaluation_master': '', '_save_checkpoints_steps': None, '_keep_checkpoint_every_n_hours': 10000, '_service': None, '_num_ps_replicas': 0, '_tf_random_seed': None, '_master': '', '_num_worker_replicas': 1, '_task_id': 0, '_log_step_count_steps': 100, '_model_dir': './trained_model', '_global_id_in_cluster': 0, '_save_summary_steps': 100}\n",
      "INFO:tensorflow:Running training and evaluation locally (non-distributed).\n",
      "INFO:tensorflow:Start train and evaluate loop. The evaluate will happen after 5 secs (eval_spec.throttle_secs) or training is finished.\n",
      "INFO:tensorflow:Calling model_fn.\n",
      "INFO:tensorflow:Done calling model_fn.\n",
      "INFO:tensorflow:Create CheckpointSaverHook.\n",
      "INFO:tensorflow:Graph was finalized.\n",
      "INFO:tensorflow:Running local_init_op.\n",
      "INFO:tensorflow:Done running local_init_op.\n",
      "INFO:tensorflow:Saving checkpoints for 1 into ./trained_model/model.ckpt.\n",
      "INFO:tensorflow:loss = 9354125000.0, step = 1\n",
      "INFO:tensorflow:global_step/sec: 373.514\n",
      "INFO:tensorflow:loss = 402126700.0, step = 101 (0.270 sec)\n",
      "INFO:tensorflow:global_step/sec: 416.373\n",
      "INFO:tensorflow:loss = 257944780.0, step = 201 (0.243 sec)\n",
      "INFO:tensorflow:global_step/sec: 314.128\n",
      "INFO:tensorflow:loss = 346148060.0, step = 301 (0.319 sec)\n",
      "INFO:tensorflow:global_step/sec: 247.595\n",
      "INFO:tensorflow:loss = 300994100.0, step = 401 (0.404 sec)\n",
      "INFO:tensorflow:global_step/sec: 369.516\n",
      "INFO:tensorflow:loss = 297698020.0, step = 501 (0.271 sec)\n",
      "INFO:tensorflow:global_step/sec: 373.017\n",
      "INFO:tensorflow:loss = 430084030.0, step = 601 (0.269 sec)\n",
      "INFO:tensorflow:global_step/sec: 263.362\n",
      "INFO:tensorflow:loss = 327844830.0, step = 701 (0.386 sec)\n",
      "INFO:tensorflow:global_step/sec: 391.632\n",
      "INFO:tensorflow:loss = 355635780.0, step = 801 (0.247 sec)\n",
      "INFO:tensorflow:global_step/sec: 424.074\n",
      "INFO:tensorflow:loss = 1474503700.0, step = 901 (0.235 sec)\n",
      "INFO:tensorflow:global_step/sec: 232.96\n",
      "INFO:tensorflow:loss = 85396320000000.0, step = 1001 (0.431 sec)\n",
      "INFO:tensorflow:global_step/sec: 243.312\n",
      "INFO:tensorflow:loss = 442488320.0, step = 1101 (0.413 sec)\n",
      "INFO:tensorflow:global_step/sec: 289.94\n",
      "INFO:tensorflow:loss = 250063400.0, step = 1201 (0.341 sec)\n",
      "INFO:tensorflow:global_step/sec: 284.626\n",
      "INFO:tensorflow:loss = 393437300.0, step = 1301 (0.355 sec)\n",
      "INFO:tensorflow:Saving checkpoints for 1312 into ./trained_model/model.ckpt.\n",
      "INFO:tensorflow:Loss for final step: 276167140.0.\n",
      "INFO:tensorflow:Calling model_fn.\n",
      "INFO:tensorflow:Done calling model_fn.\n",
      "INFO:tensorflow:Starting evaluation at 2018-07-07-03:39:26\n",
      "INFO:tensorflow:Graph was finalized.\n",
      "INFO:tensorflow:Restoring parameters from ./trained_model/model.ckpt-1312\n",
      "INFO:tensorflow:Running local_init_op.\n",
      "INFO:tensorflow:Done running local_init_op.\n",
      "INFO:tensorflow:Finished evaluation at 2018-07-07-03:39:27\n",
      "INFO:tensorflow:Saving dict for global step 1312: average_loss = 41216156000.0, global_step = 1312, loss = 1314772400000.0\n",
      "INFO:tensorflow:Calling model_fn.\n",
      "INFO:tensorflow:Done calling model_fn.\n",
      "INFO:tensorflow:Create CheckpointSaverHook.\n",
      "INFO:tensorflow:Graph was finalized.\n",
      "INFO:tensorflow:Restoring parameters from ./trained_model/model.ckpt-1312\n",
      "INFO:tensorflow:Running local_init_op.\n",
      "INFO:tensorflow:Done running local_init_op.\n",
      "INFO:tensorflow:Saving checkpoints for 1313 into ./trained_model/model.ckpt.\n",
      "INFO:tensorflow:loss = 368682940.0, step = 1313\n",
      "INFO:tensorflow:global_step/sec: 207.935\n",
      "INFO:tensorflow:loss = 232687360.0, step = 1413 (0.486 sec)\n",
      "INFO:tensorflow:global_step/sec: 322.84\n",
      "INFO:tensorflow:loss = 312435700.0, step = 1513 (0.308 sec)\n",
      "INFO:tensorflow:global_step/sec: 389.794\n",
      "INFO:tensorflow:loss = 346694430.0, step = 1613 (0.264 sec)\n",
      "INFO:tensorflow:global_step/sec: 256.058\n",
      "INFO:tensorflow:loss = 500215360.0, step = 1713 (0.387 sec)\n",
      "INFO:tensorflow:global_step/sec: 265.173\n",
      "INFO:tensorflow:loss = 529523420.0, step = 1813 (0.377 sec)\n",
      "INFO:tensorflow:global_step/sec: 360.631\n",
      "INFO:tensorflow:loss = 400622460.0, step = 1913 (0.277 sec)\n",
      "INFO:tensorflow:Saving checkpoints for 2000 into ./trained_model/model.ckpt.\n",
      "INFO:tensorflow:Loss for final step: 358358820.0.\n",
      "INFO:tensorflow:Calling model_fn.\n",
      "INFO:tensorflow:Done calling model_fn.\n",
      "INFO:tensorflow:Starting evaluation at 2018-07-07-03:39:31\n",
      "INFO:tensorflow:Graph was finalized.\n",
      "INFO:tensorflow:Restoring parameters from ./trained_model/model.ckpt-2000\n",
      "INFO:tensorflow:Running local_init_op.\n",
      "INFO:tensorflow:Done running local_init_op.\n",
      "INFO:tensorflow:Finished evaluation at 2018-07-07-03:39:32\n",
      "INFO:tensorflow:Saving dict for global step 2000: average_loss = 41216147000.0, global_step = 2000, loss = 1314772100000.0\n"
     ]
    }
   ],
   "source": [
    "# Run the model\n",
    "shutil.rmtree(OUTDIR, ignore_errors = True)\n",
    "train_and_evaluate(OUTDIR, 2000)"
   ]
  },
  {
   "cell_type": "code",
   "execution_count": null,
   "metadata": {},
   "outputs": [],
   "source": []
  },
  {
   "cell_type": "code",
   "execution_count": null,
   "metadata": {},
   "outputs": [],
   "source": []
  }
 ],
 "metadata": {
  "kernelspec": {
   "display_name": "Python 2",
   "language": "python",
   "name": "python2"
  },
  "language_info": {
   "codemirror_mode": {
    "name": "ipython",
    "version": 2
   },
   "file_extension": ".py",
   "mimetype": "text/x-python",
   "name": "python",
   "nbconvert_exporter": "python",
   "pygments_lexer": "ipython2",
   "version": "2.7.12"
  }
 },
 "nbformat": 4,
 "nbformat_minor": 2
}
