{
 "cells": [
  {
   "cell_type": "code",
   "execution_count": 15,
   "metadata": {},
   "outputs": [],
   "source": [
    "import os\n",
    "import boto3\n",
    "import pickle\n",
    "import pandas as pd"
   ]
  },
  {
   "cell_type": "code",
   "execution_count": 16,
   "metadata": {},
   "outputs": [],
   "source": [
    "def maybe_pickle(data, filename, force=False):\n",
    "    if os.path.exists(filename) and not force:\n",
    "        # You may override by setting force=True.\n",
    "        print('%s already present - Skipping pickling.' % filename)\n",
    "    else:\n",
    "        print('Pickling %s.' % filename)\n",
    "        try:\n",
    "            with open(filename, 'wb') as f:\n",
    "                pickle.dump(data, f, pickle.HIGHEST_PROTOCOL)\n",
    "        except Exception as e:\n",
    "            print('Unable to save data to', filename, ':', e)\n",
    "\n",
    "\n",
    "def maybe_download(table, force=False):\n",
    "    storage_file = table + \".pkl\"\n",
    "    if force or not os.path.exists(storage_file):\n",
    "        data = data_retrieve(table)\n",
    "        maybe_pickle(data, storage_file)\n",
    "    return storage_file\n",
    "        \n",
    "def data_retrieve(table, page_size=50):\n",
    "    \"\"\"download data from table\"\"\"\n",
    "    client = boto3.client('dynamodb')\n",
    "    paginator = client.get_paginator('scan')\n",
    "\n",
    "    counter = 0\n",
    "    items = []\n",
    "    for page in paginator.paginate(TableName=table, PaginationConfig={\"PageSize\": page_size}):\n",
    "        items.extend(page[\"Items\"])\n",
    "        \n",
    "        counter += 1\n",
    "        if counter % 50 == 0:  # print debug every 50 pages\n",
    "            print(\"next page. {}. Count {}. ScannedCount: {}\".format(counter, page[\"Count\"], page[\"ScannedCount\"]))\n",
    "\n",
    "\n",
    "    return items\n",
    "    "
   ]
  },
  {
   "cell_type": "code",
   "execution_count": 17,
   "metadata": {},
   "outputs": [],
   "source": [
    "data_file = maybe_download(\"apthunt\")\n",
    "data = pickle.load(open(data_file, 'rb'))"
   ]
  },
  {
   "cell_type": "code",
   "execution_count": 18,
   "metadata": {},
   "outputs": [],
   "source": [
    "# To go from dynamo format to python\n",
    "from boto3.dynamodb import types\n",
    "\n",
    "deserializer = types.TypeDeserializer()\n",
    "python_data = [{k: deserializer.deserialize(v) for k,v in d.items()} for d in data]"
   ]
  },
  {
   "cell_type": "code",
   "execution_count": 19,
   "metadata": {},
   "outputs": [],
   "source": [
    "df = pd.DataFrame(python_data)"
   ]
  },
  {
   "cell_type": "code",
   "execution_count": 37,
   "metadata": {},
   "outputs": [
    {
     "data": {
      "text/plain": [
       "count        55351\n",
       "unique         969\n",
       "top       berkeley\n",
       "freq          1036\n",
       "Name: parsed_district, dtype: object"
      ]
     },
     "execution_count": 37,
     "metadata": {},
     "output_type": "execute_result"
    }
   ],
   "source": [
    "df[\"parsed_district\"].describe()"
   ]
  },
  {
   "cell_type": "code",
   "execution_count": null,
   "metadata": {},
   "outputs": [],
   "source": []
  }
 ],
 "metadata": {
  "kernelspec": {
   "display_name": "Python 3",
   "language": "python",
   "name": "python3"
  },
  "language_info": {
   "codemirror_mode": {
    "name": "ipython",
    "version": 3
   },
   "file_extension": ".py",
   "mimetype": "text/x-python",
   "name": "python",
   "nbconvert_exporter": "python",
   "pygments_lexer": "ipython3",
   "version": "3.7.0"
  }
 },
 "nbformat": 4,
 "nbformat_minor": 2
}
