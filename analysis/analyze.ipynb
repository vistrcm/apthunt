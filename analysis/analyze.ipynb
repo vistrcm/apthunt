{
 "cells": [
  {
   "cell_type": "code",
   "execution_count": 4,
   "metadata": {
    "pycharm": {
     "is_executing": false
    }
   },
   "outputs": [],
   "source": [
    "%reload_ext autoreload\n",
    "%autoreload 2\n",
    "%matplotlib inline\n",
    "%config InlineBackend.figure_format='retina'"
   ]
  },
  {
   "cell_type": "code",
   "execution_count": 5,
   "metadata": {
    "pycharm": {
     "is_executing": false
    }
   },
   "outputs": [],
   "source": [
    "import os\n",
    "import boto3\n",
    "import pickle\n",
    "import pandas as pd\n",
    "import seaborn as sns\n",
    "import matplotlib.pyplot as plt\n",
    "import re\n",
    "import csv\n",
    "import numpy as np\n",
    "from pathlib import Path"
   ]
  },
  {
   "cell_type": "code",
   "execution_count": 6,
   "metadata": {
    "pycharm": {
     "is_executing": false
    }
   },
   "outputs": [],
   "source": [
    "def maybe_pickle(data, filename, force=False):\n",
    "    if os.path.exists(filename) and not force:\n",
    "        # You may override by setting force=True.\n",
    "        print('%s already present - Skipping pickling.' % filename)\n",
    "    else:\n",
    "        print('Pickling %s.' % filename)\n",
    "        try:\n",
    "            with open(filename, 'wb') as f:\n",
    "                pickle.dump(data, f, pickle.HIGHEST_PROTOCOL)\n",
    "        except Exception as e:\n",
    "            print('Unable to save data to', filename, ':', e)\n",
    "\n",
    "\n",
    "def maybe_download(table, force=False):\n",
    "    storage_file = table + \".pkl\"\n",
    "    if force or not os.path.exists(storage_file):\n",
    "        data = data_retrieve(table)\n",
    "        maybe_pickle(data, storage_file)\n",
    "    return storage_file\n",
    "        \n",
    "def data_retrieve(table, page_size=100):\n",
    "    \"\"\"download data from table\"\"\"\n",
    "    client = boto3.client('dynamodb')\n",
    "    paginator = client.get_paginator('scan')\n",
    "\n",
    "    counter = 0\n",
    "    items = []\n",
    "    for page in paginator.paginate(TableName=table, PaginationConfig={\"PageSize\": page_size}):\n",
    "        items.extend(page[\"Items\"])\n",
    "        \n",
    "        counter += 1\n",
    "        if counter % 50 == 0:  # print debug every 50 pages\n",
    "            print(\"items: {}. next page. {}. Count {}. ScannedCount: {}\".format(len(items), counter, page[\"Count\"], page[\"ScannedCount\"]))\n",
    "\n",
    "\n",
    "    return items\n",
    "    "
   ]
  },
  {
   "cell_type": "code",
   "execution_count": 4,
   "metadata": {
    "pycharm": {
     "is_executing": true
    }
   },
   "outputs": [],
   "source": [
    "data_file = maybe_download(\"apthunt\")\n",
    "data = pickle.load(open(data_file, 'rb'))"
   ]
  },
  {
   "cell_type": "code",
   "execution_count": 5,
   "metadata": {
    "pycharm": {
     "is_executing": true
    }
   },
   "outputs": [
    {
     "name": "stdout",
     "output_type": "stream",
     "text": [
      "wow\n"
     ]
    }
   ],
   "source": [
    "print(\"wow\")"
   ]
  },
  {
   "cell_type": "code",
   "execution_count": 6,
   "metadata": {
    "pycharm": {
     "is_executing": true
    }
   },
   "outputs": [],
   "source": [
    "# To go from dynamo format to python\n",
    "from boto3.dynamodb import types\n",
    "\n",
    "deserializer = types.TypeDeserializer()\n",
    "python_data = [{k: deserializer.deserialize(v) for k,v in d.items()} for d in data]"
   ]
  },
  {
   "cell_type": "code",
   "execution_count": 7,
   "metadata": {},
   "outputs": [],
   "source": [
    "del data"
   ]
  },
  {
   "cell_type": "code",
   "execution_count": 8,
   "metadata": {},
   "outputs": [],
   "source": [
    "df = pd.DataFrame(python_data)"
   ]
  },
  {
   "cell_type": "code",
   "execution_count": 9,
   "metadata": {},
   "outputs": [],
   "source": [
    "del python_data"
   ]
  },
  {
   "cell_type": "code",
   "execution_count": 10,
   "metadata": {},
   "outputs": [],
   "source": [
    "with open(\"df.pkl\", 'wb') as f:\n",
    "    pickle.dump(df, f, pickle.HIGHEST_PROTOCOL)\n"
   ]
  },
  {
   "cell_type": "markdown",
   "metadata": {},
   "source": [
    "## can restore from here"
   ]
  },
  {
   "cell_type": "code",
   "execution_count": 7,
   "metadata": {},
   "outputs": [],
   "source": [
    "df = pickle.load(open(\"df.pkl\", 'rb'))"
   ]
  },
  {
   "cell_type": "code",
   "execution_count": 8,
   "metadata": {},
   "outputs": [
    {
     "data": {
      "text/html": [
       "<div>\n",
       "<style scoped>\n",
       "    .dataframe tbody tr th:only-of-type {\n",
       "        vertical-align: middle;\n",
       "    }\n",
       "\n",
       "    .dataframe tbody tr th {\n",
       "        vertical-align: top;\n",
       "    }\n",
       "\n",
       "    .dataframe thead th {\n",
       "        text-align: right;\n",
       "    }\n",
       "</style>\n",
       "<table border=\"1\" class=\"dataframe\">\n",
       "  <thead>\n",
       "    <tr style=\"text-align: right;\">\n",
       "      <th></th>\n",
       "      <th>parsed_postingtitletext</th>\n",
       "      <th>parsed_map_address</th>\n",
       "      <th>added</th>\n",
       "      <th>PostUrl</th>\n",
       "      <th>PostTitle</th>\n",
       "      <th>parsed_price</th>\n",
       "      <th>parsed_price_text</th>\n",
       "      <th>parsed_housing</th>\n",
       "      <th>PostContent</th>\n",
       "      <th>parsed_data_longitude</th>\n",
       "      <th>...</th>\n",
       "      <th>parsed_postingbody</th>\n",
       "      <th>parsed_page_head</th>\n",
       "      <th>parsed_thumbs</th>\n",
       "      <th>FeedTitle</th>\n",
       "      <th>parsed_titletextonly</th>\n",
       "      <th>intid</th>\n",
       "      <th>parsed_data_latitude</th>\n",
       "      <th>FeedUrl</th>\n",
       "      <th>PostPublished</th>\n",
       "      <th>parsed_notices</th>\n",
       "    </tr>\n",
       "  </thead>\n",
       "  <tbody>\n",
       "    <tr>\n",
       "      <th>0</th>\n",
       "      <td>$3150 / 2br - 1300ft2 - Sunset Oaks Townhome- 1249 Crescent Terrace - Stocklmeir Elementary (sunnyvale) hide this posting unhide</td>\n",
       "      <td>1249 Crescent Terrace</td>\n",
       "      <td>1538706586266</td>\n",
       "      <td>https://sfbay.craigslist.org/sby/apa/d/sunset-oaks-townhome-1249/6709118961.html</td>\n",
       "      <td>simulated</td>\n",
       "      <td>3150</td>\n",
       "      <td>$3150</td>\n",
       "      <td>2br - 1300ft2</td>\n",
       "      <td>simulated</td>\n",
       "      <td>-122.026428</td>\n",
       "      <td>...</td>\n",
       "      <td>Well designed and spacious 2 bedroom, 2 1/2 bath, 2-story townhome in the highly desired Sunset Oaks complex. Large rooms, laminate flooring on main level, carpeting in bedrooms on upper level, spacious closets, and an inside laundry area with full sized washer and dryer. Close proximity to Apple Park, Sunnyvale Community Center, Trader Joe's, Safeway, 24 Hour Super-Sport Fitness Center, Downtown Sunnyvale, great restaurants, parks, and more. Convenient access to freeways, Caltrain, and public transportation. Well maintained complex features lush greenery, sparkling pool, and clubhouse. Am...</td>\n",
       "      <td>None</td>\n",
       "      <td>[https://images.craigslist.org/00Z0Z_5KZmIXxAcj_600x450.jpg, https://images.craigslist.org/00f0f_eqAOkWzKH9m_600x450.jpg, https://images.craigslist.org/00y0y_2WSGICUax4Y_600x450.jpg, https://images.craigslist.org/00C0C_4w5vpVhBoRh_600x450.jpg, https://images.craigslist.org/00I0I_8JjGKr4anFd_600x450.jpg, https://images.craigslist.org/00p0p_hc2jAs6AYJP_600x450.jpg, https://images.craigslist.org/00i0i_isU6lMVulur_600x450.jpg, https://images.craigslist.org/00k0k_fT9RSBrpZQp_600x450.jpg, https://images.craigslist.org/00m0m_9onzPH5Vru8_600x450.jpg, https://images.craigslist.org/00g0g_cnYTjPcfytH...</td>\n",
       "      <td>simulated</td>\n",
       "      <td>Sunset Oaks Townhome- 1249 Crescent Terrace - Stocklmeir Elementary</td>\n",
       "      <td>6aea5603583644368e76bac8293aa38a</td>\n",
       "      <td>37.353754</td>\n",
       "      <td>simulated</td>\n",
       "      <td>simulated</td>\n",
       "      <td>[do NOT contact me with unsolicited services or offers]</td>\n",
       "    </tr>\n",
       "    <tr>\n",
       "      <th>1</th>\n",
       "      <td>$1769 / 2br - 875ft2 - ❄ Pittsburg Apartment Living, Gated Community, 24 Hour Fitness Gym (Pittsburg, CA) hide this posting unhide</td>\n",
       "      <td>2205 E Leland Rd</td>\n",
       "      <td>1539451812116</td>\n",
       "      <td>https://sfbay.craigslist.org/eby/apa/d/pittsburg-apartment-living/6720712945.html</td>\n",
       "      <td>simulated</td>\n",
       "      <td>1769</td>\n",
       "      <td>$1769</td>\n",
       "      <td>2br - 875ft2</td>\n",
       "      <td>simulated</td>\n",
       "      <td>-121.864673</td>\n",
       "      <td>...</td>\n",
       "      <td>Diamond Hillside Apartment Homes offers spacious one and two-bedroom apartments for rent in Pittsburg, CA.\\n\\nThe apartments come with all-electric appliance packages that include microwaves and garbage disposals in the kitchens. The kitchens also include multi-cycle dishwashers for even more convenience. Wall-to-wall carpeting comes installed in the living areas, and stylish wood-inspired flooring comes outfitted in the kitchens and bathrooms. Additionally, many apartment homes within the community offer wood-burning fireplaces granite counters, and more.\\n\\nOnce you have settled into you...</td>\n",
       "      <td>None</td>\n",
       "      <td>[https://images.craigslist.org/00c0c_505E4utDZFh_600x450.jpg, https://images.craigslist.org/00f0f_emM16TQdCvw_600x450.jpg, https://images.craigslist.org/00p0p_lA80gKwuKt1_600x450.jpg, https://images.craigslist.org/00W0W_XfXkafrgFM_600x450.jpg, https://images.craigslist.org/00S0S_jdFCqw6wbZj_600x450.jpg, https://images.craigslist.org/00M0M_ic9Z0FY8zkV_600x450.jpg, https://images.craigslist.org/00t0t_7qijSexvO1N_600x450.jpg, https://images.craigslist.org/00n0n_jdfZ7tcuO6e_600x450.jpg]</td>\n",
       "      <td>simulated</td>\n",
       "      <td>❄ Pittsburg Apartment Living, Gated Community, 24 Hour Fitness Gym</td>\n",
       "      <td>0f490163255448ac973218ae45b7fa99</td>\n",
       "      <td>38.008321</td>\n",
       "      <td>simulated</td>\n",
       "      <td>simulated</td>\n",
       "      <td>[do NOT contact me with unsolicited services or offers]</td>\n",
       "    </tr>\n",
       "    <tr>\n",
       "      <th>2</th>\n",
       "      <td>$3000 / 2br - 1800ft2 - 2 Bedroom 1 Bath 1 Car Garage House (excelsior / outer mission) hide this posting unhide</td>\n",
       "      <td>375 Pope Street</td>\n",
       "      <td>1538947757137</td>\n",
       "      <td>https://sfbay.craigslist.org/sfc/apa/d/2-bedroom-1-bath-1-car-garage/6712471985.html</td>\n",
       "      <td>simulated</td>\n",
       "      <td>3000</td>\n",
       "      <td>$3000</td>\n",
       "      <td>2br - 1800ft2</td>\n",
       "      <td>simulated</td>\n",
       "      <td>-122.439706</td>\n",
       "      <td>...</td>\n",
       "      <td>clean 2 Bedroom 1 full bathroom 1 car garage. perfect for small family or working professionals in\\nquiet neighborhood.\\n\\nCentral heat , large yard, views of sf downtown skyline</td>\n",
       "      <td>None</td>\n",
       "      <td>[https://images.craigslist.org/00G0G_2bsd96Q2mrr_600x450.jpg, https://images.craigslist.org/00x0x_d9z7blVpQB4_600x450.jpg, https://images.craigslist.org/00K0K_a1TIthRZ9PV_600x450.jpg, https://images.craigslist.org/00y0y_WB9kvnlsjW_600x450.jpg, https://images.craigslist.org/00C0C_byA5WpNwoBS_600x450.jpg]</td>\n",
       "      <td>simulated</td>\n",
       "      <td>2 Bedroom 1 Bath 1 Car Garage House</td>\n",
       "      <td>ef4a3ac21bca461bab5364dbda00144c</td>\n",
       "      <td>37.710526</td>\n",
       "      <td>simulated</td>\n",
       "      <td>simulated</td>\n",
       "      <td>[do NOT contact me with unsolicited services or offers]</td>\n",
       "    </tr>\n",
       "    <tr>\n",
       "      <th>3</th>\n",
       "      <td>$2150 / 3br - 1200ft2 - Updated 1200 SQ FT 3 Bed 1.5 Bath 2-story house for rent (fairfield / vacaville)</td>\n",
       "      <td>2436 Baltic Dr</td>\n",
       "      <td>1585287116209</td>\n",
       "      <td>https://sfbay.craigslist.org/eby/apa/d/fairfield-updated-1200-sq-ft-3-bed-15/7097278416.html</td>\n",
       "      <td>simulated</td>\n",
       "      <td>2150</td>\n",
       "      <td>$2150</td>\n",
       "      <td>3br - 1200ft2</td>\n",
       "      <td>simulated</td>\n",
       "      <td>-122.019156</td>\n",
       "      <td>...</td>\n",
       "      <td>Updated 1200 SQ FT 3 Bed 1.5 Bath 2-story house for rent Double Garage with Long Driveway\\n\\n\\n\\nType: Single Family\\n\\nPlease Do Not call (will not be answered). Text message only @ 415 812-561(five)\\n\\nMonthly rent: $2,150\\n\\n\\nOpen house:\\n\\nSaturday, March 28, 2020 From 02:00PM to 5:00PM\\n\\n\\nLocation:\\n2436 Baltic Dr, Fairfield, CA 94533\\n\\nLEASE CONDITIONS\\n- Available NOW\\n- 1 year lease minimum\\n- Utilities: Tenant is responsible for all utilities\\n- Parking: Street, driveway, and Garage (Double Garage)\\n- Non-smoking tenants only\\n- Must pass credit, employment, and criminal backg...</td>\n",
       "      <td>None</td>\n",
       "      <td>[https://images.craigslist.org/00s0s_fp0FHrerEwR_600x450.jpg, https://images.craigslist.org/00707_j8skVNDUVvK_600x450.jpg, https://images.craigslist.org/00P0P_dQlOAXxPEbh_600x450.jpg, https://images.craigslist.org/00t0t_c2AEgwquxXU_600x450.jpg, https://images.craigslist.org/00O0O_5CZXcYGOm6T_600x450.jpg, https://images.craigslist.org/00E0E_j5i4jyly4PM_600x450.jpg, https://images.craigslist.org/00O0O_9LcxW5yFABP_600x450.jpg, https://images.craigslist.org/00101_eC0AIjWKriH_600x450.jpg, https://images.craigslist.org/00404_gHziugPipMu_600x450.jpg, https://images.craigslist.org/00r0r_koE3GY7SzI...</td>\n",
       "      <td>simulated</td>\n",
       "      <td>Updated 1200 SQ FT 3 Bed 1.5 Bath 2-story house for rent</td>\n",
       "      <td>bad01973976c49a88c0f45894ae19cc3</td>\n",
       "      <td>38.27479</td>\n",
       "      <td>simulated</td>\n",
       "      <td>simulated</td>\n",
       "      <td>[do NOT contact me with unsolicited services or offers]</td>\n",
       "    </tr>\n",
       "    <tr>\n",
       "      <th>4</th>\n",
       "      <td>$2150 / 1br - 726ft2 - FULLY RENOVATED 1BED 1BATH IN HAYWARD! PRE-LEASING, CALL FOR DETAILS! (hayward / castro valley)</td>\n",
       "      <td>1182 E Street near 2nd</td>\n",
       "      <td>1587684611249</td>\n",
       "      <td>https://sfbay.craigslist.org/eby/apa/d/hayward-fully-renovated-1bed-1bath-in/7112941389.html</td>\n",
       "      <td>simulated</td>\n",
       "      <td>2150</td>\n",
       "      <td>$2150</td>\n",
       "      <td>1br - 726ft2</td>\n",
       "      <td>simulated</td>\n",
       "      <td>-122.076737</td>\n",
       "      <td>...</td>\n",
       "      <td>Beautiful Fully Renovated 1 bedroom 1 bathroom 726 sq ft\\n\\nExperience the comforts of home at Andina Apartments in Hayward, California. Choose one of our spacious floor plans, which allow for ultimate privacy located in a secure setting with video surveillance. We offer , one, two and three bedroom apartment homes and Pen-Houses, with private balcony/patios. We feature built-in G.E./Hotpoint electric appliances, plenty of natural light, walk-in closets and cable-ready units. We have a convenient of Washer &amp; Dryer inside home and additional storage available. Call us today!\\n\\nAndina Apart...</td>\n",
       "      <td>None</td>\n",
       "      <td>[https://images.craigslist.org/01010_IJCcnFKWLL_600x450.jpg, https://images.craigslist.org/01717_cBLJN52rWEG_600x450.jpg, https://images.craigslist.org/00p0p_3AD87TL5IAD_600x450.jpg, https://images.craigslist.org/00k0k_4bfOluAhsO3_600x450.jpg, https://images.craigslist.org/00G0G_hMfGlDTaj5y_600x450.jpg, https://images.craigslist.org/00S0S_5foI5Rko4o5_600x450.jpg, https://images.craigslist.org/01717_dRD7vzRxodr_600x450.jpg, https://images.craigslist.org/01414_hB8Jup1JLsi_600x450.jpg]</td>\n",
       "      <td>simulated</td>\n",
       "      <td>FULLY RENOVATED 1BED 1BATH IN HAYWARD! PRE-LEASING, CALL FOR DETAILS!</td>\n",
       "      <td>51f6a9ed9e224966b5fe96faf83521a1</td>\n",
       "      <td>37.671644</td>\n",
       "      <td>simulated</td>\n",
       "      <td>simulated</td>\n",
       "      <td>[do NOT contact me with unsolicited services or offers]</td>\n",
       "    </tr>\n",
       "  </tbody>\n",
       "</table>\n",
       "<p>5 rows × 23 columns</p>\n",
       "</div>"
      ],
      "text/plain": [
       "                                                                                                              parsed_postingtitletext  \\\n",
       "0    $3150 / 2br - 1300ft2 - Sunset Oaks Townhome- 1249 Crescent Terrace - Stocklmeir Elementary (sunnyvale) hide this posting unhide   \n",
       "1  $1769 / 2br - 875ft2 - ❄ Pittsburg Apartment Living, Gated Community, 24 Hour Fitness Gym (Pittsburg, CA) hide this posting unhide   \n",
       "2                    $3000 / 2br - 1800ft2 - 2 Bedroom 1 Bath 1 Car Garage House (excelsior / outer mission) hide this posting unhide   \n",
       "3                            $2150 / 3br - 1200ft2 - Updated 1200 SQ FT 3 Bed 1.5 Bath 2-story house for rent (fairfield / vacaville)   \n",
       "4              $2150 / 1br - 726ft2 - FULLY RENOVATED 1BED 1BATH IN HAYWARD! PRE-LEASING, CALL FOR DETAILS! (hayward / castro valley)   \n",
       "\n",
       "       parsed_map_address          added  \\\n",
       "0   1249 Crescent Terrace  1538706586266   \n",
       "1        2205 E Leland Rd  1539451812116   \n",
       "2         375 Pope Street  1538947757137   \n",
       "3          2436 Baltic Dr  1585287116209   \n",
       "4  1182 E Street near 2nd  1587684611249   \n",
       "\n",
       "                                                                                        PostUrl  \\\n",
       "0              https://sfbay.craigslist.org/sby/apa/d/sunset-oaks-townhome-1249/6709118961.html   \n",
       "1             https://sfbay.craigslist.org/eby/apa/d/pittsburg-apartment-living/6720712945.html   \n",
       "2          https://sfbay.craigslist.org/sfc/apa/d/2-bedroom-1-bath-1-car-garage/6712471985.html   \n",
       "3  https://sfbay.craigslist.org/eby/apa/d/fairfield-updated-1200-sq-ft-3-bed-15/7097278416.html   \n",
       "4  https://sfbay.craigslist.org/eby/apa/d/hayward-fully-renovated-1bed-1bath-in/7112941389.html   \n",
       "\n",
       "   PostTitle parsed_price parsed_price_text parsed_housing PostContent  \\\n",
       "0  simulated         3150             $3150  2br - 1300ft2   simulated   \n",
       "1  simulated         1769             $1769   2br - 875ft2   simulated   \n",
       "2  simulated         3000             $3000  2br - 1800ft2   simulated   \n",
       "3  simulated         2150             $2150  3br - 1200ft2   simulated   \n",
       "4  simulated         2150             $2150   1br - 726ft2   simulated   \n",
       "\n",
       "  parsed_data_longitude  ...  \\\n",
       "0           -122.026428  ...   \n",
       "1           -121.864673  ...   \n",
       "2           -122.439706  ...   \n",
       "3           -122.019156  ...   \n",
       "4           -122.076737  ...   \n",
       "\n",
       "                                                                                                                                                                                                                                                                                                                                                                                                                                                                                                                                                                                                        parsed_postingbody  \\\n",
       "0  Well designed and spacious 2 bedroom, 2 1/2 bath, 2-story townhome in the highly desired Sunset Oaks complex. Large rooms, laminate flooring on main level, carpeting in bedrooms on upper level, spacious closets, and an inside laundry area with full sized washer and dryer. Close proximity to Apple Park, Sunnyvale Community Center, Trader Joe's, Safeway, 24 Hour Super-Sport Fitness Center, Downtown Sunnyvale, great restaurants, parks, and more. Convenient access to freeways, Caltrain, and public transportation. Well maintained complex features lush greenery, sparkling pool, and clubhouse. Am...   \n",
       "1  Diamond Hillside Apartment Homes offers spacious one and two-bedroom apartments for rent in Pittsburg, CA.\\n\\nThe apartments come with all-electric appliance packages that include microwaves and garbage disposals in the kitchens. The kitchens also include multi-cycle dishwashers for even more convenience. Wall-to-wall carpeting comes installed in the living areas, and stylish wood-inspired flooring comes outfitted in the kitchens and bathrooms. Additionally, many apartment homes within the community offer wood-burning fireplaces granite counters, and more.\\n\\nOnce you have settled into you...   \n",
       "2                                                                                                                                                                                                                                                                                                                                                                                                                                       clean 2 Bedroom 1 full bathroom 1 car garage. perfect for small family or working professionals in\\nquiet neighborhood.\\n\\nCentral heat , large yard, views of sf downtown skyline   \n",
       "3  Updated 1200 SQ FT 3 Bed 1.5 Bath 2-story house for rent Double Garage with Long Driveway\\n\\n\\n\\nType: Single Family\\n\\nPlease Do Not call (will not be answered). Text message only @ 415 812-561(five)\\n\\nMonthly rent: $2,150\\n\\n\\nOpen house:\\n\\nSaturday, March 28, 2020 From 02:00PM to 5:00PM\\n\\n\\nLocation:\\n2436 Baltic Dr, Fairfield, CA 94533\\n\\nLEASE CONDITIONS\\n- Available NOW\\n- 1 year lease minimum\\n- Utilities: Tenant is responsible for all utilities\\n- Parking: Street, driveway, and Garage (Double Garage)\\n- Non-smoking tenants only\\n- Must pass credit, employment, and criminal backg...   \n",
       "4  Beautiful Fully Renovated 1 bedroom 1 bathroom 726 sq ft\\n\\nExperience the comforts of home at Andina Apartments in Hayward, California. Choose one of our spacious floor plans, which allow for ultimate privacy located in a secure setting with video surveillance. We offer , one, two and three bedroom apartment homes and Pen-Houses, with private balcony/patios. We feature built-in G.E./Hotpoint electric appliances, plenty of natural light, walk-in closets and cable-ready units. We have a convenient of Washer & Dryer inside home and additional storage available. Call us today!\\n\\nAndina Apart...   \n",
       "\n",
       "  parsed_page_head  \\\n",
       "0             None   \n",
       "1             None   \n",
       "2             None   \n",
       "3             None   \n",
       "4             None   \n",
       "\n",
       "                                                                                                                                                                                                                                                                                                                                                                                                                                                                                                                                                                                                             parsed_thumbs  \\\n",
       "0  [https://images.craigslist.org/00Z0Z_5KZmIXxAcj_600x450.jpg, https://images.craigslist.org/00f0f_eqAOkWzKH9m_600x450.jpg, https://images.craigslist.org/00y0y_2WSGICUax4Y_600x450.jpg, https://images.craigslist.org/00C0C_4w5vpVhBoRh_600x450.jpg, https://images.craigslist.org/00I0I_8JjGKr4anFd_600x450.jpg, https://images.craigslist.org/00p0p_hc2jAs6AYJP_600x450.jpg, https://images.craigslist.org/00i0i_isU6lMVulur_600x450.jpg, https://images.craigslist.org/00k0k_fT9RSBrpZQp_600x450.jpg, https://images.craigslist.org/00m0m_9onzPH5Vru8_600x450.jpg, https://images.craigslist.org/00g0g_cnYTjPcfytH...   \n",
       "1                                                                                                                  [https://images.craigslist.org/00c0c_505E4utDZFh_600x450.jpg, https://images.craigslist.org/00f0f_emM16TQdCvw_600x450.jpg, https://images.craigslist.org/00p0p_lA80gKwuKt1_600x450.jpg, https://images.craigslist.org/00W0W_XfXkafrgFM_600x450.jpg, https://images.craigslist.org/00S0S_jdFCqw6wbZj_600x450.jpg, https://images.craigslist.org/00M0M_ic9Z0FY8zkV_600x450.jpg, https://images.craigslist.org/00t0t_7qijSexvO1N_600x450.jpg, https://images.craigslist.org/00n0n_jdfZ7tcuO6e_600x450.jpg]   \n",
       "2                                                                                                                                                                                                                                                                                                         [https://images.craigslist.org/00G0G_2bsd96Q2mrr_600x450.jpg, https://images.craigslist.org/00x0x_d9z7blVpQB4_600x450.jpg, https://images.craigslist.org/00K0K_a1TIthRZ9PV_600x450.jpg, https://images.craigslist.org/00y0y_WB9kvnlsjW_600x450.jpg, https://images.craigslist.org/00C0C_byA5WpNwoBS_600x450.jpg]   \n",
       "3  [https://images.craigslist.org/00s0s_fp0FHrerEwR_600x450.jpg, https://images.craigslist.org/00707_j8skVNDUVvK_600x450.jpg, https://images.craigslist.org/00P0P_dQlOAXxPEbh_600x450.jpg, https://images.craigslist.org/00t0t_c2AEgwquxXU_600x450.jpg, https://images.craigslist.org/00O0O_5CZXcYGOm6T_600x450.jpg, https://images.craigslist.org/00E0E_j5i4jyly4PM_600x450.jpg, https://images.craigslist.org/00O0O_9LcxW5yFABP_600x450.jpg, https://images.craigslist.org/00101_eC0AIjWKriH_600x450.jpg, https://images.craigslist.org/00404_gHziugPipMu_600x450.jpg, https://images.craigslist.org/00r0r_koE3GY7SzI...   \n",
       "4                                                                                                                  [https://images.craigslist.org/01010_IJCcnFKWLL_600x450.jpg, https://images.craigslist.org/01717_cBLJN52rWEG_600x450.jpg, https://images.craigslist.org/00p0p_3AD87TL5IAD_600x450.jpg, https://images.craigslist.org/00k0k_4bfOluAhsO3_600x450.jpg, https://images.craigslist.org/00G0G_hMfGlDTaj5y_600x450.jpg, https://images.craigslist.org/00S0S_5foI5Rko4o5_600x450.jpg, https://images.craigslist.org/01717_dRD7vzRxodr_600x450.jpg, https://images.craigslist.org/01414_hB8Jup1JLsi_600x450.jpg]   \n",
       "\n",
       "   FeedTitle  \\\n",
       "0  simulated   \n",
       "1  simulated   \n",
       "2  simulated   \n",
       "3  simulated   \n",
       "4  simulated   \n",
       "\n",
       "                                                    parsed_titletextonly  \\\n",
       "0    Sunset Oaks Townhome- 1249 Crescent Terrace - Stocklmeir Elementary   \n",
       "1     ❄ Pittsburg Apartment Living, Gated Community, 24 Hour Fitness Gym   \n",
       "2                                    2 Bedroom 1 Bath 1 Car Garage House   \n",
       "3               Updated 1200 SQ FT 3 Bed 1.5 Bath 2-story house for rent   \n",
       "4  FULLY RENOVATED 1BED 1BATH IN HAYWARD! PRE-LEASING, CALL FOR DETAILS!   \n",
       "\n",
       "                              intid parsed_data_latitude    FeedUrl  \\\n",
       "0  6aea5603583644368e76bac8293aa38a            37.353754  simulated   \n",
       "1  0f490163255448ac973218ae45b7fa99            38.008321  simulated   \n",
       "2  ef4a3ac21bca461bab5364dbda00144c            37.710526  simulated   \n",
       "3  bad01973976c49a88c0f45894ae19cc3             38.27479  simulated   \n",
       "4  51f6a9ed9e224966b5fe96faf83521a1            37.671644  simulated   \n",
       "\n",
       "  PostPublished                                           parsed_notices  \n",
       "0     simulated  [do NOT contact me with unsolicited services or offers]  \n",
       "1     simulated  [do NOT contact me with unsolicited services or offers]  \n",
       "2     simulated  [do NOT contact me with unsolicited services or offers]  \n",
       "3     simulated  [do NOT contact me with unsolicited services or offers]  \n",
       "4     simulated  [do NOT contact me with unsolicited services or offers]  \n",
       "\n",
       "[5 rows x 23 columns]"
      ]
     },
     "execution_count": 8,
     "metadata": {},
     "output_type": "execute_result"
    }
   ],
   "source": [
    "df.head()"
   ]
  },
  {
   "cell_type": "code",
   "execution_count": 9,
   "metadata": {},
   "outputs": [],
   "source": [
    "# small cleanup of \"simulated\"\n",
    "del df[\"FeedTitle\"]\n",
    "del df[\"FeedUrl\"]\n",
    "del df[\"PostContent\"]\n",
    "del df[\"PostPublished\"]\n",
    "del df[\"PostTitle\"]\n",
    "# delete parsed_notices. looks like it is the same\n",
    "del df[\"parsed_notices\"]\n",
    "# no need for price text\n",
    "del df[\"parsed_price_text\"]"
   ]
  },
  {
   "cell_type": "code",
   "execution_count": 10,
   "metadata": {},
   "outputs": [
    {
     "data": {
      "text/plain": [
       "Index(['parsed_postingtitletext', 'parsed_map_address', 'added', 'PostUrl',\n",
       "       'parsed_price', 'parsed_housing', 'parsed_data_longitude',\n",
       "       'parsed_attrs', 'parsed_district', 'parsed_map_link',\n",
       "       'parsed_postingbody', 'parsed_page_head', 'parsed_thumbs',\n",
       "       'parsed_titletextonly', 'intid', 'parsed_data_latitude'],\n",
       "      dtype='object')"
      ]
     },
     "execution_count": 10,
     "metadata": {},
     "output_type": "execute_result"
    }
   ],
   "source": [
    "df.columns"
   ]
  },
  {
   "cell_type": "code",
   "execution_count": 11,
   "metadata": {},
   "outputs": [],
   "source": [
    "def clean_parsed_args(args):\n",
    "    if not isinstance(args, list):\n",
    "        return []\n",
    "    clean = []\n",
    "    for p in args:\n",
    "        # remove days\n",
    "        if p.startswith(\"friday\") or p.startswith(\"monday\") or p.startswith(\"saturday\") or p.startswith(\"sunday\") or p.startswith(\"thursday\") or p.startswith(\"tuesday\") or p.startswith(\"wednesday\"):\n",
    "            continue\n",
    "        # remove br/ba\n",
    "        if \"BR / \" in p: continue\n",
    "        # remove ft2\n",
    "        if p.endswith(\"ft2\"): continue\n",
    "\n",
    "        # remove application fee\n",
    "        if p.startswith(\"application fee\"): continue\n",
    "        \n",
    "        # remove broker fee\n",
    "        if p.startswith(\"broker fee\"): continue\n",
    "        \n",
    "        # remove available\n",
    "        if p.startswith(\"available\"): continue\n",
    "        \n",
    "        # remove listed by\n",
    "        if p.startswith(\"listed by\"): continue\n",
    "        clean.append(p)\n",
    "    return clean\n",
    "        "
   ]
  },
  {
   "cell_type": "code",
   "execution_count": 12,
   "metadata": {},
   "outputs": [],
   "source": [
    "df['parsed_attrs'] = df['parsed_attrs'].map(clean_parsed_args)\n",
    "# one_hot = pd.get_dummies(df['parsed_attrs'])"
   ]
  },
  {
   "cell_type": "code",
   "execution_count": 13,
   "metadata": {},
   "outputs": [
    {
     "data": {
      "text/plain": [
       "0                                                                 [townhouse, w/d in unit, no smoking, detached garage]\n",
       "1                                                                                                           [apartment]\n",
       "2                                                                 [house, laundry in bldg, no smoking, attached garage]\n",
       "3                                                                                 [house, w/d hookups, detached garage]\n",
       "4                               [cats are OK - purrr, dogs are OK - wooof, apartment, w/d in unit, no smoking, carport]\n",
       "                                                              ...                                                      \n",
       "843726                                                       [cats are OK - purrr, apartment, laundry on site, carport]\n",
       "843727                                                            [townhouse, w/d in unit, no smoking, detached garage]\n",
       "843728                                                                                                               []\n",
       "843729    [cats are OK - purrr, dogs are OK - wooof, furnished, apartment, w/d in unit, no smoking, off-street parking]\n",
       "843730                                                                    [apartment, laundry on site, detached garage]\n",
       "Name: parsed_attrs, Length: 843731, dtype: object"
      ]
     },
     "execution_count": 13,
     "metadata": {},
     "output_type": "execute_result"
    }
   ],
   "source": [
    "df['parsed_attrs']"
   ]
  },
  {
   "cell_type": "code",
   "execution_count": 14,
   "metadata": {},
   "outputs": [
    {
     "data": {
      "text/html": [
       "<div>\n",
       "<style scoped>\n",
       "    .dataframe tbody tr th:only-of-type {\n",
       "        vertical-align: middle;\n",
       "    }\n",
       "\n",
       "    .dataframe tbody tr th {\n",
       "        vertical-align: top;\n",
       "    }\n",
       "\n",
       "    .dataframe thead th {\n",
       "        text-align: right;\n",
       "    }\n",
       "</style>\n",
       "<table border=\"1\" class=\"dataframe\">\n",
       "  <thead>\n",
       "    <tr style=\"text-align: right;\">\n",
       "      <th></th>\n",
       "      <th>parsed_postingtitletext</th>\n",
       "      <th>parsed_map_address</th>\n",
       "      <th>added</th>\n",
       "      <th>PostUrl</th>\n",
       "      <th>parsed_price</th>\n",
       "      <th>parsed_housing</th>\n",
       "      <th>parsed_data_longitude</th>\n",
       "      <th>parsed_attrs</th>\n",
       "      <th>parsed_district</th>\n",
       "      <th>parsed_map_link</th>\n",
       "      <th>parsed_postingbody</th>\n",
       "      <th>parsed_page_head</th>\n",
       "      <th>parsed_thumbs</th>\n",
       "      <th>parsed_titletextonly</th>\n",
       "      <th>intid</th>\n",
       "      <th>parsed_data_latitude</th>\n",
       "    </tr>\n",
       "  </thead>\n",
       "  <tbody>\n",
       "    <tr>\n",
       "      <th>0</th>\n",
       "      <td>$3150 / 2br - 1300ft2 - Sunset Oaks Townhome- 1249 Crescent Terrace - Stocklmeir Elementary (sunnyvale) hide this posting unhide</td>\n",
       "      <td>1249 Crescent Terrace</td>\n",
       "      <td>1538706586266</td>\n",
       "      <td>https://sfbay.craigslist.org/sby/apa/d/sunset-oaks-townhome-1249/6709118961.html</td>\n",
       "      <td>3150</td>\n",
       "      <td>2br - 1300ft2</td>\n",
       "      <td>-122.026428</td>\n",
       "      <td>[townhouse, w/d in unit, no smoking, detached garage]</td>\n",
       "      <td>sunnyvale</td>\n",
       "      <td>https://maps.google.com/?q=loc%3A+%31%32%34%39+Crescent+Terrace+Sunnyvale+CA+US</td>\n",
       "      <td>Well designed and spacious 2 bedroom, 2 1/2 bath, 2-story townhome in the highly desired Sunset Oaks complex. Large rooms, laminate flooring on main level, carpeting in bedrooms on upper level, spacious closets, and an inside laundry area with full sized washer and dryer. Close proximity to Apple Park, Sunnyvale Community Center, Trader Joe's, Safeway, 24 Hour Super-Sport Fitness Center, Downtown Sunnyvale, great restaurants, parks, and more. Convenient access to freeways, Caltrain, and public transportation. Well maintained complex features lush greenery, sparkling pool, and clubhouse. Am...</td>\n",
       "      <td>None</td>\n",
       "      <td>[https://images.craigslist.org/00Z0Z_5KZmIXxAcj_600x450.jpg, https://images.craigslist.org/00f0f_eqAOkWzKH9m_600x450.jpg, https://images.craigslist.org/00y0y_2WSGICUax4Y_600x450.jpg, https://images.craigslist.org/00C0C_4w5vpVhBoRh_600x450.jpg, https://images.craigslist.org/00I0I_8JjGKr4anFd_600x450.jpg, https://images.craigslist.org/00p0p_hc2jAs6AYJP_600x450.jpg, https://images.craigslist.org/00i0i_isU6lMVulur_600x450.jpg, https://images.craigslist.org/00k0k_fT9RSBrpZQp_600x450.jpg, https://images.craigslist.org/00m0m_9onzPH5Vru8_600x450.jpg, https://images.craigslist.org/00g0g_cnYTjPcfytH...</td>\n",
       "      <td>Sunset Oaks Townhome- 1249 Crescent Terrace - Stocklmeir Elementary</td>\n",
       "      <td>6aea5603583644368e76bac8293aa38a</td>\n",
       "      <td>37.353754</td>\n",
       "    </tr>\n",
       "    <tr>\n",
       "      <th>1</th>\n",
       "      <td>$1769 / 2br - 875ft2 - ❄ Pittsburg Apartment Living, Gated Community, 24 Hour Fitness Gym (Pittsburg, CA) hide this posting unhide</td>\n",
       "      <td>2205 E Leland Rd</td>\n",
       "      <td>1539451812116</td>\n",
       "      <td>https://sfbay.craigslist.org/eby/apa/d/pittsburg-apartment-living/6720712945.html</td>\n",
       "      <td>1769</td>\n",
       "      <td>2br - 875ft2</td>\n",
       "      <td>-121.864673</td>\n",
       "      <td>[apartment]</td>\n",
       "      <td>Pittsburg, CA</td>\n",
       "      <td>https://maps.google.com/?q=loc%3A+%32%32%30%35+E+Leland+Rd+Pittsburg+CA+US</td>\n",
       "      <td>Diamond Hillside Apartment Homes offers spacious one and two-bedroom apartments for rent in Pittsburg, CA.\\n\\nThe apartments come with all-electric appliance packages that include microwaves and garbage disposals in the kitchens. The kitchens also include multi-cycle dishwashers for even more convenience. Wall-to-wall carpeting comes installed in the living areas, and stylish wood-inspired flooring comes outfitted in the kitchens and bathrooms. Additionally, many apartment homes within the community offer wood-burning fireplaces granite counters, and more.\\n\\nOnce you have settled into you...</td>\n",
       "      <td>None</td>\n",
       "      <td>[https://images.craigslist.org/00c0c_505E4utDZFh_600x450.jpg, https://images.craigslist.org/00f0f_emM16TQdCvw_600x450.jpg, https://images.craigslist.org/00p0p_lA80gKwuKt1_600x450.jpg, https://images.craigslist.org/00W0W_XfXkafrgFM_600x450.jpg, https://images.craigslist.org/00S0S_jdFCqw6wbZj_600x450.jpg, https://images.craigslist.org/00M0M_ic9Z0FY8zkV_600x450.jpg, https://images.craigslist.org/00t0t_7qijSexvO1N_600x450.jpg, https://images.craigslist.org/00n0n_jdfZ7tcuO6e_600x450.jpg]</td>\n",
       "      <td>❄ Pittsburg Apartment Living, Gated Community, 24 Hour Fitness Gym</td>\n",
       "      <td>0f490163255448ac973218ae45b7fa99</td>\n",
       "      <td>38.008321</td>\n",
       "    </tr>\n",
       "    <tr>\n",
       "      <th>2</th>\n",
       "      <td>$3000 / 2br - 1800ft2 - 2 Bedroom 1 Bath 1 Car Garage House (excelsior / outer mission) hide this posting unhide</td>\n",
       "      <td>375 Pope Street</td>\n",
       "      <td>1538947757137</td>\n",
       "      <td>https://sfbay.craigslist.org/sfc/apa/d/2-bedroom-1-bath-1-car-garage/6712471985.html</td>\n",
       "      <td>3000</td>\n",
       "      <td>2br - 1800ft2</td>\n",
       "      <td>-122.439706</td>\n",
       "      <td>[house, laundry in bldg, no smoking, attached garage]</td>\n",
       "      <td>excelsior / outer mission</td>\n",
       "      <td>https://maps.google.com/?q=loc%3A+%33%37%35+Pope+Street+San+Francisco+CA+US</td>\n",
       "      <td>clean 2 Bedroom 1 full bathroom 1 car garage. perfect for small family or working professionals in\\nquiet neighborhood.\\n\\nCentral heat , large yard, views of sf downtown skyline</td>\n",
       "      <td>None</td>\n",
       "      <td>[https://images.craigslist.org/00G0G_2bsd96Q2mrr_600x450.jpg, https://images.craigslist.org/00x0x_d9z7blVpQB4_600x450.jpg, https://images.craigslist.org/00K0K_a1TIthRZ9PV_600x450.jpg, https://images.craigslist.org/00y0y_WB9kvnlsjW_600x450.jpg, https://images.craigslist.org/00C0C_byA5WpNwoBS_600x450.jpg]</td>\n",
       "      <td>2 Bedroom 1 Bath 1 Car Garage House</td>\n",
       "      <td>ef4a3ac21bca461bab5364dbda00144c</td>\n",
       "      <td>37.710526</td>\n",
       "    </tr>\n",
       "    <tr>\n",
       "      <th>3</th>\n",
       "      <td>$2150 / 3br - 1200ft2 - Updated 1200 SQ FT 3 Bed 1.5 Bath 2-story house for rent (fairfield / vacaville)</td>\n",
       "      <td>2436 Baltic Dr</td>\n",
       "      <td>1585287116209</td>\n",
       "      <td>https://sfbay.craigslist.org/eby/apa/d/fairfield-updated-1200-sq-ft-3-bed-15/7097278416.html</td>\n",
       "      <td>2150</td>\n",
       "      <td>3br - 1200ft2</td>\n",
       "      <td>-122.019156</td>\n",
       "      <td>[house, w/d hookups, detached garage]</td>\n",
       "      <td>fairfield / vacaville</td>\n",
       "      <td>https://www.google.com/maps/search/38.274790,-122.019156</td>\n",
       "      <td>Updated 1200 SQ FT 3 Bed 1.5 Bath 2-story house for rent Double Garage with Long Driveway\\n\\n\\n\\nType: Single Family\\n\\nPlease Do Not call (will not be answered). Text message only @ 415 812-561(five)\\n\\nMonthly rent: $2,150\\n\\n\\nOpen house:\\n\\nSaturday, March 28, 2020 From 02:00PM to 5:00PM\\n\\n\\nLocation:\\n2436 Baltic Dr, Fairfield, CA 94533\\n\\nLEASE CONDITIONS\\n- Available NOW\\n- 1 year lease minimum\\n- Utilities: Tenant is responsible for all utilities\\n- Parking: Street, driveway, and Garage (Double Garage)\\n- Non-smoking tenants only\\n- Must pass credit, employment, and criminal backg...</td>\n",
       "      <td>None</td>\n",
       "      <td>[https://images.craigslist.org/00s0s_fp0FHrerEwR_600x450.jpg, https://images.craigslist.org/00707_j8skVNDUVvK_600x450.jpg, https://images.craigslist.org/00P0P_dQlOAXxPEbh_600x450.jpg, https://images.craigslist.org/00t0t_c2AEgwquxXU_600x450.jpg, https://images.craigslist.org/00O0O_5CZXcYGOm6T_600x450.jpg, https://images.craigslist.org/00E0E_j5i4jyly4PM_600x450.jpg, https://images.craigslist.org/00O0O_9LcxW5yFABP_600x450.jpg, https://images.craigslist.org/00101_eC0AIjWKriH_600x450.jpg, https://images.craigslist.org/00404_gHziugPipMu_600x450.jpg, https://images.craigslist.org/00r0r_koE3GY7SzI...</td>\n",
       "      <td>Updated 1200 SQ FT 3 Bed 1.5 Bath 2-story house for rent</td>\n",
       "      <td>bad01973976c49a88c0f45894ae19cc3</td>\n",
       "      <td>38.27479</td>\n",
       "    </tr>\n",
       "    <tr>\n",
       "      <th>4</th>\n",
       "      <td>$2150 / 1br - 726ft2 - FULLY RENOVATED 1BED 1BATH IN HAYWARD! PRE-LEASING, CALL FOR DETAILS! (hayward / castro valley)</td>\n",
       "      <td>1182 E Street near 2nd</td>\n",
       "      <td>1587684611249</td>\n",
       "      <td>https://sfbay.craigslist.org/eby/apa/d/hayward-fully-renovated-1bed-1bath-in/7112941389.html</td>\n",
       "      <td>2150</td>\n",
       "      <td>1br - 726ft2</td>\n",
       "      <td>-122.076737</td>\n",
       "      <td>[cats are OK - purrr, dogs are OK - wooof, apartment, w/d in unit, no smoking, carport]</td>\n",
       "      <td>hayward / castro valley</td>\n",
       "      <td>https://www.google.com/maps/search/37.671644,-122.076737</td>\n",
       "      <td>Beautiful Fully Renovated 1 bedroom 1 bathroom 726 sq ft\\n\\nExperience the comforts of home at Andina Apartments in Hayward, California. Choose one of our spacious floor plans, which allow for ultimate privacy located in a secure setting with video surveillance. We offer , one, two and three bedroom apartment homes and Pen-Houses, with private balcony/patios. We feature built-in G.E./Hotpoint electric appliances, plenty of natural light, walk-in closets and cable-ready units. We have a convenient of Washer &amp; Dryer inside home and additional storage available. Call us today!\\n\\nAndina Apart...</td>\n",
       "      <td>None</td>\n",
       "      <td>[https://images.craigslist.org/01010_IJCcnFKWLL_600x450.jpg, https://images.craigslist.org/01717_cBLJN52rWEG_600x450.jpg, https://images.craigslist.org/00p0p_3AD87TL5IAD_600x450.jpg, https://images.craigslist.org/00k0k_4bfOluAhsO3_600x450.jpg, https://images.craigslist.org/00G0G_hMfGlDTaj5y_600x450.jpg, https://images.craigslist.org/00S0S_5foI5Rko4o5_600x450.jpg, https://images.craigslist.org/01717_dRD7vzRxodr_600x450.jpg, https://images.craigslist.org/01414_hB8Jup1JLsi_600x450.jpg]</td>\n",
       "      <td>FULLY RENOVATED 1BED 1BATH IN HAYWARD! PRE-LEASING, CALL FOR DETAILS!</td>\n",
       "      <td>51f6a9ed9e224966b5fe96faf83521a1</td>\n",
       "      <td>37.671644</td>\n",
       "    </tr>\n",
       "  </tbody>\n",
       "</table>\n",
       "</div>"
      ],
      "text/plain": [
       "                                                                                                              parsed_postingtitletext  \\\n",
       "0    $3150 / 2br - 1300ft2 - Sunset Oaks Townhome- 1249 Crescent Terrace - Stocklmeir Elementary (sunnyvale) hide this posting unhide   \n",
       "1  $1769 / 2br - 875ft2 - ❄ Pittsburg Apartment Living, Gated Community, 24 Hour Fitness Gym (Pittsburg, CA) hide this posting unhide   \n",
       "2                    $3000 / 2br - 1800ft2 - 2 Bedroom 1 Bath 1 Car Garage House (excelsior / outer mission) hide this posting unhide   \n",
       "3                            $2150 / 3br - 1200ft2 - Updated 1200 SQ FT 3 Bed 1.5 Bath 2-story house for rent (fairfield / vacaville)   \n",
       "4              $2150 / 1br - 726ft2 - FULLY RENOVATED 1BED 1BATH IN HAYWARD! PRE-LEASING, CALL FOR DETAILS! (hayward / castro valley)   \n",
       "\n",
       "       parsed_map_address          added  \\\n",
       "0   1249 Crescent Terrace  1538706586266   \n",
       "1        2205 E Leland Rd  1539451812116   \n",
       "2         375 Pope Street  1538947757137   \n",
       "3          2436 Baltic Dr  1585287116209   \n",
       "4  1182 E Street near 2nd  1587684611249   \n",
       "\n",
       "                                                                                        PostUrl  \\\n",
       "0              https://sfbay.craigslist.org/sby/apa/d/sunset-oaks-townhome-1249/6709118961.html   \n",
       "1             https://sfbay.craigslist.org/eby/apa/d/pittsburg-apartment-living/6720712945.html   \n",
       "2          https://sfbay.craigslist.org/sfc/apa/d/2-bedroom-1-bath-1-car-garage/6712471985.html   \n",
       "3  https://sfbay.craigslist.org/eby/apa/d/fairfield-updated-1200-sq-ft-3-bed-15/7097278416.html   \n",
       "4  https://sfbay.craigslist.org/eby/apa/d/hayward-fully-renovated-1bed-1bath-in/7112941389.html   \n",
       "\n",
       "  parsed_price parsed_housing parsed_data_longitude  \\\n",
       "0         3150  2br - 1300ft2           -122.026428   \n",
       "1         1769   2br - 875ft2           -121.864673   \n",
       "2         3000  2br - 1800ft2           -122.439706   \n",
       "3         2150  3br - 1200ft2           -122.019156   \n",
       "4         2150   1br - 726ft2           -122.076737   \n",
       "\n",
       "                                                                              parsed_attrs  \\\n",
       "0                                    [townhouse, w/d in unit, no smoking, detached garage]   \n",
       "1                                                                              [apartment]   \n",
       "2                                    [house, laundry in bldg, no smoking, attached garage]   \n",
       "3                                                    [house, w/d hookups, detached garage]   \n",
       "4  [cats are OK - purrr, dogs are OK - wooof, apartment, w/d in unit, no smoking, carport]   \n",
       "\n",
       "             parsed_district  \\\n",
       "0                  sunnyvale   \n",
       "1              Pittsburg, CA   \n",
       "2  excelsior / outer mission   \n",
       "3      fairfield / vacaville   \n",
       "4    hayward / castro valley   \n",
       "\n",
       "                                                                   parsed_map_link  \\\n",
       "0  https://maps.google.com/?q=loc%3A+%31%32%34%39+Crescent+Terrace+Sunnyvale+CA+US   \n",
       "1       https://maps.google.com/?q=loc%3A+%32%32%30%35+E+Leland+Rd+Pittsburg+CA+US   \n",
       "2      https://maps.google.com/?q=loc%3A+%33%37%35+Pope+Street+San+Francisco+CA+US   \n",
       "3                         https://www.google.com/maps/search/38.274790,-122.019156   \n",
       "4                         https://www.google.com/maps/search/37.671644,-122.076737   \n",
       "\n",
       "                                                                                                                                                                                                                                                                                                                                                                                                                                                                                                                                                                                                        parsed_postingbody  \\\n",
       "0  Well designed and spacious 2 bedroom, 2 1/2 bath, 2-story townhome in the highly desired Sunset Oaks complex. Large rooms, laminate flooring on main level, carpeting in bedrooms on upper level, spacious closets, and an inside laundry area with full sized washer and dryer. Close proximity to Apple Park, Sunnyvale Community Center, Trader Joe's, Safeway, 24 Hour Super-Sport Fitness Center, Downtown Sunnyvale, great restaurants, parks, and more. Convenient access to freeways, Caltrain, and public transportation. Well maintained complex features lush greenery, sparkling pool, and clubhouse. Am...   \n",
       "1  Diamond Hillside Apartment Homes offers spacious one and two-bedroom apartments for rent in Pittsburg, CA.\\n\\nThe apartments come with all-electric appliance packages that include microwaves and garbage disposals in the kitchens. The kitchens also include multi-cycle dishwashers for even more convenience. Wall-to-wall carpeting comes installed in the living areas, and stylish wood-inspired flooring comes outfitted in the kitchens and bathrooms. Additionally, many apartment homes within the community offer wood-burning fireplaces granite counters, and more.\\n\\nOnce you have settled into you...   \n",
       "2                                                                                                                                                                                                                                                                                                                                                                                                                                       clean 2 Bedroom 1 full bathroom 1 car garage. perfect for small family or working professionals in\\nquiet neighborhood.\\n\\nCentral heat , large yard, views of sf downtown skyline   \n",
       "3  Updated 1200 SQ FT 3 Bed 1.5 Bath 2-story house for rent Double Garage with Long Driveway\\n\\n\\n\\nType: Single Family\\n\\nPlease Do Not call (will not be answered). Text message only @ 415 812-561(five)\\n\\nMonthly rent: $2,150\\n\\n\\nOpen house:\\n\\nSaturday, March 28, 2020 From 02:00PM to 5:00PM\\n\\n\\nLocation:\\n2436 Baltic Dr, Fairfield, CA 94533\\n\\nLEASE CONDITIONS\\n- Available NOW\\n- 1 year lease minimum\\n- Utilities: Tenant is responsible for all utilities\\n- Parking: Street, driveway, and Garage (Double Garage)\\n- Non-smoking tenants only\\n- Must pass credit, employment, and criminal backg...   \n",
       "4  Beautiful Fully Renovated 1 bedroom 1 bathroom 726 sq ft\\n\\nExperience the comforts of home at Andina Apartments in Hayward, California. Choose one of our spacious floor plans, which allow for ultimate privacy located in a secure setting with video surveillance. We offer , one, two and three bedroom apartment homes and Pen-Houses, with private balcony/patios. We feature built-in G.E./Hotpoint electric appliances, plenty of natural light, walk-in closets and cable-ready units. We have a convenient of Washer & Dryer inside home and additional storage available. Call us today!\\n\\nAndina Apart...   \n",
       "\n",
       "  parsed_page_head  \\\n",
       "0             None   \n",
       "1             None   \n",
       "2             None   \n",
       "3             None   \n",
       "4             None   \n",
       "\n",
       "                                                                                                                                                                                                                                                                                                                                                                                                                                                                                                                                                                                                             parsed_thumbs  \\\n",
       "0  [https://images.craigslist.org/00Z0Z_5KZmIXxAcj_600x450.jpg, https://images.craigslist.org/00f0f_eqAOkWzKH9m_600x450.jpg, https://images.craigslist.org/00y0y_2WSGICUax4Y_600x450.jpg, https://images.craigslist.org/00C0C_4w5vpVhBoRh_600x450.jpg, https://images.craigslist.org/00I0I_8JjGKr4anFd_600x450.jpg, https://images.craigslist.org/00p0p_hc2jAs6AYJP_600x450.jpg, https://images.craigslist.org/00i0i_isU6lMVulur_600x450.jpg, https://images.craigslist.org/00k0k_fT9RSBrpZQp_600x450.jpg, https://images.craigslist.org/00m0m_9onzPH5Vru8_600x450.jpg, https://images.craigslist.org/00g0g_cnYTjPcfytH...   \n",
       "1                                                                                                                  [https://images.craigslist.org/00c0c_505E4utDZFh_600x450.jpg, https://images.craigslist.org/00f0f_emM16TQdCvw_600x450.jpg, https://images.craigslist.org/00p0p_lA80gKwuKt1_600x450.jpg, https://images.craigslist.org/00W0W_XfXkafrgFM_600x450.jpg, https://images.craigslist.org/00S0S_jdFCqw6wbZj_600x450.jpg, https://images.craigslist.org/00M0M_ic9Z0FY8zkV_600x450.jpg, https://images.craigslist.org/00t0t_7qijSexvO1N_600x450.jpg, https://images.craigslist.org/00n0n_jdfZ7tcuO6e_600x450.jpg]   \n",
       "2                                                                                                                                                                                                                                                                                                         [https://images.craigslist.org/00G0G_2bsd96Q2mrr_600x450.jpg, https://images.craigslist.org/00x0x_d9z7blVpQB4_600x450.jpg, https://images.craigslist.org/00K0K_a1TIthRZ9PV_600x450.jpg, https://images.craigslist.org/00y0y_WB9kvnlsjW_600x450.jpg, https://images.craigslist.org/00C0C_byA5WpNwoBS_600x450.jpg]   \n",
       "3  [https://images.craigslist.org/00s0s_fp0FHrerEwR_600x450.jpg, https://images.craigslist.org/00707_j8skVNDUVvK_600x450.jpg, https://images.craigslist.org/00P0P_dQlOAXxPEbh_600x450.jpg, https://images.craigslist.org/00t0t_c2AEgwquxXU_600x450.jpg, https://images.craigslist.org/00O0O_5CZXcYGOm6T_600x450.jpg, https://images.craigslist.org/00E0E_j5i4jyly4PM_600x450.jpg, https://images.craigslist.org/00O0O_9LcxW5yFABP_600x450.jpg, https://images.craigslist.org/00101_eC0AIjWKriH_600x450.jpg, https://images.craigslist.org/00404_gHziugPipMu_600x450.jpg, https://images.craigslist.org/00r0r_koE3GY7SzI...   \n",
       "4                                                                                                                  [https://images.craigslist.org/01010_IJCcnFKWLL_600x450.jpg, https://images.craigslist.org/01717_cBLJN52rWEG_600x450.jpg, https://images.craigslist.org/00p0p_3AD87TL5IAD_600x450.jpg, https://images.craigslist.org/00k0k_4bfOluAhsO3_600x450.jpg, https://images.craigslist.org/00G0G_hMfGlDTaj5y_600x450.jpg, https://images.craigslist.org/00S0S_5foI5Rko4o5_600x450.jpg, https://images.craigslist.org/01717_dRD7vzRxodr_600x450.jpg, https://images.craigslist.org/01414_hB8Jup1JLsi_600x450.jpg]   \n",
       "\n",
       "                                                    parsed_titletextonly  \\\n",
       "0    Sunset Oaks Townhome- 1249 Crescent Terrace - Stocklmeir Elementary   \n",
       "1     ❄ Pittsburg Apartment Living, Gated Community, 24 Hour Fitness Gym   \n",
       "2                                    2 Bedroom 1 Bath 1 Car Garage House   \n",
       "3               Updated 1200 SQ FT 3 Bed 1.5 Bath 2-story house for rent   \n",
       "4  FULLY RENOVATED 1BED 1BATH IN HAYWARD! PRE-LEASING, CALL FOR DETAILS!   \n",
       "\n",
       "                              intid parsed_data_latitude  \n",
       "0  6aea5603583644368e76bac8293aa38a            37.353754  \n",
       "1  0f490163255448ac973218ae45b7fa99            38.008321  \n",
       "2  ef4a3ac21bca461bab5364dbda00144c            37.710526  \n",
       "3  bad01973976c49a88c0f45894ae19cc3             38.27479  \n",
       "4  51f6a9ed9e224966b5fe96faf83521a1            37.671644  "
      ]
     },
     "execution_count": 14,
     "metadata": {},
     "output_type": "execute_result"
    }
   ],
   "source": [
    "df.head()"
   ]
  },
  {
   "cell_type": "code",
   "execution_count": 15,
   "metadata": {},
   "outputs": [
    {
     "data": {
      "text/plain": [
       "(843731, 16)"
      ]
     },
     "execution_count": 15,
     "metadata": {},
     "output_type": "execute_result"
    }
   ],
   "source": [
    "df.shape"
   ]
  },
  {
   "cell_type": "code",
   "execution_count": 16,
   "metadata": {},
   "outputs": [],
   "source": [
    "def get_type(attrs):\n",
    "    if not isinstance(attrs, list):\n",
    "        return None\n",
    "    types = set([\n",
    "        \"apartment\", \n",
    "        \"townhouse\", \n",
    "        \"loft\", \n",
    "        \"land\", \n",
    "        \"house\", \n",
    "        \"duplex\", \n",
    "        \"flat\", \n",
    "        \"condo\", \n",
    "        \"cottage/cabin\"\n",
    "    ])\n",
    "    return \",\".join(sorted(types & set(attrs)))"
   ]
  },
  {
   "cell_type": "code",
   "execution_count": 17,
   "metadata": {},
   "outputs": [],
   "source": [
    "def prepare_data(df):\n",
    "    new  = pd.DataFrame()\n",
    "    new[\"PostUrl\"] = df[\"PostUrl\"]\n",
    "    new[\"latitude\"] = df[\"parsed_data_latitude\"]\n",
    "    new[\"longitude\"] = df[\"parsed_data_longitude\"]\n",
    "    new[\"district\"] = df[\"parsed_district\"].map(lambda s: s.strip(\"()\") if isinstance(s, str) else s)\n",
    "    new[\"address\"] = df[\"parsed_map_address\"].map(lambda x: x if x != \"(google map)\" else None)\n",
    "    new[\"housing\"] = df[\"parsed_housing\"]\n",
    "    \n",
    "    new[\"price\"] = df[\"parsed_price\"].map(lambda x: float(x) if x else x)\n",
    "    \n",
    "    # to numerical values\n",
    "    new['price'] = pd.to_numeric(new['price'])\n",
    "    new['longitude'] = pd.to_numeric(new['longitude'])\n",
    "    new['latitude'] = pd.to_numeric(new['latitude'])\n",
    "    \n",
    "    new['bedrooms'] = new['housing'].str.extract('(\\d+)br\\s.*', expand=True)\n",
    "    new['bedrooms'] = pd.to_numeric(new['bedrooms'])\n",
    "    \n",
    "    new['area'] = new['housing'].str.extract('(\\d+)ft2', expand=True)\n",
    "    new['area'] = pd.to_numeric(new['area'])\n",
    "    \n",
    "    new['type'] = df[\"parsed_attrs\"].map(get_type)\n",
    "    new['catsok'] = df[\"parsed_attrs\"].map(lambda x: \"cats are OK - purrr\" in x)\n",
    "    new['dogsok'] = df[\"parsed_attrs\"].map(lambda x: \"dogs are OK - wooof\" in x)\n",
    "    new['garagea'] = df[\"parsed_attrs\"].map(lambda x: \"attached garage\" in x)\n",
    "    new['garaged'] = df[\"parsed_attrs\"].map(lambda x: \"detached garage\" in x)\n",
    "    new['furnished'] = df[\"parsed_attrs\"].map(lambda x: \"furnished\" in x)\n",
    "    \n",
    "    new['laundryb'] = df[\"parsed_attrs\"].map(lambda x: \"laundry in bldg\" in x)\n",
    "    new['laundrys'] = df[\"parsed_attrs\"].map(lambda x: \"laundry on site\" in x)\n",
    "    \n",
    "    new['wd'] = df[\"parsed_attrs\"].map(lambda x: \"w/d in unit\" in x)\n",
    "    new['nthumbs'] = df[\"parsed_thumbs\"].apply(lambda x: len(x) if isinstance(x, list) else 0)\n",
    "\n",
    "    return new"
   ]
  },
  {
   "cell_type": "code",
   "execution_count": 18,
   "metadata": {},
   "outputs": [],
   "source": [
    "short = prepare_data(df)"
   ]
  },
  {
   "cell_type": "code",
   "execution_count": 19,
   "metadata": {},
   "outputs": [
    {
     "data": {
      "text/html": [
       "<div>\n",
       "<style scoped>\n",
       "    .dataframe tbody tr th:only-of-type {\n",
       "        vertical-align: middle;\n",
       "    }\n",
       "\n",
       "    .dataframe tbody tr th {\n",
       "        vertical-align: top;\n",
       "    }\n",
       "\n",
       "    .dataframe thead th {\n",
       "        text-align: right;\n",
       "    }\n",
       "</style>\n",
       "<table border=\"1\" class=\"dataframe\">\n",
       "  <thead>\n",
       "    <tr style=\"text-align: right;\">\n",
       "      <th></th>\n",
       "      <th>PostUrl</th>\n",
       "      <th>latitude</th>\n",
       "      <th>longitude</th>\n",
       "      <th>district</th>\n",
       "      <th>address</th>\n",
       "      <th>housing</th>\n",
       "      <th>price</th>\n",
       "      <th>bedrooms</th>\n",
       "      <th>area</th>\n",
       "      <th>type</th>\n",
       "      <th>catsok</th>\n",
       "      <th>dogsok</th>\n",
       "      <th>garagea</th>\n",
       "      <th>garaged</th>\n",
       "      <th>furnished</th>\n",
       "      <th>laundryb</th>\n",
       "      <th>laundrys</th>\n",
       "      <th>wd</th>\n",
       "      <th>nthumbs</th>\n",
       "    </tr>\n",
       "  </thead>\n",
       "  <tbody>\n",
       "    <tr>\n",
       "      <th>0</th>\n",
       "      <td>https://sfbay.craigslist.org/sby/apa/d/sunset-oaks-townhome-1249/6709118961.html</td>\n",
       "      <td>37.353754</td>\n",
       "      <td>-122.026428</td>\n",
       "      <td>sunnyvale</td>\n",
       "      <td>1249 Crescent Terrace</td>\n",
       "      <td>2br - 1300ft2</td>\n",
       "      <td>3150.0</td>\n",
       "      <td>2.0</td>\n",
       "      <td>1300.0</td>\n",
       "      <td>townhouse</td>\n",
       "      <td>False</td>\n",
       "      <td>False</td>\n",
       "      <td>False</td>\n",
       "      <td>True</td>\n",
       "      <td>False</td>\n",
       "      <td>False</td>\n",
       "      <td>False</td>\n",
       "      <td>True</td>\n",
       "      <td>18</td>\n",
       "    </tr>\n",
       "    <tr>\n",
       "      <th>1</th>\n",
       "      <td>https://sfbay.craigslist.org/eby/apa/d/pittsburg-apartment-living/6720712945.html</td>\n",
       "      <td>38.008321</td>\n",
       "      <td>-121.864673</td>\n",
       "      <td>Pittsburg, CA</td>\n",
       "      <td>2205 E Leland Rd</td>\n",
       "      <td>2br - 875ft2</td>\n",
       "      <td>1769.0</td>\n",
       "      <td>2.0</td>\n",
       "      <td>875.0</td>\n",
       "      <td>apartment</td>\n",
       "      <td>False</td>\n",
       "      <td>False</td>\n",
       "      <td>False</td>\n",
       "      <td>False</td>\n",
       "      <td>False</td>\n",
       "      <td>False</td>\n",
       "      <td>False</td>\n",
       "      <td>False</td>\n",
       "      <td>8</td>\n",
       "    </tr>\n",
       "    <tr>\n",
       "      <th>2</th>\n",
       "      <td>https://sfbay.craigslist.org/sfc/apa/d/2-bedroom-1-bath-1-car-garage/6712471985.html</td>\n",
       "      <td>37.710526</td>\n",
       "      <td>-122.439706</td>\n",
       "      <td>excelsior / outer mission</td>\n",
       "      <td>375 Pope Street</td>\n",
       "      <td>2br - 1800ft2</td>\n",
       "      <td>3000.0</td>\n",
       "      <td>2.0</td>\n",
       "      <td>1800.0</td>\n",
       "      <td>house</td>\n",
       "      <td>False</td>\n",
       "      <td>False</td>\n",
       "      <td>True</td>\n",
       "      <td>False</td>\n",
       "      <td>False</td>\n",
       "      <td>True</td>\n",
       "      <td>False</td>\n",
       "      <td>False</td>\n",
       "      <td>5</td>\n",
       "    </tr>\n",
       "    <tr>\n",
       "      <th>3</th>\n",
       "      <td>https://sfbay.craigslist.org/eby/apa/d/fairfield-updated-1200-sq-ft-3-bed-15/7097278416.html</td>\n",
       "      <td>38.274790</td>\n",
       "      <td>-122.019156</td>\n",
       "      <td>fairfield / vacaville</td>\n",
       "      <td>2436 Baltic Dr</td>\n",
       "      <td>3br - 1200ft2</td>\n",
       "      <td>2150.0</td>\n",
       "      <td>3.0</td>\n",
       "      <td>1200.0</td>\n",
       "      <td>house</td>\n",
       "      <td>False</td>\n",
       "      <td>False</td>\n",
       "      <td>False</td>\n",
       "      <td>True</td>\n",
       "      <td>False</td>\n",
       "      <td>False</td>\n",
       "      <td>False</td>\n",
       "      <td>False</td>\n",
       "      <td>10</td>\n",
       "    </tr>\n",
       "    <tr>\n",
       "      <th>4</th>\n",
       "      <td>https://sfbay.craigslist.org/eby/apa/d/hayward-fully-renovated-1bed-1bath-in/7112941389.html</td>\n",
       "      <td>37.671644</td>\n",
       "      <td>-122.076737</td>\n",
       "      <td>hayward / castro valley</td>\n",
       "      <td>1182 E Street near 2nd</td>\n",
       "      <td>1br - 726ft2</td>\n",
       "      <td>2150.0</td>\n",
       "      <td>1.0</td>\n",
       "      <td>726.0</td>\n",
       "      <td>apartment</td>\n",
       "      <td>True</td>\n",
       "      <td>True</td>\n",
       "      <td>False</td>\n",
       "      <td>False</td>\n",
       "      <td>False</td>\n",
       "      <td>False</td>\n",
       "      <td>False</td>\n",
       "      <td>True</td>\n",
       "      <td>8</td>\n",
       "    </tr>\n",
       "    <tr>\n",
       "      <th>...</th>\n",
       "      <td>...</td>\n",
       "      <td>...</td>\n",
       "      <td>...</td>\n",
       "      <td>...</td>\n",
       "      <td>...</td>\n",
       "      <td>...</td>\n",
       "      <td>...</td>\n",
       "      <td>...</td>\n",
       "      <td>...</td>\n",
       "      <td>...</td>\n",
       "      <td>...</td>\n",
       "      <td>...</td>\n",
       "      <td>...</td>\n",
       "      <td>...</td>\n",
       "      <td>...</td>\n",
       "      <td>...</td>\n",
       "      <td>...</td>\n",
       "      <td>...</td>\n",
       "      <td>...</td>\n",
       "    </tr>\n",
       "    <tr>\n",
       "      <th>843726</th>\n",
       "      <td>https://sfbay.craigslist.org/sby/apa/d/ideal-1br-1ba-apt-prime-santa/6709995677.html</td>\n",
       "      <td>37.337841</td>\n",
       "      <td>-121.978369</td>\n",
       "      <td>santa clara</td>\n",
       "      <td>2865 Homestead Rd</td>\n",
       "      <td>1br - 750ft2</td>\n",
       "      <td>2195.0</td>\n",
       "      <td>1.0</td>\n",
       "      <td>750.0</td>\n",
       "      <td>apartment</td>\n",
       "      <td>True</td>\n",
       "      <td>False</td>\n",
       "      <td>False</td>\n",
       "      <td>False</td>\n",
       "      <td>False</td>\n",
       "      <td>False</td>\n",
       "      <td>True</td>\n",
       "      <td>False</td>\n",
       "      <td>12</td>\n",
       "    </tr>\n",
       "    <tr>\n",
       "      <th>843727</th>\n",
       "      <td>https://sfbay.craigslist.org/eby/apa/d/fremont-2-bed-15-bath-corner-unit/7071943857.html</td>\n",
       "      <td>37.552033</td>\n",
       "      <td>-121.996875</td>\n",
       "      <td>fremont / union city / newark</td>\n",
       "      <td>4095 EGGERS DR</td>\n",
       "      <td>2br - 1000ft2</td>\n",
       "      <td>2800.0</td>\n",
       "      <td>2.0</td>\n",
       "      <td>1000.0</td>\n",
       "      <td>townhouse</td>\n",
       "      <td>False</td>\n",
       "      <td>False</td>\n",
       "      <td>False</td>\n",
       "      <td>True</td>\n",
       "      <td>False</td>\n",
       "      <td>False</td>\n",
       "      <td>False</td>\n",
       "      <td>True</td>\n",
       "      <td>8</td>\n",
       "    </tr>\n",
       "    <tr>\n",
       "      <th>843728</th>\n",
       "      <td>https://sfbay.craigslist.org/eby/apa/d/your-new-home-awaits-in/6608718676.html</td>\n",
       "      <td>NaN</td>\n",
       "      <td>NaN</td>\n",
       "      <td>fairfield / vacaville</td>\n",
       "      <td>NaN</td>\n",
       "      <td>/ 2br - 918ft2 -</td>\n",
       "      <td>1965.0</td>\n",
       "      <td>2.0</td>\n",
       "      <td>918.0</td>\n",
       "      <td></td>\n",
       "      <td>False</td>\n",
       "      <td>False</td>\n",
       "      <td>False</td>\n",
       "      <td>False</td>\n",
       "      <td>False</td>\n",
       "      <td>False</td>\n",
       "      <td>False</td>\n",
       "      <td>False</td>\n",
       "      <td>18</td>\n",
       "    </tr>\n",
       "    <tr>\n",
       "      <th>843729</th>\n",
       "      <td>https://sfbay.craigslist.org/sfc/apa/d/san-francisco-furnished-modern-rincon/7087963613.html</td>\n",
       "      <td>37.787295</td>\n",
       "      <td>-122.392719</td>\n",
       "      <td>Rincon Hill</td>\n",
       "      <td>340 Fremont St, San Francisco, CA 94105, USA</td>\n",
       "      <td>1br - 708ft2</td>\n",
       "      <td>4890.0</td>\n",
       "      <td>1.0</td>\n",
       "      <td>708.0</td>\n",
       "      <td>apartment</td>\n",
       "      <td>True</td>\n",
       "      <td>True</td>\n",
       "      <td>False</td>\n",
       "      <td>False</td>\n",
       "      <td>True</td>\n",
       "      <td>False</td>\n",
       "      <td>False</td>\n",
       "      <td>True</td>\n",
       "      <td>22</td>\n",
       "    </tr>\n",
       "    <tr>\n",
       "      <th>843730</th>\n",
       "      <td>https://sfbay.craigslist.org/sfc/apa/d/san-jose-1-br-1-ba-nearby-ucsf-medical/7073435358.html</td>\n",
       "      <td>37.310800</td>\n",
       "      <td>-121.962300</td>\n",
       "      <td>ingleside / SFSU / CCSF</td>\n",
       "      <td>None</td>\n",
       "      <td>1br - 750ft2</td>\n",
       "      <td>2750.0</td>\n",
       "      <td>1.0</td>\n",
       "      <td>750.0</td>\n",
       "      <td>apartment</td>\n",
       "      <td>False</td>\n",
       "      <td>False</td>\n",
       "      <td>False</td>\n",
       "      <td>True</td>\n",
       "      <td>False</td>\n",
       "      <td>False</td>\n",
       "      <td>True</td>\n",
       "      <td>False</td>\n",
       "      <td>7</td>\n",
       "    </tr>\n",
       "  </tbody>\n",
       "</table>\n",
       "<p>843731 rows × 19 columns</p>\n",
       "</div>"
      ],
      "text/plain": [
       "                                                                                              PostUrl  \\\n",
       "0                    https://sfbay.craigslist.org/sby/apa/d/sunset-oaks-townhome-1249/6709118961.html   \n",
       "1                   https://sfbay.craigslist.org/eby/apa/d/pittsburg-apartment-living/6720712945.html   \n",
       "2                https://sfbay.craigslist.org/sfc/apa/d/2-bedroom-1-bath-1-car-garage/6712471985.html   \n",
       "3        https://sfbay.craigslist.org/eby/apa/d/fairfield-updated-1200-sq-ft-3-bed-15/7097278416.html   \n",
       "4        https://sfbay.craigslist.org/eby/apa/d/hayward-fully-renovated-1bed-1bath-in/7112941389.html   \n",
       "...                                                                                               ...   \n",
       "843726           https://sfbay.craigslist.org/sby/apa/d/ideal-1br-1ba-apt-prime-santa/6709995677.html   \n",
       "843727       https://sfbay.craigslist.org/eby/apa/d/fremont-2-bed-15-bath-corner-unit/7071943857.html   \n",
       "843728                 https://sfbay.craigslist.org/eby/apa/d/your-new-home-awaits-in/6608718676.html   \n",
       "843729   https://sfbay.craigslist.org/sfc/apa/d/san-francisco-furnished-modern-rincon/7087963613.html   \n",
       "843730  https://sfbay.craigslist.org/sfc/apa/d/san-jose-1-br-1-ba-nearby-ucsf-medical/7073435358.html   \n",
       "\n",
       "         latitude   longitude                       district  \\\n",
       "0       37.353754 -122.026428                      sunnyvale   \n",
       "1       38.008321 -121.864673                  Pittsburg, CA   \n",
       "2       37.710526 -122.439706      excelsior / outer mission   \n",
       "3       38.274790 -122.019156          fairfield / vacaville   \n",
       "4       37.671644 -122.076737        hayward / castro valley   \n",
       "...           ...         ...                            ...   \n",
       "843726  37.337841 -121.978369                    santa clara   \n",
       "843727  37.552033 -121.996875  fremont / union city / newark   \n",
       "843728        NaN         NaN          fairfield / vacaville   \n",
       "843729  37.787295 -122.392719                    Rincon Hill   \n",
       "843730  37.310800 -121.962300        ingleside / SFSU / CCSF   \n",
       "\n",
       "                                             address           housing  \\\n",
       "0                              1249 Crescent Terrace     2br - 1300ft2   \n",
       "1                                   2205 E Leland Rd      2br - 875ft2   \n",
       "2                                    375 Pope Street     2br - 1800ft2   \n",
       "3                                     2436 Baltic Dr     3br - 1200ft2   \n",
       "4                             1182 E Street near 2nd      1br - 726ft2   \n",
       "...                                              ...               ...   \n",
       "843726                             2865 Homestead Rd      1br - 750ft2   \n",
       "843727                                4095 EGGERS DR     2br - 1000ft2   \n",
       "843728                                           NaN  / 2br - 918ft2 -   \n",
       "843729  340 Fremont St, San Francisco, CA 94105, USA      1br - 708ft2   \n",
       "843730                                          None      1br - 750ft2   \n",
       "\n",
       "         price  bedrooms    area       type  catsok  dogsok  garagea  garaged  \\\n",
       "0       3150.0       2.0  1300.0  townhouse   False   False    False     True   \n",
       "1       1769.0       2.0   875.0  apartment   False   False    False    False   \n",
       "2       3000.0       2.0  1800.0      house   False   False     True    False   \n",
       "3       2150.0       3.0  1200.0      house   False   False    False     True   \n",
       "4       2150.0       1.0   726.0  apartment    True    True    False    False   \n",
       "...        ...       ...     ...        ...     ...     ...      ...      ...   \n",
       "843726  2195.0       1.0   750.0  apartment    True   False    False    False   \n",
       "843727  2800.0       2.0  1000.0  townhouse   False   False    False     True   \n",
       "843728  1965.0       2.0   918.0              False   False    False    False   \n",
       "843729  4890.0       1.0   708.0  apartment    True    True    False    False   \n",
       "843730  2750.0       1.0   750.0  apartment   False   False    False     True   \n",
       "\n",
       "        furnished  laundryb  laundrys     wd  nthumbs  \n",
       "0           False     False     False   True       18  \n",
       "1           False     False     False  False        8  \n",
       "2           False      True     False  False        5  \n",
       "3           False     False     False  False       10  \n",
       "4           False     False     False   True        8  \n",
       "...           ...       ...       ...    ...      ...  \n",
       "843726      False     False      True  False       12  \n",
       "843727      False     False     False   True        8  \n",
       "843728      False     False     False  False       18  \n",
       "843729       True     False     False   True       22  \n",
       "843730      False     False      True  False        7  \n",
       "\n",
       "[843731 rows x 19 columns]"
      ]
     },
     "execution_count": 19,
     "metadata": {},
     "output_type": "execute_result"
    }
   ],
   "source": [
    "short"
   ]
  },
  {
   "cell_type": "code",
   "execution_count": 20,
   "metadata": {},
   "outputs": [
    {
     "data": {
      "text/plain": [
       "(843731, 19)"
      ]
     },
     "execution_count": 20,
     "metadata": {},
     "output_type": "execute_result"
    }
   ],
   "source": [
    "short.shape"
   ]
  },
  {
   "cell_type": "code",
   "execution_count": 21,
   "metadata": {},
   "outputs": [
    {
     "data": {
      "text/plain": [
       "(838998, 19)"
      ]
     },
     "execution_count": 21,
     "metadata": {},
     "output_type": "execute_result"
    }
   ],
   "source": [
    "short.dropna(subset=[\"price\"], inplace=True)\n",
    "short.shape"
   ]
  },
  {
   "cell_type": "code",
   "execution_count": 22,
   "metadata": {},
   "outputs": [
    {
     "data": {
      "text/plain": [
       "count    8.389980e+05\n",
       "mean     3.575694e+14\n",
       "std      3.275222e+17\n",
       "min      0.000000e+00\n",
       "25%      2.095000e+03\n",
       "50%      2.656000e+03\n",
       "75%      3.495000e+03\n",
       "max      3.000000e+20\n",
       "Name: price, dtype: float64"
      ]
     },
     "execution_count": 22,
     "metadata": {},
     "output_type": "execute_result"
    }
   ],
   "source": [
    "short[\"price\"].describe()"
   ]
  },
  {
   "cell_type": "code",
   "execution_count": 23,
   "metadata": {},
   "outputs": [],
   "source": [
    "# change all prices more than 9k to to 9 k\n",
    "short.loc[short['price'] > 9000, \"price\"] = 9000"
   ]
  },
  {
   "cell_type": "code",
   "execution_count": 24,
   "metadata": {},
   "outputs": [
    {
     "data": {
      "text/plain": [
       "count    838998.000000\n",
       "mean       2934.234154\n",
       "std        1347.415174\n",
       "min           0.000000\n",
       "25%        2095.000000\n",
       "50%        2656.000000\n",
       "75%        3495.000000\n",
       "max        9000.000000\n",
       "Name: price, dtype: float64"
      ]
     },
     "execution_count": 24,
     "metadata": {},
     "output_type": "execute_result"
    }
   ],
   "source": [
    "short[\"price\"].describe()"
   ]
  },
  {
   "cell_type": "code",
   "execution_count": 25,
   "metadata": {},
   "outputs": [
    {
     "data": {
      "text/plain": [
       "(838998, 19)"
      ]
     },
     "execution_count": 25,
     "metadata": {},
     "output_type": "execute_result"
    }
   ],
   "source": [
    "short.shape"
   ]
  },
  {
   "cell_type": "code",
   "execution_count": 26,
   "metadata": {},
   "outputs": [
    {
     "data": {
      "text/plain": [
       "(578270, 19)"
      ]
     },
     "execution_count": 26,
     "metadata": {},
     "output_type": "execute_result"
    }
   ],
   "source": [
    "short.drop_duplicates(inplace=True)\n",
    "short.shape"
   ]
  },
  {
   "cell_type": "code",
   "execution_count": 27,
   "metadata": {},
   "outputs": [],
   "source": [
    "short['price_bucket'] = short['price'].apply(lambda x: f\"{x//500:02.0f}x500\")"
   ]
  },
  {
   "cell_type": "code",
   "execution_count": 28,
   "metadata": {},
   "outputs": [
    {
     "data": {
      "text/html": [
       "<div>\n",
       "<style scoped>\n",
       "    .dataframe tbody tr th:only-of-type {\n",
       "        vertical-align: middle;\n",
       "    }\n",
       "\n",
       "    .dataframe tbody tr th {\n",
       "        vertical-align: top;\n",
       "    }\n",
       "\n",
       "    .dataframe thead th {\n",
       "        text-align: right;\n",
       "    }\n",
       "</style>\n",
       "<table border=\"1\" class=\"dataframe\">\n",
       "  <thead>\n",
       "    <tr style=\"text-align: right;\">\n",
       "      <th></th>\n",
       "      <th>PostUrl</th>\n",
       "      <th>latitude</th>\n",
       "      <th>longitude</th>\n",
       "      <th>district</th>\n",
       "      <th>address</th>\n",
       "      <th>housing</th>\n",
       "      <th>price</th>\n",
       "      <th>bedrooms</th>\n",
       "      <th>area</th>\n",
       "      <th>type</th>\n",
       "      <th>catsok</th>\n",
       "      <th>dogsok</th>\n",
       "      <th>garagea</th>\n",
       "      <th>garaged</th>\n",
       "      <th>furnished</th>\n",
       "      <th>laundryb</th>\n",
       "      <th>laundrys</th>\n",
       "      <th>wd</th>\n",
       "      <th>nthumbs</th>\n",
       "      <th>price_bucket</th>\n",
       "    </tr>\n",
       "  </thead>\n",
       "  <tbody>\n",
       "    <tr>\n",
       "      <th>0</th>\n",
       "      <td>https://sfbay.craigslist.org/sby/apa/d/sunset-oaks-townhome-1249/6709118961.html</td>\n",
       "      <td>37.353754</td>\n",
       "      <td>-122.026428</td>\n",
       "      <td>sunnyvale</td>\n",
       "      <td>1249 Crescent Terrace</td>\n",
       "      <td>2br - 1300ft2</td>\n",
       "      <td>3150.0</td>\n",
       "      <td>2.0</td>\n",
       "      <td>1300.0</td>\n",
       "      <td>townhouse</td>\n",
       "      <td>False</td>\n",
       "      <td>False</td>\n",
       "      <td>False</td>\n",
       "      <td>True</td>\n",
       "      <td>False</td>\n",
       "      <td>False</td>\n",
       "      <td>False</td>\n",
       "      <td>True</td>\n",
       "      <td>18</td>\n",
       "      <td>06x500</td>\n",
       "    </tr>\n",
       "    <tr>\n",
       "      <th>1</th>\n",
       "      <td>https://sfbay.craigslist.org/eby/apa/d/pittsburg-apartment-living/6720712945.html</td>\n",
       "      <td>38.008321</td>\n",
       "      <td>-121.864673</td>\n",
       "      <td>Pittsburg, CA</td>\n",
       "      <td>2205 E Leland Rd</td>\n",
       "      <td>2br - 875ft2</td>\n",
       "      <td>1769.0</td>\n",
       "      <td>2.0</td>\n",
       "      <td>875.0</td>\n",
       "      <td>apartment</td>\n",
       "      <td>False</td>\n",
       "      <td>False</td>\n",
       "      <td>False</td>\n",
       "      <td>False</td>\n",
       "      <td>False</td>\n",
       "      <td>False</td>\n",
       "      <td>False</td>\n",
       "      <td>False</td>\n",
       "      <td>8</td>\n",
       "      <td>03x500</td>\n",
       "    </tr>\n",
       "    <tr>\n",
       "      <th>2</th>\n",
       "      <td>https://sfbay.craigslist.org/sfc/apa/d/2-bedroom-1-bath-1-car-garage/6712471985.html</td>\n",
       "      <td>37.710526</td>\n",
       "      <td>-122.439706</td>\n",
       "      <td>excelsior / outer mission</td>\n",
       "      <td>375 Pope Street</td>\n",
       "      <td>2br - 1800ft2</td>\n",
       "      <td>3000.0</td>\n",
       "      <td>2.0</td>\n",
       "      <td>1800.0</td>\n",
       "      <td>house</td>\n",
       "      <td>False</td>\n",
       "      <td>False</td>\n",
       "      <td>True</td>\n",
       "      <td>False</td>\n",
       "      <td>False</td>\n",
       "      <td>True</td>\n",
       "      <td>False</td>\n",
       "      <td>False</td>\n",
       "      <td>5</td>\n",
       "      <td>06x500</td>\n",
       "    </tr>\n",
       "    <tr>\n",
       "      <th>3</th>\n",
       "      <td>https://sfbay.craigslist.org/eby/apa/d/fairfield-updated-1200-sq-ft-3-bed-15/7097278416.html</td>\n",
       "      <td>38.274790</td>\n",
       "      <td>-122.019156</td>\n",
       "      <td>fairfield / vacaville</td>\n",
       "      <td>2436 Baltic Dr</td>\n",
       "      <td>3br - 1200ft2</td>\n",
       "      <td>2150.0</td>\n",
       "      <td>3.0</td>\n",
       "      <td>1200.0</td>\n",
       "      <td>house</td>\n",
       "      <td>False</td>\n",
       "      <td>False</td>\n",
       "      <td>False</td>\n",
       "      <td>True</td>\n",
       "      <td>False</td>\n",
       "      <td>False</td>\n",
       "      <td>False</td>\n",
       "      <td>False</td>\n",
       "      <td>10</td>\n",
       "      <td>04x500</td>\n",
       "    </tr>\n",
       "    <tr>\n",
       "      <th>4</th>\n",
       "      <td>https://sfbay.craigslist.org/eby/apa/d/hayward-fully-renovated-1bed-1bath-in/7112941389.html</td>\n",
       "      <td>37.671644</td>\n",
       "      <td>-122.076737</td>\n",
       "      <td>hayward / castro valley</td>\n",
       "      <td>1182 E Street near 2nd</td>\n",
       "      <td>1br - 726ft2</td>\n",
       "      <td>2150.0</td>\n",
       "      <td>1.0</td>\n",
       "      <td>726.0</td>\n",
       "      <td>apartment</td>\n",
       "      <td>True</td>\n",
       "      <td>True</td>\n",
       "      <td>False</td>\n",
       "      <td>False</td>\n",
       "      <td>False</td>\n",
       "      <td>False</td>\n",
       "      <td>False</td>\n",
       "      <td>True</td>\n",
       "      <td>8</td>\n",
       "      <td>04x500</td>\n",
       "    </tr>\n",
       "  </tbody>\n",
       "</table>\n",
       "</div>"
      ],
      "text/plain": [
       "                                                                                        PostUrl  \\\n",
       "0              https://sfbay.craigslist.org/sby/apa/d/sunset-oaks-townhome-1249/6709118961.html   \n",
       "1             https://sfbay.craigslist.org/eby/apa/d/pittsburg-apartment-living/6720712945.html   \n",
       "2          https://sfbay.craigslist.org/sfc/apa/d/2-bedroom-1-bath-1-car-garage/6712471985.html   \n",
       "3  https://sfbay.craigslist.org/eby/apa/d/fairfield-updated-1200-sq-ft-3-bed-15/7097278416.html   \n",
       "4  https://sfbay.craigslist.org/eby/apa/d/hayward-fully-renovated-1bed-1bath-in/7112941389.html   \n",
       "\n",
       "    latitude   longitude                   district                 address  \\\n",
       "0  37.353754 -122.026428                  sunnyvale   1249 Crescent Terrace   \n",
       "1  38.008321 -121.864673              Pittsburg, CA        2205 E Leland Rd   \n",
       "2  37.710526 -122.439706  excelsior / outer mission         375 Pope Street   \n",
       "3  38.274790 -122.019156      fairfield / vacaville          2436 Baltic Dr   \n",
       "4  37.671644 -122.076737    hayward / castro valley  1182 E Street near 2nd   \n",
       "\n",
       "         housing   price  bedrooms    area       type  catsok  dogsok  \\\n",
       "0  2br - 1300ft2  3150.0       2.0  1300.0  townhouse   False   False   \n",
       "1   2br - 875ft2  1769.0       2.0   875.0  apartment   False   False   \n",
       "2  2br - 1800ft2  3000.0       2.0  1800.0      house   False   False   \n",
       "3  3br - 1200ft2  2150.0       3.0  1200.0      house   False   False   \n",
       "4   1br - 726ft2  2150.0       1.0   726.0  apartment    True    True   \n",
       "\n",
       "   garagea  garaged  furnished  laundryb  laundrys     wd  nthumbs  \\\n",
       "0    False     True      False     False     False   True       18   \n",
       "1    False    False      False     False     False  False        8   \n",
       "2     True    False      False      True     False  False        5   \n",
       "3    False     True      False     False     False  False       10   \n",
       "4    False    False      False     False     False   True        8   \n",
       "\n",
       "  price_bucket  \n",
       "0       06x500  \n",
       "1       03x500  \n",
       "2       06x500  \n",
       "3       04x500  \n",
       "4       04x500  "
      ]
     },
     "execution_count": 28,
     "metadata": {},
     "output_type": "execute_result"
    }
   ],
   "source": [
    "short.head()"
   ]
  },
  {
   "cell_type": "code",
   "execution_count": 29,
   "metadata": {},
   "outputs": [
    {
     "data": {
      "text/plain": [
       "count     578270\n",
       "unique        19\n",
       "top       04x500\n",
       "freq      118793\n",
       "Name: price_bucket, dtype: object"
      ]
     },
     "execution_count": 29,
     "metadata": {},
     "output_type": "execute_result"
    }
   ],
   "source": [
    "short[\"price_bucket\"].describe()"
   ]
  },
  {
   "cell_type": "code",
   "execution_count": 92,
   "metadata": {},
   "outputs": [],
   "source": [
    "export_path = Path(\"./apthuntdata\")\n",
    "export_path.mkdir(exist_ok=True)\n",
    "short.to_csv(export_path/\"data.csv\", index=False) "
   ]
  },
  {
   "cell_type": "code",
   "execution_count": 31,
   "metadata": {},
   "outputs": [
    {
     "data": {
      "text/plain": [
       "count    578270.000000\n",
       "mean       2942.898278\n",
       "std        1321.872762\n",
       "min           0.000000\n",
       "25%        2100.000000\n",
       "50%        2695.000000\n",
       "75%        3500.000000\n",
       "max        9000.000000\n",
       "Name: price, dtype: float64"
      ]
     },
     "execution_count": 31,
     "metadata": {},
     "output_type": "execute_result"
    }
   ],
   "source": [
    "short[\"price\"].describe()"
   ]
  },
  {
   "cell_type": "code",
   "execution_count": 32,
   "metadata": {},
   "outputs": [
    {
     "data": {
      "text/plain": [
       "<matplotlib.axes._subplots.AxesSubplot at 0x103ed0850>"
      ]
     },
     "execution_count": 32,
     "metadata": {},
     "output_type": "execute_result"
    },
    {
     "data": {
      "image/png": "[encoded data removed]",
      "text/plain": [
       "<Figure size 432x288 with 1 Axes>"
      ]
     },
     "metadata": {
      "image/png": {
       "height": 261,
       "width": 391
      },
      "needs_background": "light"
     },
     "output_type": "display_data"
    }
   ],
   "source": [
    "sns.distplot(short.loc[:, \"price\"])"
   ]
  },
  {
   "cell_type": "code",
   "execution_count": 33,
   "metadata": {},
   "outputs": [
    {
     "data": {
      "text/plain": [
       "<matplotlib.axes._subplots.AxesSubplot at 0x16541a290>"
      ]
     },
     "execution_count": 33,
     "metadata": {},
     "output_type": "execute_result"
    },
    {
     "data": {
      "image/png": "[encoded data removed]",
      "text/plain": [
       "<Figure size 432x288 with 1 Axes>"
      ]
     },
     "metadata": {
      "image/png": {
       "height": 261,
       "width": 391
      },
      "needs_background": "light"
     },
     "output_type": "display_data"
    }
   ],
   "source": [
    "sns.distplot(short.loc[short[\"price\"] < 20000, \"price\"])"
   ]
  },
  {
   "cell_type": "code",
   "execution_count": 34,
   "metadata": {},
   "outputs": [
    {
     "data": {
      "text/html": [
       "<div>\n",
       "<style scoped>\n",
       "    .dataframe tbody tr th:only-of-type {\n",
       "        vertical-align: middle;\n",
       "    }\n",
       "\n",
       "    .dataframe tbody tr th {\n",
       "        vertical-align: top;\n",
       "    }\n",
       "\n",
       "    .dataframe thead th {\n",
       "        text-align: right;\n",
       "    }\n",
       "</style>\n",
       "<table border=\"1\" class=\"dataframe\">\n",
       "  <thead>\n",
       "    <tr style=\"text-align: right;\">\n",
       "      <th></th>\n",
       "      <th>latitude</th>\n",
       "      <th>longitude</th>\n",
       "      <th>price</th>\n",
       "      <th>bedrooms</th>\n",
       "      <th>area</th>\n",
       "      <th>nthumbs</th>\n",
       "    </tr>\n",
       "  </thead>\n",
       "  <tbody>\n",
       "    <tr>\n",
       "      <th>count</th>\n",
       "      <td>0.0</td>\n",
       "      <td>0.0</td>\n",
       "      <td>0.0</td>\n",
       "      <td>0.0</td>\n",
       "      <td>0.0</td>\n",
       "      <td>0.0</td>\n",
       "    </tr>\n",
       "    <tr>\n",
       "      <th>mean</th>\n",
       "      <td>NaN</td>\n",
       "      <td>NaN</td>\n",
       "      <td>NaN</td>\n",
       "      <td>NaN</td>\n",
       "      <td>NaN</td>\n",
       "      <td>NaN</td>\n",
       "    </tr>\n",
       "    <tr>\n",
       "      <th>std</th>\n",
       "      <td>NaN</td>\n",
       "      <td>NaN</td>\n",
       "      <td>NaN</td>\n",
       "      <td>NaN</td>\n",
       "      <td>NaN</td>\n",
       "      <td>NaN</td>\n",
       "    </tr>\n",
       "    <tr>\n",
       "      <th>min</th>\n",
       "      <td>NaN</td>\n",
       "      <td>NaN</td>\n",
       "      <td>NaN</td>\n",
       "      <td>NaN</td>\n",
       "      <td>NaN</td>\n",
       "      <td>NaN</td>\n",
       "    </tr>\n",
       "    <tr>\n",
       "      <th>25%</th>\n",
       "      <td>NaN</td>\n",
       "      <td>NaN</td>\n",
       "      <td>NaN</td>\n",
       "      <td>NaN</td>\n",
       "      <td>NaN</td>\n",
       "      <td>NaN</td>\n",
       "    </tr>\n",
       "    <tr>\n",
       "      <th>50%</th>\n",
       "      <td>NaN</td>\n",
       "      <td>NaN</td>\n",
       "      <td>NaN</td>\n",
       "      <td>NaN</td>\n",
       "      <td>NaN</td>\n",
       "      <td>NaN</td>\n",
       "    </tr>\n",
       "    <tr>\n",
       "      <th>75%</th>\n",
       "      <td>NaN</td>\n",
       "      <td>NaN</td>\n",
       "      <td>NaN</td>\n",
       "      <td>NaN</td>\n",
       "      <td>NaN</td>\n",
       "      <td>NaN</td>\n",
       "    </tr>\n",
       "    <tr>\n",
       "      <th>max</th>\n",
       "      <td>NaN</td>\n",
       "      <td>NaN</td>\n",
       "      <td>NaN</td>\n",
       "      <td>NaN</td>\n",
       "      <td>NaN</td>\n",
       "      <td>NaN</td>\n",
       "    </tr>\n",
       "  </tbody>\n",
       "</table>\n",
       "</div>"
      ],
      "text/plain": [
       "       latitude  longitude  price  bedrooms  area  nthumbs\n",
       "count       0.0        0.0    0.0       0.0   0.0      0.0\n",
       "mean        NaN        NaN    NaN       NaN   NaN      NaN\n",
       "std         NaN        NaN    NaN       NaN   NaN      NaN\n",
       "min         NaN        NaN    NaN       NaN   NaN      NaN\n",
       "25%         NaN        NaN    NaN       NaN   NaN      NaN\n",
       "50%         NaN        NaN    NaN       NaN   NaN      NaN\n",
       "75%         NaN        NaN    NaN       NaN   NaN      NaN\n",
       "max         NaN        NaN    NaN       NaN   NaN      NaN"
      ]
     },
     "execution_count": 34,
     "metadata": {},
     "output_type": "execute_result"
    }
   ],
   "source": [
    "short[short.price > 15000].describe()"
   ]
  },
  {
   "cell_type": "code",
   "execution_count": 35,
   "metadata": {},
   "outputs": [
    {
     "data": {
      "text/plain": [
       "0.0018915031052464141"
      ]
     },
     "execution_count": 35,
     "metadata": {},
     "output_type": "execute_result"
    }
   ],
   "source": [
    "1094/578376"
   ]
  },
  {
   "cell_type": "code",
   "execution_count": 36,
   "metadata": {},
   "outputs": [],
   "source": [
    "from fastai2.tabular.all import *"
   ]
  },
  {
   "cell_type": "code",
   "execution_count": 37,
   "metadata": {},
   "outputs": [],
   "source": [
    "def mean_abs_diff(inp, target):\n",
    "    return (inp - target).abs().mean()\n",
    "def min_abs_diff(inp, target):\n",
    "    return (inp - target).abs().min()\n",
    "def max_abs_diff(inp, target):\n",
    "    return (inp - target).abs().max()"
   ]
  },
  {
   "cell_type": "code",
   "execution_count": 38,
   "metadata": {},
   "outputs": [],
   "source": [
    "learn_inf = load_learner('cltab.pkl')"
   ]
  },
  {
   "cell_type": "code",
   "execution_count": 45,
   "metadata": {},
   "outputs": [
    {
     "data": {
      "text/plain": [
       "PostUrl         https://sfbay.craigslist.org/sby/apa/d/sunset-oaks-townhome-1249/6709118961.html\n",
       "latitude                                                                                 37.3538\n",
       "longitude                                                                               -122.026\n",
       "district                                                                               sunnyvale\n",
       "address                                                                    1249 Crescent Terrace\n",
       "housing                                                                            2br - 1300ft2\n",
       "price                                                                                       3150\n",
       "bedrooms                                                                                       2\n",
       "area                                                                                        1300\n",
       "type                                                                                   townhouse\n",
       "catsok                                                                                     False\n",
       "dogsok                                                                                     False\n",
       "garagea                                                                                    False\n",
       "garaged                                                                                     True\n",
       "furnished                                                                                  False\n",
       "laundryb                                                                                   False\n",
       "laundrys                                                                                   False\n",
       "wd                                                                                          True\n",
       "nthumbs                                                                                       18\n",
       "price_bucket                                                                              06x500\n",
       "Name: 0, dtype: object"
      ]
     },
     "execution_count": 45,
     "metadata": {},
     "output_type": "execute_result"
    }
   ],
   "source": [
    "short.iloc[0]"
   ]
  },
  {
   "cell_type": "code",
   "execution_count": 70,
   "metadata": {},
   "outputs": [],
   "source": [
    "tp = pd.read_csv(\"apthuntdata/data.csv\").loc[0]"
   ]
  },
  {
   "cell_type": "code",
   "execution_count": 71,
   "metadata": {},
   "outputs": [],
   "source": [
    "del tp[\"PostUrl\"]\n",
    "del tp[\"address\"]\n",
    "del tp[\"price\"]\n",
    "del tp[\"price_bucket\"]"
   ]
  },
  {
   "cell_type": "code",
   "execution_count": 72,
   "metadata": {},
   "outputs": [
    {
     "data": {
      "text/plain": [
       "latitude           37.3538\n",
       "longitude         -122.026\n",
       "district         sunnyvale\n",
       "housing      2br - 1300ft2\n",
       "bedrooms                 2\n",
       "area                  1300\n",
       "type             townhouse\n",
       "catsok               False\n",
       "dogsok               False\n",
       "garagea              False\n",
       "garaged               True\n",
       "furnished            False\n",
       "laundryb             False\n",
       "laundrys             False\n",
       "wd                    True\n",
       "nthumbs                 18\n",
       "Name: 0, dtype: object"
      ]
     },
     "execution_count": 72,
     "metadata": {},
     "output_type": "execute_result"
    }
   ],
   "source": [
    "tp"
   ]
  },
  {
   "cell_type": "code",
   "execution_count": 91,
   "metadata": {},
   "outputs": [
    {
     "data": {
      "text/html": [],
      "text/plain": [
       "<IPython.core.display.HTML object>"
      ]
     },
     "metadata": {},
     "output_type": "display_data"
    },
    {
     "name": "stdout",
     "output_type": "stream",
     "text": [
      "-----------\n",
      "0\n",
      "   housing  district  bedrooms  type  catsok  dogsok  garagea  garaged  \\\n",
      "0   4928.0    3974.0       2.0   9.0     1.0     1.0      1.0      2.0   \n",
      "\n",
      "   furnished  laundryb  laundrys   wd  nthumbs  latitude_na  longitude_na  \\\n",
      "0        1.0       1.0       1.0  2.0     19.0          1.0           1.0   \n",
      "\n",
      "   area_na  latitude  longitude      area        price  \n",
      "0      1.0  -0.75236   0.282444  0.014817  3281.245605  \n",
      "<class 'fastai2.tabular.core.TabularPandas'>\n",
      "-----------\n",
      "1\n",
      "tensor([3281.2456])\n",
      "<class 'torch.Tensor'>\n",
      "-----------\n",
      "2\n",
      "tensor([3281.2456])\n",
      "<class 'torch.Tensor'>\n"
     ]
    }
   ],
   "source": [
    "prediction = learn_inf.predict(tp)\n",
    "i = 0\n",
    "for p in prediction:\n",
    "    print(\"-\" * 11)\n",
    "    print(i)\n",
    "    i += 1\n",
    "    print(p)\n",
    "    print(type(p))"
   ]
  },
  {
   "cell_type": "code",
   "execution_count": 93,
   "metadata": {},
   "outputs": [
    {
     "data": {
      "text/plain": [
       "PostUrl         https://sfbay.craigslist.org/sby/apa/d/sunset-oaks-townhome-1249/6709118961.html\n",
       "latitude                                                                                 37.3538\n",
       "longitude                                                                               -122.026\n",
       "district                                                                               sunnyvale\n",
       "address                                                                    1249 Crescent Terrace\n",
       "housing                                                                            2br - 1300ft2\n",
       "price                                                                                       3150\n",
       "bedrooms                                                                                       2\n",
       "area                                                                                        1300\n",
       "type                                                                                   townhouse\n",
       "catsok                                                                                     False\n",
       "dogsok                                                                                     False\n",
       "garagea                                                                                    False\n",
       "garaged                                                                                     True\n",
       "furnished                                                                                  False\n",
       "laundryb                                                                                   False\n",
       "laundrys                                                                                   False\n",
       "wd                                                                                          True\n",
       "nthumbs                                                                                       18\n",
       "price_bucket                                                                              06x500\n",
       "Name: 0, dtype: object"
      ]
     },
     "execution_count": 93,
     "metadata": {},
     "output_type": "execute_result"
    }
   ],
   "source": [
    "pd.read_csv(\"apthuntdata/data.csv\").loc[0]"
   ]
  },
  {
   "cell_type": "code",
   "execution_count": 98,
   "metadata": {},
   "outputs": [],
   "source": [
    "topred = pd.read_csv(\"apthuntdata/data.csv\")\n",
    "del topred[\"PostUrl\"]\n",
    "del topred[\"address\"]\n",
    "del topred[\"price\"]\n",
    "del topred[\"price_bucket\"]"
   ]
  },
  {
   "cell_type": "code",
   "execution_count": 102,
   "metadata": {},
   "outputs": [
    {
     "ename": "KeyError",
     "evalue": "\"None of [Index(['latitude', 'longitude', 'area'], dtype='object')] are in the [columns]\"",
     "output_type": "error",
     "traceback": [
      "\u001b[0;31m---------------------------------------------------------------------------\u001b[0m",
      "\u001b[0;31mKeyError\u001b[0m                                  Traceback (most recent call last)",
      "\u001b[0;32m<ipython-input-102-055e07e842f4>\u001b[0m in \u001b[0;36m<module>\u001b[0;34m\u001b[0m\n\u001b[0;32m----> 1\u001b[0;31m \u001b[0mlearn_inf\u001b[0m\u001b[0;34m.\u001b[0m\u001b[0mpredict\u001b[0m\u001b[0;34m(\u001b[0m\u001b[0mtopred\u001b[0m\u001b[0;34m)\u001b[0m\u001b[0;34m\u001b[0m\u001b[0;34m\u001b[0m\u001b[0m\n\u001b[0m",
      "\u001b[0;32m~/.local/share/virtualenvs/analysis-j_VNnu_c/lib/python3.7/site-packages/fastai2/tabular/learner.py\u001b[0m in \u001b[0;36mpredict\u001b[0;34m(self, row)\u001b[0m\n\u001b[1;32m     14\u001b[0m     \u001b[0;32mdef\u001b[0m \u001b[0mpredict\u001b[0m\u001b[0;34m(\u001b[0m\u001b[0mself\u001b[0m\u001b[0;34m,\u001b[0m \u001b[0mrow\u001b[0m\u001b[0;34m)\u001b[0m\u001b[0;34m:\u001b[0m\u001b[0;34m\u001b[0m\u001b[0;34m\u001b[0m\u001b[0m\n\u001b[1;32m     15\u001b[0m         \u001b[0mtst_to\u001b[0m \u001b[0;34m=\u001b[0m \u001b[0mself\u001b[0m\u001b[0;34m.\u001b[0m\u001b[0mdls\u001b[0m\u001b[0;34m.\u001b[0m\u001b[0mvalid_ds\u001b[0m\u001b[0;34m.\u001b[0m\u001b[0mnew\u001b[0m\u001b[0;34m(\u001b[0m\u001b[0mpd\u001b[0m\u001b[0;34m.\u001b[0m\u001b[0mDataFrame\u001b[0m\u001b[0;34m(\u001b[0m\u001b[0mrow\u001b[0m\u001b[0;34m)\u001b[0m\u001b[0;34m.\u001b[0m\u001b[0mT\u001b[0m\u001b[0;34m)\u001b[0m\u001b[0;34m\u001b[0m\u001b[0;34m\u001b[0m\u001b[0m\n\u001b[0;32m---> 16\u001b[0;31m         \u001b[0mtst_to\u001b[0m\u001b[0;34m.\u001b[0m\u001b[0mprocess\u001b[0m\u001b[0;34m(\u001b[0m\u001b[0;34m)\u001b[0m\u001b[0;34m\u001b[0m\u001b[0;34m\u001b[0m\u001b[0m\n\u001b[0m\u001b[1;32m     17\u001b[0m         \u001b[0mtst_to\u001b[0m\u001b[0;34m.\u001b[0m\u001b[0mconts\u001b[0m \u001b[0;34m=\u001b[0m \u001b[0mtst_to\u001b[0m\u001b[0;34m.\u001b[0m\u001b[0mconts\u001b[0m\u001b[0;34m.\u001b[0m\u001b[0mastype\u001b[0m\u001b[0;34m(\u001b[0m\u001b[0mnp\u001b[0m\u001b[0;34m.\u001b[0m\u001b[0mfloat32\u001b[0m\u001b[0;34m)\u001b[0m\u001b[0;34m\u001b[0m\u001b[0;34m\u001b[0m\u001b[0m\n\u001b[1;32m     18\u001b[0m         \u001b[0mdl\u001b[0m \u001b[0;34m=\u001b[0m \u001b[0mself\u001b[0m\u001b[0;34m.\u001b[0m\u001b[0mdls\u001b[0m\u001b[0;34m.\u001b[0m\u001b[0mvalid\u001b[0m\u001b[0;34m.\u001b[0m\u001b[0mnew\u001b[0m\u001b[0;34m(\u001b[0m\u001b[0mtst_to\u001b[0m\u001b[0;34m)\u001b[0m\u001b[0;34m\u001b[0m\u001b[0;34m\u001b[0m\u001b[0m\n",
      "\u001b[0;32m~/.local/share/virtualenvs/analysis-j_VNnu_c/lib/python3.7/site-packages/fastai2/tabular/core.py\u001b[0m in \u001b[0;36mprocess\u001b[0;34m(self)\u001b[0m\n\u001b[1;32m    141\u001b[0m     \u001b[0;32mdef\u001b[0m \u001b[0mshow\u001b[0m\u001b[0;34m(\u001b[0m\u001b[0mself\u001b[0m\u001b[0;34m,\u001b[0m \u001b[0mmax_n\u001b[0m\u001b[0;34m=\u001b[0m\u001b[0;36m10\u001b[0m\u001b[0;34m,\u001b[0m \u001b[0;34m**\u001b[0m\u001b[0mkwargs\u001b[0m\u001b[0;34m)\u001b[0m\u001b[0;34m:\u001b[0m \u001b[0mdisplay_df\u001b[0m\u001b[0;34m(\u001b[0m\u001b[0mself\u001b[0m\u001b[0;34m.\u001b[0m\u001b[0mnew\u001b[0m\u001b[0;34m(\u001b[0m\u001b[0mself\u001b[0m\u001b[0;34m.\u001b[0m\u001b[0mall_cols\u001b[0m\u001b[0;34m[\u001b[0m\u001b[0;34m:\u001b[0m\u001b[0mmax_n\u001b[0m\u001b[0;34m]\u001b[0m\u001b[0;34m)\u001b[0m\u001b[0;34m.\u001b[0m\u001b[0mdecode\u001b[0m\u001b[0;34m(\u001b[0m\u001b[0;34m)\u001b[0m\u001b[0;34m.\u001b[0m\u001b[0mitems\u001b[0m\u001b[0;34m)\u001b[0m\u001b[0;34m\u001b[0m\u001b[0;34m\u001b[0m\u001b[0m\n\u001b[1;32m    142\u001b[0m     \u001b[0;32mdef\u001b[0m \u001b[0msetup\u001b[0m\u001b[0;34m(\u001b[0m\u001b[0mself\u001b[0m\u001b[0;34m)\u001b[0m\u001b[0;34m:\u001b[0m \u001b[0mself\u001b[0m\u001b[0;34m.\u001b[0m\u001b[0mprocs\u001b[0m\u001b[0;34m.\u001b[0m\u001b[0msetup\u001b[0m\u001b[0;34m(\u001b[0m\u001b[0mself\u001b[0m\u001b[0;34m)\u001b[0m\u001b[0;34m\u001b[0m\u001b[0;34m\u001b[0m\u001b[0m\n\u001b[0;32m--> 143\u001b[0;31m     \u001b[0;32mdef\u001b[0m \u001b[0mprocess\u001b[0m\u001b[0;34m(\u001b[0m\u001b[0mself\u001b[0m\u001b[0;34m)\u001b[0m\u001b[0;34m:\u001b[0m \u001b[0mself\u001b[0m\u001b[0;34m.\u001b[0m\u001b[0mprocs\u001b[0m\u001b[0;34m(\u001b[0m\u001b[0mself\u001b[0m\u001b[0;34m)\u001b[0m\u001b[0;34m\u001b[0m\u001b[0;34m\u001b[0m\u001b[0m\n\u001b[0m\u001b[1;32m    144\u001b[0m     \u001b[0;32mdef\u001b[0m \u001b[0mloc\u001b[0m\u001b[0;34m(\u001b[0m\u001b[0mself\u001b[0m\u001b[0;34m)\u001b[0m\u001b[0;34m:\u001b[0m \u001b[0;32mreturn\u001b[0m \u001b[0mself\u001b[0m\u001b[0;34m.\u001b[0m\u001b[0mitems\u001b[0m\u001b[0;34m.\u001b[0m\u001b[0mloc\u001b[0m\u001b[0;34m\u001b[0m\u001b[0;34m\u001b[0m\u001b[0m\n\u001b[1;32m    145\u001b[0m     \u001b[0;32mdef\u001b[0m \u001b[0miloc\u001b[0m\u001b[0;34m(\u001b[0m\u001b[0mself\u001b[0m\u001b[0;34m)\u001b[0m\u001b[0;34m:\u001b[0m \u001b[0;32mreturn\u001b[0m \u001b[0m_TabIloc\u001b[0m\u001b[0;34m(\u001b[0m\u001b[0mself\u001b[0m\u001b[0;34m)\u001b[0m\u001b[0;34m\u001b[0m\u001b[0;34m\u001b[0m\u001b[0m\n",
      "\u001b[0;32m~/.local/share/virtualenvs/analysis-j_VNnu_c/lib/python3.7/site-packages/fastcore/transform.py\u001b[0m in \u001b[0;36m__call__\u001b[0;34m(self, o)\u001b[0m\n\u001b[1;32m    185\u001b[0m         \u001b[0mself\u001b[0m\u001b[0;34m.\u001b[0m\u001b[0mfs\u001b[0m\u001b[0;34m.\u001b[0m\u001b[0mappend\u001b[0m\u001b[0;34m(\u001b[0m\u001b[0mt\u001b[0m\u001b[0;34m)\u001b[0m\u001b[0;34m\u001b[0m\u001b[0;34m\u001b[0m\u001b[0m\n\u001b[1;32m    186\u001b[0m \u001b[0;34m\u001b[0m\u001b[0m\n\u001b[0;32m--> 187\u001b[0;31m     \u001b[0;32mdef\u001b[0m \u001b[0m__call__\u001b[0m\u001b[0;34m(\u001b[0m\u001b[0mself\u001b[0m\u001b[0;34m,\u001b[0m \u001b[0mo\u001b[0m\u001b[0;34m)\u001b[0m\u001b[0;34m:\u001b[0m \u001b[0;32mreturn\u001b[0m \u001b[0mcompose_tfms\u001b[0m\u001b[0;34m(\u001b[0m\u001b[0mo\u001b[0m\u001b[0;34m,\u001b[0m \u001b[0mtfms\u001b[0m\u001b[0;34m=\u001b[0m\u001b[0mself\u001b[0m\u001b[0;34m.\u001b[0m\u001b[0mfs\u001b[0m\u001b[0;34m,\u001b[0m \u001b[0msplit_idx\u001b[0m\u001b[0;34m=\u001b[0m\u001b[0mself\u001b[0m\u001b[0;34m.\u001b[0m\u001b[0msplit_idx\u001b[0m\u001b[0;34m)\u001b[0m\u001b[0;34m\u001b[0m\u001b[0;34m\u001b[0m\u001b[0m\n\u001b[0m\u001b[1;32m    188\u001b[0m     \u001b[0;32mdef\u001b[0m \u001b[0m__repr__\u001b[0m\u001b[0;34m(\u001b[0m\u001b[0mself\u001b[0m\u001b[0;34m)\u001b[0m\u001b[0;34m:\u001b[0m \u001b[0;32mreturn\u001b[0m \u001b[0;34mf\"Pipeline: {' -> '.join([f.name for f in self.fs if f.name != 'noop'])}\"\u001b[0m\u001b[0;34m\u001b[0m\u001b[0;34m\u001b[0m\u001b[0m\n\u001b[1;32m    189\u001b[0m     \u001b[0;32mdef\u001b[0m \u001b[0m__getitem__\u001b[0m\u001b[0;34m(\u001b[0m\u001b[0mself\u001b[0m\u001b[0;34m,\u001b[0m\u001b[0mi\u001b[0m\u001b[0;34m)\u001b[0m\u001b[0;34m:\u001b[0m \u001b[0;32mreturn\u001b[0m \u001b[0mself\u001b[0m\u001b[0;34m.\u001b[0m\u001b[0mfs\u001b[0m\u001b[0;34m[\u001b[0m\u001b[0mi\u001b[0m\u001b[0;34m]\u001b[0m\u001b[0;34m\u001b[0m\u001b[0;34m\u001b[0m\u001b[0m\n",
      "\u001b[0;32m~/.local/share/virtualenvs/analysis-j_VNnu_c/lib/python3.7/site-packages/fastcore/transform.py\u001b[0m in \u001b[0;36mcompose_tfms\u001b[0;34m(x, tfms, is_enc, reverse, **kwargs)\u001b[0m\n\u001b[1;32m    138\u001b[0m     \u001b[0;32mfor\u001b[0m \u001b[0mf\u001b[0m \u001b[0;32min\u001b[0m \u001b[0mtfms\u001b[0m\u001b[0;34m:\u001b[0m\u001b[0;34m\u001b[0m\u001b[0;34m\u001b[0m\u001b[0m\n\u001b[1;32m    139\u001b[0m         \u001b[0;32mif\u001b[0m \u001b[0;32mnot\u001b[0m \u001b[0mis_enc\u001b[0m\u001b[0;34m:\u001b[0m \u001b[0mf\u001b[0m \u001b[0;34m=\u001b[0m \u001b[0mf\u001b[0m\u001b[0;34m.\u001b[0m\u001b[0mdecode\u001b[0m\u001b[0;34m\u001b[0m\u001b[0;34m\u001b[0m\u001b[0m\n\u001b[0;32m--> 140\u001b[0;31m         \u001b[0mx\u001b[0m \u001b[0;34m=\u001b[0m \u001b[0mf\u001b[0m\u001b[0;34m(\u001b[0m\u001b[0mx\u001b[0m\u001b[0;34m,\u001b[0m \u001b[0;34m**\u001b[0m\u001b[0mkwargs\u001b[0m\u001b[0;34m)\u001b[0m\u001b[0;34m\u001b[0m\u001b[0;34m\u001b[0m\u001b[0m\n\u001b[0m\u001b[1;32m    141\u001b[0m     \u001b[0;32mreturn\u001b[0m \u001b[0mx\u001b[0m\u001b[0;34m\u001b[0m\u001b[0;34m\u001b[0m\u001b[0m\n\u001b[1;32m    142\u001b[0m \u001b[0;34m\u001b[0m\u001b[0m\n",
      "\u001b[0;32m~/.local/share/virtualenvs/analysis-j_VNnu_c/lib/python3.7/site-packages/fastcore/transform.py\u001b[0m in \u001b[0;36m__call__\u001b[0;34m(self, x, **kwargs)\u001b[0m\n\u001b[1;32m     70\u001b[0m     \u001b[0;34m@\u001b[0m\u001b[0mproperty\u001b[0m\u001b[0;34m\u001b[0m\u001b[0;34m\u001b[0m\u001b[0m\n\u001b[1;32m     71\u001b[0m     \u001b[0;32mdef\u001b[0m \u001b[0mname\u001b[0m\u001b[0;34m(\u001b[0m\u001b[0mself\u001b[0m\u001b[0;34m)\u001b[0m\u001b[0;34m:\u001b[0m \u001b[0;32mreturn\u001b[0m \u001b[0mgetattr\u001b[0m\u001b[0;34m(\u001b[0m\u001b[0mself\u001b[0m\u001b[0;34m,\u001b[0m \u001b[0;34m'_name'\u001b[0m\u001b[0;34m,\u001b[0m \u001b[0m_get_name\u001b[0m\u001b[0;34m(\u001b[0m\u001b[0mself\u001b[0m\u001b[0;34m)\u001b[0m\u001b[0;34m)\u001b[0m\u001b[0;34m\u001b[0m\u001b[0;34m\u001b[0m\u001b[0m\n\u001b[0;32m---> 72\u001b[0;31m     \u001b[0;32mdef\u001b[0m \u001b[0m__call__\u001b[0m\u001b[0;34m(\u001b[0m\u001b[0mself\u001b[0m\u001b[0;34m,\u001b[0m \u001b[0mx\u001b[0m\u001b[0;34m,\u001b[0m \u001b[0;34m**\u001b[0m\u001b[0mkwargs\u001b[0m\u001b[0;34m)\u001b[0m\u001b[0;34m:\u001b[0m \u001b[0;32mreturn\u001b[0m \u001b[0mself\u001b[0m\u001b[0;34m.\u001b[0m\u001b[0m_call\u001b[0m\u001b[0;34m(\u001b[0m\u001b[0;34m'encodes'\u001b[0m\u001b[0;34m,\u001b[0m \u001b[0mx\u001b[0m\u001b[0;34m,\u001b[0m \u001b[0;34m**\u001b[0m\u001b[0mkwargs\u001b[0m\u001b[0;34m)\u001b[0m\u001b[0;34m\u001b[0m\u001b[0;34m\u001b[0m\u001b[0m\n\u001b[0m\u001b[1;32m     73\u001b[0m     \u001b[0;32mdef\u001b[0m \u001b[0mdecode\u001b[0m  \u001b[0;34m(\u001b[0m\u001b[0mself\u001b[0m\u001b[0;34m,\u001b[0m \u001b[0mx\u001b[0m\u001b[0;34m,\u001b[0m \u001b[0;34m**\u001b[0m\u001b[0mkwargs\u001b[0m\u001b[0;34m)\u001b[0m\u001b[0;34m:\u001b[0m \u001b[0;32mreturn\u001b[0m \u001b[0mself\u001b[0m\u001b[0;34m.\u001b[0m\u001b[0m_call\u001b[0m\u001b[0;34m(\u001b[0m\u001b[0;34m'decodes'\u001b[0m\u001b[0;34m,\u001b[0m \u001b[0mx\u001b[0m\u001b[0;34m,\u001b[0m \u001b[0;34m**\u001b[0m\u001b[0mkwargs\u001b[0m\u001b[0;34m)\u001b[0m\u001b[0;34m\u001b[0m\u001b[0;34m\u001b[0m\u001b[0m\n\u001b[1;32m     74\u001b[0m     \u001b[0;32mdef\u001b[0m \u001b[0m__repr__\u001b[0m\u001b[0;34m(\u001b[0m\u001b[0mself\u001b[0m\u001b[0;34m)\u001b[0m\u001b[0;34m:\u001b[0m \u001b[0;32mreturn\u001b[0m \u001b[0;34mf'{self.name}: {self.encodes} {self.decodes}'\u001b[0m\u001b[0;34m\u001b[0m\u001b[0;34m\u001b[0m\u001b[0m\n",
      "\u001b[0;32m~/.local/share/virtualenvs/analysis-j_VNnu_c/lib/python3.7/site-packages/fastcore/transform.py\u001b[0m in \u001b[0;36m_call\u001b[0;34m(self, fn, x, split_idx, **kwargs)\u001b[0m\n\u001b[1;32m     94\u001b[0m     \u001b[0;34m\"A `Transform` that modifies in-place and just returns whatever it's passed\"\u001b[0m\u001b[0;34m\u001b[0m\u001b[0;34m\u001b[0m\u001b[0m\n\u001b[1;32m     95\u001b[0m     \u001b[0;32mdef\u001b[0m \u001b[0m_call\u001b[0m\u001b[0;34m(\u001b[0m\u001b[0mself\u001b[0m\u001b[0;34m,\u001b[0m \u001b[0mfn\u001b[0m\u001b[0;34m,\u001b[0m \u001b[0mx\u001b[0m\u001b[0;34m,\u001b[0m \u001b[0msplit_idx\u001b[0m\u001b[0;34m=\u001b[0m\u001b[0;32mNone\u001b[0m\u001b[0;34m,\u001b[0m \u001b[0;34m**\u001b[0m\u001b[0mkwargs\u001b[0m\u001b[0;34m)\u001b[0m\u001b[0;34m:\u001b[0m\u001b[0;34m\u001b[0m\u001b[0;34m\u001b[0m\u001b[0m\n\u001b[0;32m---> 96\u001b[0;31m         \u001b[0msuper\u001b[0m\u001b[0;34m(\u001b[0m\u001b[0;34m)\u001b[0m\u001b[0;34m.\u001b[0m\u001b[0m_call\u001b[0m\u001b[0;34m(\u001b[0m\u001b[0mfn\u001b[0m\u001b[0;34m,\u001b[0m\u001b[0mx\u001b[0m\u001b[0;34m,\u001b[0m\u001b[0msplit_idx\u001b[0m\u001b[0;34m,\u001b[0m\u001b[0;34m**\u001b[0m\u001b[0mkwargs\u001b[0m\u001b[0;34m)\u001b[0m\u001b[0;34m\u001b[0m\u001b[0;34m\u001b[0m\u001b[0m\n\u001b[0m\u001b[1;32m     97\u001b[0m         \u001b[0;32mreturn\u001b[0m \u001b[0mx\u001b[0m\u001b[0;34m\u001b[0m\u001b[0;34m\u001b[0m\u001b[0m\n\u001b[1;32m     98\u001b[0m \u001b[0;34m\u001b[0m\u001b[0m\n",
      "\u001b[0;32m~/.local/share/virtualenvs/analysis-j_VNnu_c/lib/python3.7/site-packages/fastcore/transform.py\u001b[0m in \u001b[0;36m_call\u001b[0;34m(self, fn, x, split_idx, **kwargs)\u001b[0m\n\u001b[1;32m     80\u001b[0m     \u001b[0;32mdef\u001b[0m \u001b[0m_call\u001b[0m\u001b[0;34m(\u001b[0m\u001b[0mself\u001b[0m\u001b[0;34m,\u001b[0m \u001b[0mfn\u001b[0m\u001b[0;34m,\u001b[0m \u001b[0mx\u001b[0m\u001b[0;34m,\u001b[0m \u001b[0msplit_idx\u001b[0m\u001b[0;34m=\u001b[0m\u001b[0;32mNone\u001b[0m\u001b[0;34m,\u001b[0m \u001b[0;34m**\u001b[0m\u001b[0mkwargs\u001b[0m\u001b[0;34m)\u001b[0m\u001b[0;34m:\u001b[0m\u001b[0;34m\u001b[0m\u001b[0;34m\u001b[0m\u001b[0m\n\u001b[1;32m     81\u001b[0m         \u001b[0;32mif\u001b[0m \u001b[0msplit_idx\u001b[0m\u001b[0;34m!=\u001b[0m\u001b[0mself\u001b[0m\u001b[0;34m.\u001b[0m\u001b[0msplit_idx\u001b[0m \u001b[0;32mand\u001b[0m \u001b[0mself\u001b[0m\u001b[0;34m.\u001b[0m\u001b[0msplit_idx\u001b[0m \u001b[0;32mis\u001b[0m \u001b[0;32mnot\u001b[0m \u001b[0;32mNone\u001b[0m\u001b[0;34m:\u001b[0m \u001b[0;32mreturn\u001b[0m \u001b[0mx\u001b[0m\u001b[0;34m\u001b[0m\u001b[0;34m\u001b[0m\u001b[0m\n\u001b[0;32m---> 82\u001b[0;31m         \u001b[0;32mreturn\u001b[0m \u001b[0mself\u001b[0m\u001b[0;34m.\u001b[0m\u001b[0m_do_call\u001b[0m\u001b[0;34m(\u001b[0m\u001b[0mgetattr\u001b[0m\u001b[0;34m(\u001b[0m\u001b[0mself\u001b[0m\u001b[0;34m,\u001b[0m \u001b[0mfn\u001b[0m\u001b[0;34m)\u001b[0m\u001b[0;34m,\u001b[0m \u001b[0mx\u001b[0m\u001b[0;34m,\u001b[0m \u001b[0;34m**\u001b[0m\u001b[0mkwargs\u001b[0m\u001b[0;34m)\u001b[0m\u001b[0;34m\u001b[0m\u001b[0;34m\u001b[0m\u001b[0m\n\u001b[0m\u001b[1;32m     83\u001b[0m \u001b[0;34m\u001b[0m\u001b[0m\n\u001b[1;32m     84\u001b[0m     \u001b[0;32mdef\u001b[0m \u001b[0m_do_call\u001b[0m\u001b[0;34m(\u001b[0m\u001b[0mself\u001b[0m\u001b[0;34m,\u001b[0m \u001b[0mf\u001b[0m\u001b[0;34m,\u001b[0m \u001b[0mx\u001b[0m\u001b[0;34m,\u001b[0m \u001b[0;34m**\u001b[0m\u001b[0mkwargs\u001b[0m\u001b[0;34m)\u001b[0m\u001b[0;34m:\u001b[0m\u001b[0;34m\u001b[0m\u001b[0;34m\u001b[0m\u001b[0m\n",
      "\u001b[0;32m~/.local/share/virtualenvs/analysis-j_VNnu_c/lib/python3.7/site-packages/fastcore/transform.py\u001b[0m in \u001b[0;36m_do_call\u001b[0;34m(self, f, x, **kwargs)\u001b[0m\n\u001b[1;32m     84\u001b[0m     \u001b[0;32mdef\u001b[0m \u001b[0m_do_call\u001b[0m\u001b[0;34m(\u001b[0m\u001b[0mself\u001b[0m\u001b[0;34m,\u001b[0m \u001b[0mf\u001b[0m\u001b[0;34m,\u001b[0m \u001b[0mx\u001b[0m\u001b[0;34m,\u001b[0m \u001b[0;34m**\u001b[0m\u001b[0mkwargs\u001b[0m\u001b[0;34m)\u001b[0m\u001b[0;34m:\u001b[0m\u001b[0;34m\u001b[0m\u001b[0;34m\u001b[0m\u001b[0m\n\u001b[1;32m     85\u001b[0m         \u001b[0;32mif\u001b[0m \u001b[0;32mnot\u001b[0m \u001b[0m_is_tuple\u001b[0m\u001b[0;34m(\u001b[0m\u001b[0mx\u001b[0m\u001b[0;34m)\u001b[0m\u001b[0;34m:\u001b[0m\u001b[0;34m\u001b[0m\u001b[0;34m\u001b[0m\u001b[0m\n\u001b[0;32m---> 86\u001b[0;31m             \u001b[0;32mreturn\u001b[0m \u001b[0mx\u001b[0m \u001b[0;32mif\u001b[0m \u001b[0mf\u001b[0m \u001b[0;32mis\u001b[0m \u001b[0;32mNone\u001b[0m \u001b[0;32melse\u001b[0m \u001b[0mretain_type\u001b[0m\u001b[0;34m(\u001b[0m\u001b[0mf\u001b[0m\u001b[0;34m(\u001b[0m\u001b[0mx\u001b[0m\u001b[0;34m,\u001b[0m \u001b[0;34m**\u001b[0m\u001b[0mkwargs\u001b[0m\u001b[0;34m)\u001b[0m\u001b[0;34m,\u001b[0m \u001b[0mx\u001b[0m\u001b[0;34m,\u001b[0m \u001b[0mf\u001b[0m\u001b[0;34m.\u001b[0m\u001b[0mreturns_none\u001b[0m\u001b[0;34m(\u001b[0m\u001b[0mx\u001b[0m\u001b[0;34m)\u001b[0m\u001b[0;34m)\u001b[0m\u001b[0;34m\u001b[0m\u001b[0;34m\u001b[0m\u001b[0m\n\u001b[0m\u001b[1;32m     87\u001b[0m         \u001b[0mres\u001b[0m \u001b[0;34m=\u001b[0m \u001b[0mtuple\u001b[0m\u001b[0;34m(\u001b[0m\u001b[0mself\u001b[0m\u001b[0;34m.\u001b[0m\u001b[0m_do_call\u001b[0m\u001b[0;34m(\u001b[0m\u001b[0mf\u001b[0m\u001b[0;34m,\u001b[0m \u001b[0mx_\u001b[0m\u001b[0;34m,\u001b[0m \u001b[0;34m**\u001b[0m\u001b[0mkwargs\u001b[0m\u001b[0;34m)\u001b[0m \u001b[0;32mfor\u001b[0m \u001b[0mx_\u001b[0m \u001b[0;32min\u001b[0m \u001b[0mx\u001b[0m\u001b[0;34m)\u001b[0m\u001b[0;34m\u001b[0m\u001b[0;34m\u001b[0m\u001b[0m\n\u001b[1;32m     88\u001b[0m         \u001b[0;32mreturn\u001b[0m \u001b[0mretain_type\u001b[0m\u001b[0;34m(\u001b[0m\u001b[0mres\u001b[0m\u001b[0;34m,\u001b[0m \u001b[0mx\u001b[0m\u001b[0;34m)\u001b[0m\u001b[0;34m\u001b[0m\u001b[0;34m\u001b[0m\u001b[0m\n",
      "\u001b[0;32m~/.local/share/virtualenvs/analysis-j_VNnu_c/lib/python3.7/site-packages/fastcore/dispatch.py\u001b[0m in \u001b[0;36m__call__\u001b[0;34m(self, *args, **kwargs)\u001b[0m\n\u001b[1;32m     96\u001b[0m         \u001b[0;32mif\u001b[0m \u001b[0;32mnot\u001b[0m \u001b[0mf\u001b[0m\u001b[0;34m:\u001b[0m \u001b[0;32mreturn\u001b[0m \u001b[0margs\u001b[0m\u001b[0;34m[\u001b[0m\u001b[0;36m0\u001b[0m\u001b[0;34m]\u001b[0m\u001b[0;34m\u001b[0m\u001b[0;34m\u001b[0m\u001b[0m\n\u001b[1;32m     97\u001b[0m         \u001b[0;32mif\u001b[0m \u001b[0mself\u001b[0m\u001b[0;34m.\u001b[0m\u001b[0minst\u001b[0m \u001b[0;32mis\u001b[0m \u001b[0;32mnot\u001b[0m \u001b[0;32mNone\u001b[0m\u001b[0;34m:\u001b[0m \u001b[0mf\u001b[0m \u001b[0;34m=\u001b[0m \u001b[0mMethodType\u001b[0m\u001b[0;34m(\u001b[0m\u001b[0mf\u001b[0m\u001b[0;34m,\u001b[0m \u001b[0mself\u001b[0m\u001b[0;34m.\u001b[0m\u001b[0minst\u001b[0m\u001b[0;34m)\u001b[0m\u001b[0;34m\u001b[0m\u001b[0;34m\u001b[0m\u001b[0m\n\u001b[0;32m---> 98\u001b[0;31m         \u001b[0;32mreturn\u001b[0m \u001b[0mf\u001b[0m\u001b[0;34m(\u001b[0m\u001b[0;34m*\u001b[0m\u001b[0margs\u001b[0m\u001b[0;34m,\u001b[0m \u001b[0;34m**\u001b[0m\u001b[0mkwargs\u001b[0m\u001b[0;34m)\u001b[0m\u001b[0;34m\u001b[0m\u001b[0;34m\u001b[0m\u001b[0m\n\u001b[0m\u001b[1;32m     99\u001b[0m \u001b[0;34m\u001b[0m\u001b[0m\n\u001b[1;32m    100\u001b[0m     \u001b[0;32mdef\u001b[0m \u001b[0m__get__\u001b[0m\u001b[0;34m(\u001b[0m\u001b[0mself\u001b[0m\u001b[0;34m,\u001b[0m \u001b[0minst\u001b[0m\u001b[0;34m,\u001b[0m \u001b[0mowner\u001b[0m\u001b[0;34m)\u001b[0m\u001b[0;34m:\u001b[0m\u001b[0;34m\u001b[0m\u001b[0;34m\u001b[0m\u001b[0m\n",
      "\u001b[0;32m~/.local/share/virtualenvs/analysis-j_VNnu_c/lib/python3.7/site-packages/fastai2/tabular/core.py\u001b[0m in \u001b[0;36mencodes\u001b[0;34m(self, to)\u001b[0m\n\u001b[1;32m    268\u001b[0m \u001b[0;34m\u001b[0m\u001b[0m\n\u001b[1;32m    269\u001b[0m     \u001b[0;32mdef\u001b[0m \u001b[0mencodes\u001b[0m\u001b[0;34m(\u001b[0m\u001b[0mself\u001b[0m\u001b[0;34m,\u001b[0m \u001b[0mto\u001b[0m\u001b[0;34m)\u001b[0m\u001b[0;34m:\u001b[0m\u001b[0;34m\u001b[0m\u001b[0;34m\u001b[0m\u001b[0m\n\u001b[0;32m--> 270\u001b[0;31m         \u001b[0mmissing\u001b[0m \u001b[0;34m=\u001b[0m \u001b[0mpd\u001b[0m\u001b[0;34m.\u001b[0m\u001b[0misnull\u001b[0m\u001b[0;34m(\u001b[0m\u001b[0mto\u001b[0m\u001b[0;34m.\u001b[0m\u001b[0mconts\u001b[0m\u001b[0;34m)\u001b[0m\u001b[0;34m\u001b[0m\u001b[0;34m\u001b[0m\u001b[0m\n\u001b[0m\u001b[1;32m    271\u001b[0m         \u001b[0;32mfor\u001b[0m \u001b[0mn\u001b[0m \u001b[0;32min\u001b[0m \u001b[0mmissing\u001b[0m\u001b[0;34m.\u001b[0m\u001b[0many\u001b[0m\u001b[0;34m(\u001b[0m\u001b[0;34m)\u001b[0m\u001b[0;34m[\u001b[0m\u001b[0mmissing\u001b[0m\u001b[0;34m.\u001b[0m\u001b[0many\u001b[0m\u001b[0;34m(\u001b[0m\u001b[0;34m)\u001b[0m\u001b[0;34m]\u001b[0m\u001b[0;34m.\u001b[0m\u001b[0mkeys\u001b[0m\u001b[0;34m(\u001b[0m\u001b[0;34m)\u001b[0m\u001b[0;34m:\u001b[0m\u001b[0;34m\u001b[0m\u001b[0;34m\u001b[0m\u001b[0m\n\u001b[1;32m    272\u001b[0m             \u001b[0;32massert\u001b[0m \u001b[0mn\u001b[0m \u001b[0;32min\u001b[0m \u001b[0mself\u001b[0m\u001b[0;34m.\u001b[0m\u001b[0mna_dict\u001b[0m\u001b[0;34m,\u001b[0m \u001b[0;34mf\"nan values in `{n}` but not in setup training set\"\u001b[0m\u001b[0;34m\u001b[0m\u001b[0;34m\u001b[0m\u001b[0m\n",
      "\u001b[0;32m~/.local/share/virtualenvs/analysis-j_VNnu_c/lib/python3.7/site-packages/fastai2/tabular/core.py\u001b[0m in \u001b[0;36mf\u001b[0;34m(o)\u001b[0m\n\u001b[1;32m    168\u001b[0m \u001b[0;32mdef\u001b[0m \u001b[0m_add_prop\u001b[0m\u001b[0;34m(\u001b[0m\u001b[0mcls\u001b[0m\u001b[0;34m,\u001b[0m \u001b[0mnm\u001b[0m\u001b[0;34m)\u001b[0m\u001b[0;34m:\u001b[0m\u001b[0;34m\u001b[0m\u001b[0;34m\u001b[0m\u001b[0m\n\u001b[1;32m    169\u001b[0m     \u001b[0;34m@\u001b[0m\u001b[0mproperty\u001b[0m\u001b[0;34m\u001b[0m\u001b[0;34m\u001b[0m\u001b[0m\n\u001b[0;32m--> 170\u001b[0;31m     \u001b[0;32mdef\u001b[0m \u001b[0mf\u001b[0m\u001b[0;34m(\u001b[0m\u001b[0mo\u001b[0m\u001b[0;34m)\u001b[0m\u001b[0;34m:\u001b[0m \u001b[0;32mreturn\u001b[0m \u001b[0mo\u001b[0m\u001b[0;34m[\u001b[0m\u001b[0mlist\u001b[0m\u001b[0;34m(\u001b[0m\u001b[0mgetattr\u001b[0m\u001b[0;34m(\u001b[0m\u001b[0mo\u001b[0m\u001b[0;34m,\u001b[0m\u001b[0mnm\u001b[0m\u001b[0;34m+\u001b[0m\u001b[0;34m'_names'\u001b[0m\u001b[0;34m)\u001b[0m\u001b[0;34m)\u001b[0m\u001b[0;34m]\u001b[0m\u001b[0;34m\u001b[0m\u001b[0;34m\u001b[0m\u001b[0m\n\u001b[0m\u001b[1;32m    171\u001b[0m     \u001b[0;34m@\u001b[0m\u001b[0mf\u001b[0m\u001b[0;34m.\u001b[0m\u001b[0msetter\u001b[0m\u001b[0;34m\u001b[0m\u001b[0;34m\u001b[0m\u001b[0m\n\u001b[1;32m    172\u001b[0m     \u001b[0;32mdef\u001b[0m \u001b[0mfset\u001b[0m\u001b[0;34m(\u001b[0m\u001b[0mo\u001b[0m\u001b[0;34m,\u001b[0m \u001b[0mv\u001b[0m\u001b[0;34m)\u001b[0m\u001b[0;34m:\u001b[0m \u001b[0mo\u001b[0m\u001b[0;34m[\u001b[0m\u001b[0mgetattr\u001b[0m\u001b[0;34m(\u001b[0m\u001b[0mo\u001b[0m\u001b[0;34m,\u001b[0m\u001b[0mnm\u001b[0m\u001b[0;34m+\u001b[0m\u001b[0;34m'_names'\u001b[0m\u001b[0;34m)\u001b[0m\u001b[0;34m]\u001b[0m \u001b[0;34m=\u001b[0m \u001b[0mv\u001b[0m\u001b[0;34m\u001b[0m\u001b[0;34m\u001b[0m\u001b[0m\n",
      "\u001b[0;32m~/.local/share/virtualenvs/analysis-j_VNnu_c/lib/python3.7/site-packages/fastcore/foundation.py\u001b[0m in \u001b[0;36m__getitem__\u001b[0;34m(self, k)\u001b[0m\n\u001b[1;32m    280\u001b[0m     \u001b[0;32mdef\u001b[0m \u001b[0m__init__\u001b[0m\u001b[0;34m(\u001b[0m\u001b[0mself\u001b[0m\u001b[0;34m,\u001b[0m \u001b[0mitems\u001b[0m\u001b[0;34m)\u001b[0m\u001b[0;34m:\u001b[0m \u001b[0mself\u001b[0m\u001b[0;34m.\u001b[0m\u001b[0mitems\u001b[0m \u001b[0;34m=\u001b[0m \u001b[0mitems\u001b[0m\u001b[0;34m\u001b[0m\u001b[0;34m\u001b[0m\u001b[0m\n\u001b[1;32m    281\u001b[0m     \u001b[0;32mdef\u001b[0m \u001b[0m__len__\u001b[0m\u001b[0;34m(\u001b[0m\u001b[0mself\u001b[0m\u001b[0;34m)\u001b[0m\u001b[0;34m:\u001b[0m \u001b[0;32mreturn\u001b[0m \u001b[0mlen\u001b[0m\u001b[0;34m(\u001b[0m\u001b[0mself\u001b[0m\u001b[0;34m.\u001b[0m\u001b[0mitems\u001b[0m\u001b[0;34m)\u001b[0m\u001b[0;34m\u001b[0m\u001b[0;34m\u001b[0m\u001b[0m\n\u001b[0;32m--> 282\u001b[0;31m     \u001b[0;32mdef\u001b[0m \u001b[0m__getitem__\u001b[0m\u001b[0;34m(\u001b[0m\u001b[0mself\u001b[0m\u001b[0;34m,\u001b[0m \u001b[0mk\u001b[0m\u001b[0;34m)\u001b[0m\u001b[0;34m:\u001b[0m \u001b[0;32mreturn\u001b[0m \u001b[0mself\u001b[0m\u001b[0;34m.\u001b[0m\u001b[0mitems\u001b[0m\u001b[0;34m[\u001b[0m\u001b[0mlist\u001b[0m\u001b[0;34m(\u001b[0m\u001b[0mk\u001b[0m\u001b[0;34m)\u001b[0m \u001b[0;32mif\u001b[0m \u001b[0misinstance\u001b[0m\u001b[0;34m(\u001b[0m\u001b[0mk\u001b[0m\u001b[0;34m,\u001b[0m\u001b[0mCollBase\u001b[0m\u001b[0;34m)\u001b[0m \u001b[0;32melse\u001b[0m \u001b[0mk\u001b[0m\u001b[0;34m]\u001b[0m\u001b[0;34m\u001b[0m\u001b[0;34m\u001b[0m\u001b[0m\n\u001b[0m\u001b[1;32m    283\u001b[0m     \u001b[0;32mdef\u001b[0m \u001b[0m__setitem__\u001b[0m\u001b[0;34m(\u001b[0m\u001b[0mself\u001b[0m\u001b[0;34m,\u001b[0m \u001b[0mk\u001b[0m\u001b[0;34m,\u001b[0m \u001b[0mv\u001b[0m\u001b[0;34m)\u001b[0m\u001b[0;34m:\u001b[0m \u001b[0mself\u001b[0m\u001b[0;34m.\u001b[0m\u001b[0mitems\u001b[0m\u001b[0;34m[\u001b[0m\u001b[0mlist\u001b[0m\u001b[0;34m(\u001b[0m\u001b[0mk\u001b[0m\u001b[0;34m)\u001b[0m \u001b[0;32mif\u001b[0m \u001b[0misinstance\u001b[0m\u001b[0;34m(\u001b[0m\u001b[0mk\u001b[0m\u001b[0;34m,\u001b[0m\u001b[0mCollBase\u001b[0m\u001b[0;34m)\u001b[0m \u001b[0;32melse\u001b[0m \u001b[0mk\u001b[0m\u001b[0;34m]\u001b[0m \u001b[0;34m=\u001b[0m \u001b[0mv\u001b[0m\u001b[0;34m\u001b[0m\u001b[0;34m\u001b[0m\u001b[0m\n\u001b[1;32m    284\u001b[0m     \u001b[0;32mdef\u001b[0m \u001b[0m__delitem__\u001b[0m\u001b[0;34m(\u001b[0m\u001b[0mself\u001b[0m\u001b[0;34m,\u001b[0m \u001b[0mi\u001b[0m\u001b[0;34m)\u001b[0m\u001b[0;34m:\u001b[0m \u001b[0;32mdel\u001b[0m\u001b[0;34m(\u001b[0m\u001b[0mself\u001b[0m\u001b[0;34m.\u001b[0m\u001b[0mitems\u001b[0m\u001b[0;34m[\u001b[0m\u001b[0mi\u001b[0m\u001b[0;34m]\u001b[0m\u001b[0;34m)\u001b[0m\u001b[0;34m\u001b[0m\u001b[0;34m\u001b[0m\u001b[0m\n",
      "\u001b[0;32m~/.local/share/virtualenvs/analysis-j_VNnu_c/lib/python3.7/site-packages/pandas/core/frame.py\u001b[0m in \u001b[0;36m__getitem__\u001b[0;34m(self, key)\u001b[0m\n\u001b[1;32m   2804\u001b[0m             \u001b[0;32mif\u001b[0m \u001b[0mis_iterator\u001b[0m\u001b[0;34m(\u001b[0m\u001b[0mkey\u001b[0m\u001b[0;34m)\u001b[0m\u001b[0;34m:\u001b[0m\u001b[0;34m\u001b[0m\u001b[0;34m\u001b[0m\u001b[0m\n\u001b[1;32m   2805\u001b[0m                 \u001b[0mkey\u001b[0m \u001b[0;34m=\u001b[0m \u001b[0mlist\u001b[0m\u001b[0;34m(\u001b[0m\u001b[0mkey\u001b[0m\u001b[0;34m)\u001b[0m\u001b[0;34m\u001b[0m\u001b[0;34m\u001b[0m\u001b[0m\n\u001b[0;32m-> 2806\u001b[0;31m             \u001b[0mindexer\u001b[0m \u001b[0;34m=\u001b[0m \u001b[0mself\u001b[0m\u001b[0;34m.\u001b[0m\u001b[0mloc\u001b[0m\u001b[0;34m.\u001b[0m\u001b[0m_get_listlike_indexer\u001b[0m\u001b[0;34m(\u001b[0m\u001b[0mkey\u001b[0m\u001b[0;34m,\u001b[0m \u001b[0maxis\u001b[0m\u001b[0;34m=\u001b[0m\u001b[0;36m1\u001b[0m\u001b[0;34m,\u001b[0m \u001b[0mraise_missing\u001b[0m\u001b[0;34m=\u001b[0m\u001b[0;32mTrue\u001b[0m\u001b[0;34m)\u001b[0m\u001b[0;34m[\u001b[0m\u001b[0;36m1\u001b[0m\u001b[0;34m]\u001b[0m\u001b[0;34m\u001b[0m\u001b[0;34m\u001b[0m\u001b[0m\n\u001b[0m\u001b[1;32m   2807\u001b[0m \u001b[0;34m\u001b[0m\u001b[0m\n\u001b[1;32m   2808\u001b[0m         \u001b[0;31m# take() does not accept boolean indexers\u001b[0m\u001b[0;34m\u001b[0m\u001b[0;34m\u001b[0m\u001b[0;34m\u001b[0m\u001b[0m\n",
      "\u001b[0;32m~/.local/share/virtualenvs/analysis-j_VNnu_c/lib/python3.7/site-packages/pandas/core/indexing.py\u001b[0m in \u001b[0;36m_get_listlike_indexer\u001b[0;34m(self, key, axis, raise_missing)\u001b[0m\n\u001b[1;32m   1551\u001b[0m \u001b[0;34m\u001b[0m\u001b[0m\n\u001b[1;32m   1552\u001b[0m         self._validate_read_indexer(\n\u001b[0;32m-> 1553\u001b[0;31m             \u001b[0mkeyarr\u001b[0m\u001b[0;34m,\u001b[0m \u001b[0mindexer\u001b[0m\u001b[0;34m,\u001b[0m \u001b[0mo\u001b[0m\u001b[0;34m.\u001b[0m\u001b[0m_get_axis_number\u001b[0m\u001b[0;34m(\u001b[0m\u001b[0maxis\u001b[0m\u001b[0;34m)\u001b[0m\u001b[0;34m,\u001b[0m \u001b[0mraise_missing\u001b[0m\u001b[0;34m=\u001b[0m\u001b[0mraise_missing\u001b[0m\u001b[0;34m\u001b[0m\u001b[0;34m\u001b[0m\u001b[0m\n\u001b[0m\u001b[1;32m   1554\u001b[0m         )\n\u001b[1;32m   1555\u001b[0m         \u001b[0;32mreturn\u001b[0m \u001b[0mkeyarr\u001b[0m\u001b[0;34m,\u001b[0m \u001b[0mindexer\u001b[0m\u001b[0;34m\u001b[0m\u001b[0;34m\u001b[0m\u001b[0m\n",
      "\u001b[0;32m~/.local/share/virtualenvs/analysis-j_VNnu_c/lib/python3.7/site-packages/pandas/core/indexing.py\u001b[0m in \u001b[0;36m_validate_read_indexer\u001b[0;34m(self, key, indexer, axis, raise_missing)\u001b[0m\n\u001b[1;32m   1638\u001b[0m             \u001b[0;32mif\u001b[0m \u001b[0mmissing\u001b[0m \u001b[0;34m==\u001b[0m \u001b[0mlen\u001b[0m\u001b[0;34m(\u001b[0m\u001b[0mindexer\u001b[0m\u001b[0;34m)\u001b[0m\u001b[0;34m:\u001b[0m\u001b[0;34m\u001b[0m\u001b[0;34m\u001b[0m\u001b[0m\n\u001b[1;32m   1639\u001b[0m                 \u001b[0maxis_name\u001b[0m \u001b[0;34m=\u001b[0m \u001b[0mself\u001b[0m\u001b[0;34m.\u001b[0m\u001b[0mobj\u001b[0m\u001b[0;34m.\u001b[0m\u001b[0m_get_axis_name\u001b[0m\u001b[0;34m(\u001b[0m\u001b[0maxis\u001b[0m\u001b[0;34m)\u001b[0m\u001b[0;34m\u001b[0m\u001b[0;34m\u001b[0m\u001b[0m\n\u001b[0;32m-> 1640\u001b[0;31m                 \u001b[0;32mraise\u001b[0m \u001b[0mKeyError\u001b[0m\u001b[0;34m(\u001b[0m\u001b[0;34mf\"None of [{key}] are in the [{axis_name}]\"\u001b[0m\u001b[0;34m)\u001b[0m\u001b[0;34m\u001b[0m\u001b[0;34m\u001b[0m\u001b[0m\n\u001b[0m\u001b[1;32m   1641\u001b[0m \u001b[0;34m\u001b[0m\u001b[0m\n\u001b[1;32m   1642\u001b[0m             \u001b[0;31m# We (temporarily) allow for some missing keys with .loc, except in\u001b[0m\u001b[0;34m\u001b[0m\u001b[0;34m\u001b[0m\u001b[0;34m\u001b[0m\u001b[0m\n",
      "\u001b[0;31mKeyError\u001b[0m: \"None of [Index(['latitude', 'longitude', 'area'], dtype='object')] are in the [columns]\""
     ]
    }
   ],
   "source": [
    "learn_inf.predict(topred)"
   ]
  },
  {
   "cell_type": "code",
   "execution_count": 101,
   "metadata": {},
   "outputs": [
    {
     "data": {
      "text/html": [
       "<div>\n",
       "<style scoped>\n",
       "    .dataframe tbody tr th:only-of-type {\n",
       "        vertical-align: middle;\n",
       "    }\n",
       "\n",
       "    .dataframe tbody tr th {\n",
       "        vertical-align: top;\n",
       "    }\n",
       "\n",
       "    .dataframe thead th {\n",
       "        text-align: right;\n",
       "    }\n",
       "</style>\n",
       "<table border=\"1\" class=\"dataframe\">\n",
       "  <thead>\n",
       "    <tr style=\"text-align: right;\">\n",
       "      <th></th>\n",
       "      <th>latitude</th>\n",
       "      <th>longitude</th>\n",
       "      <th>district</th>\n",
       "      <th>housing</th>\n",
       "      <th>bedrooms</th>\n",
       "      <th>area</th>\n",
       "      <th>type</th>\n",
       "      <th>catsok</th>\n",
       "      <th>dogsok</th>\n",
       "      <th>garagea</th>\n",
       "      <th>garaged</th>\n",
       "      <th>furnished</th>\n",
       "      <th>laundryb</th>\n",
       "      <th>laundrys</th>\n",
       "      <th>wd</th>\n",
       "      <th>nthumbs</th>\n",
       "    </tr>\n",
       "  </thead>\n",
       "  <tbody>\n",
       "    <tr>\n",
       "      <th>0</th>\n",
       "      <td>37.353754</td>\n",
       "      <td>-122.026428</td>\n",
       "      <td>sunnyvale</td>\n",
       "      <td>2br - 1300ft2</td>\n",
       "      <td>2.0</td>\n",
       "      <td>1300.0</td>\n",
       "      <td>townhouse</td>\n",
       "      <td>False</td>\n",
       "      <td>False</td>\n",
       "      <td>False</td>\n",
       "      <td>True</td>\n",
       "      <td>False</td>\n",
       "      <td>False</td>\n",
       "      <td>False</td>\n",
       "      <td>True</td>\n",
       "      <td>18</td>\n",
       "    </tr>\n",
       "    <tr>\n",
       "      <th>1</th>\n",
       "      <td>38.008321</td>\n",
       "      <td>-121.864673</td>\n",
       "      <td>Pittsburg, CA</td>\n",
       "      <td>2br - 875ft2</td>\n",
       "      <td>2.0</td>\n",
       "      <td>875.0</td>\n",
       "      <td>apartment</td>\n",
       "      <td>False</td>\n",
       "      <td>False</td>\n",
       "      <td>False</td>\n",
       "      <td>False</td>\n",
       "      <td>False</td>\n",
       "      <td>False</td>\n",
       "      <td>False</td>\n",
       "      <td>False</td>\n",
       "      <td>8</td>\n",
       "    </tr>\n",
       "  </tbody>\n",
       "</table>\n",
       "</div>"
      ],
      "text/plain": [
       "    latitude   longitude       district        housing  bedrooms    area  \\\n",
       "0  37.353754 -122.026428      sunnyvale  2br - 1300ft2       2.0  1300.0   \n",
       "1  38.008321 -121.864673  Pittsburg, CA   2br - 875ft2       2.0   875.0   \n",
       "\n",
       "        type  catsok  dogsok  garagea  garaged  furnished  laundryb  laundrys  \\\n",
       "0  townhouse   False   False    False     True      False     False     False   \n",
       "1  apartment   False   False    False    False      False     False     False   \n",
       "\n",
       "      wd  nthumbs  \n",
       "0   True       18  \n",
       "1  False        8  "
      ]
     },
     "execution_count": 101,
     "metadata": {},
     "output_type": "execute_result"
    }
   ],
   "source": [
    "topred.loc[0:1]"
   ]
  },
  {
   "cell_type": "code",
   "execution_count": 109,
   "metadata": {},
   "outputs": [
    {
     "data": {
      "text/plain": [
       "0                37.353753999999995 + sunnyvale\n",
       "1                     38.008321 + Pittsburg, CA\n",
       "2         37.710526 + excelsior / outer mission\n",
       "3              38.27479 + fairfield / vacaville\n",
       "4           37.671644 + hayward / castro valley\n",
       "                          ...                  \n",
       "578265                 37.486829 + redwood city\n",
       "578266                  37.337841 + santa clara\n",
       "578267              nan + fairfield / vacaville\n",
       "578268                  37.787295 + Rincon Hill\n",
       "578269        37.3108 + ingleside / SFSU / CCSF\n",
       "Length: 578270, dtype: object"
      ]
     },
     "execution_count": 109,
     "metadata": {},
     "output_type": "execute_result"
    }
   ],
   "source": [
    "topred.apply(lambda x: f\"{x['latitude']} + {x['district']}\", axis=1)"
   ]
  },
  {
   "cell_type": "code",
   "execution_count": null,
   "metadata": {},
   "outputs": [],
   "source": [
    "topred[\"price\"] = topred.apply(learn_inf.predict, axis=1)"
   ]
  },
  {
   "cell_type": "code",
   "execution_count": null,
   "metadata": {},
   "outputs": [],
   "source": []
  }
 ],
 "metadata": {
  "kernelspec": {
   "display_name": "Python 3",
   "language": "python",
   "name": "python3"
  },
  "language_info": {
   "codemirror_mode": {
    "name": "ipython",
    "version": 3
   },
   "file_extension": ".py",
   "mimetype": "text/x-python",
   "name": "python",
   "nbconvert_exporter": "python",
   "pygments_lexer": "ipython3",
   "version": "3.7.7"
  }
 },
 "nbformat": 4,
 "nbformat_minor": 2
}
