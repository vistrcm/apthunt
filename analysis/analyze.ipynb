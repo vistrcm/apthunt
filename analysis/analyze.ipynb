{
 "cells": [
  {
   "cell_type": "code",
   "execution_count": 1,
   "metadata": {
    "pycharm": {
     "is_executing": false
    }
   },
   "outputs": [],
   "source": [
    "%reload_ext autoreload\n",
    "%autoreload 2\n",
    "%matplotlib inline\n",
    "%config InlineBackend.figure_format='retina'"
   ]
  },
  {
   "cell_type": "code",
   "execution_count": 2,
   "metadata": {
    "pycharm": {
     "is_executing": false
    }
   },
   "outputs": [],
   "source": [
    "import os\n",
    "import boto3\n",
    "import pickle\n",
    "import pandas as pd\n",
    "import seaborn as sns\n",
    "import matplotlib.pyplot as plt\n",
    "import re\n",
    "import csv\n",
    "import numpy as np"
   ]
  },
  {
   "cell_type": "code",
   "execution_count": 3,
   "metadata": {
    "pycharm": {
     "is_executing": false
    }
   },
   "outputs": [],
   "source": [
    "def maybe_pickle(data, filename, force=False):\n",
    "    if os.path.exists(filename) and not force:\n",
    "        # You may override by setting force=True.\n",
    "        print('%s already present - Skipping pickling.' % filename)\n",
    "    else:\n",
    "        print('Pickling %s.' % filename)\n",
    "        try:\n",
    "            with open(filename, 'wb') as f:\n",
    "                pickle.dump(data, f, pickle.HIGHEST_PROTOCOL)\n",
    "        except Exception as e:\n",
    "            print('Unable to save data to', filename, ':', e)\n",
    "\n",
    "\n",
    "def maybe_download(table, force=False):\n",
    "    storage_file = table + \".pkl\"\n",
    "    if force or not os.path.exists(storage_file):\n",
    "        data = data_retrieve(table)\n",
    "        maybe_pickle(data, storage_file)\n",
    "    return storage_file\n",
    "        \n",
    "def data_retrieve(table, page_size=100):\n",
    "    \"\"\"download data from table\"\"\"\n",
    "    client = boto3.client('dynamodb')\n",
    "    paginator = client.get_paginator('scan')\n",
    "\n",
    "    counter = 0\n",
    "    items = []\n",
    "    for page in paginator.paginate(TableName=table, PaginationConfig={\"PageSize\": page_size}):\n",
    "        items.extend(page[\"Items\"])\n",
    "        \n",
    "        counter += 1\n",
    "        if counter % 50 == 0:  # print debug every 50 pages\n",
    "            print(\"items: {}. next page. {}. Count {}. ScannedCount: {}\".format(len(items), counter, page[\"Count\"], page[\"ScannedCount\"]))\n",
    "\n",
    "\n",
    "    return items\n",
    "    "
   ]
  },
  {
   "cell_type": "code",
   "execution_count": 4,
   "metadata": {
    "pycharm": {
     "is_executing": true
    }
   },
   "outputs": [],
   "source": [
    "data_file = maybe_download(\"apthunt\")\n",
    "data = pickle.load(open(data_file, 'rb'))"
   ]
  },
  {
   "cell_type": "code",
   "execution_count": 5,
   "metadata": {
    "pycharm": {
     "is_executing": true
    }
   },
   "outputs": [
    {
     "name": "stdout",
     "output_type": "stream",
     "text": [
      "wow\n"
     ]
    }
   ],
   "source": [
    "print(\"wow\")"
   ]
  },
  {
   "cell_type": "code",
   "execution_count": 6,
   "metadata": {
    "pycharm": {
     "is_executing": true
    }
   },
   "outputs": [],
   "source": [
    "# To go from dynamo format to python\n",
    "from boto3.dynamodb import types\n",
    "\n",
    "deserializer = types.TypeDeserializer()\n",
    "python_data = [{k: deserializer.deserialize(v) for k,v in d.items()} for d in data]"
   ]
  },
  {
   "cell_type": "code",
   "execution_count": 7,
   "metadata": {},
   "outputs": [],
   "source": [
    "del data"
   ]
  },
  {
   "cell_type": "code",
   "execution_count": 8,
   "metadata": {},
   "outputs": [],
   "source": [
    "df = pd.DataFrame(python_data)"
   ]
  },
  {
   "cell_type": "code",
   "execution_count": 9,
   "metadata": {},
   "outputs": [],
   "source": [
    "del python_data"
   ]
  },
  {
   "cell_type": "code",
   "execution_count": 10,
   "metadata": {},
   "outputs": [],
   "source": [
    "with open(\"df.pkl\", 'wb') as f:\n",
    "    pickle.dump(df, f, pickle.HIGHEST_PROTOCOL)\n"
   ]
  },
  {
   "cell_type": "code",
   "execution_count": 11,
   "metadata": {},
   "outputs": [],
   "source": [
    "df = pickle.load(open(\"df.pkl\", 'rb'))"
   ]
  },
  {
   "cell_type": "code",
   "execution_count": 12,
   "metadata": {},
   "outputs": [
    {
     "data": {
      "text/html": [
       "<div>\n",
       "<style scoped>\n",
       "    .dataframe tbody tr th:only-of-type {\n",
       "        vertical-align: middle;\n",
       "    }\n",
       "\n",
       "    .dataframe tbody tr th {\n",
       "        vertical-align: top;\n",
       "    }\n",
       "\n",
       "    .dataframe thead th {\n",
       "        text-align: right;\n",
       "    }\n",
       "</style>\n",
       "<table border=\"1\" class=\"dataframe\">\n",
       "  <thead>\n",
       "    <tr style=\"text-align: right;\">\n",
       "      <th></th>\n",
       "      <th>parsed_postingtitletext</th>\n",
       "      <th>parsed_map_address</th>\n",
       "      <th>added</th>\n",
       "      <th>PostUrl</th>\n",
       "      <th>PostTitle</th>\n",
       "      <th>parsed_price</th>\n",
       "      <th>parsed_price_text</th>\n",
       "      <th>parsed_housing</th>\n",
       "      <th>PostContent</th>\n",
       "      <th>parsed_data_longitude</th>\n",
       "      <th>...</th>\n",
       "      <th>parsed_postingbody</th>\n",
       "      <th>parsed_page_head</th>\n",
       "      <th>parsed_thumbs</th>\n",
       "      <th>FeedTitle</th>\n",
       "      <th>parsed_titletextonly</th>\n",
       "      <th>intid</th>\n",
       "      <th>parsed_data_latitude</th>\n",
       "      <th>FeedUrl</th>\n",
       "      <th>PostPublished</th>\n",
       "      <th>parsed_notices</th>\n",
       "    </tr>\n",
       "  </thead>\n",
       "  <tbody>\n",
       "    <tr>\n",
       "      <th>0</th>\n",
       "      <td>$3150 / 2br - 1300ft2 - Sunset Oaks Townhome- ...</td>\n",
       "      <td>1249 Crescent Terrace</td>\n",
       "      <td>1538706586266</td>\n",
       "      <td>https://sfbay.craigslist.org/sby/apa/d/sunset-...</td>\n",
       "      <td>simulated</td>\n",
       "      <td>3150</td>\n",
       "      <td>$3150</td>\n",
       "      <td>2br - 1300ft2</td>\n",
       "      <td>simulated</td>\n",
       "      <td>-122.026428</td>\n",
       "      <td>...</td>\n",
       "      <td>Well designed and spacious 2 bedroom, 2 1/2 ba...</td>\n",
       "      <td>None</td>\n",
       "      <td>[https://images.craigslist.org/00Z0Z_5KZmIXxAc...</td>\n",
       "      <td>simulated</td>\n",
       "      <td>Sunset Oaks Townhome- 1249 Crescent Terrace - ...</td>\n",
       "      <td>6aea5603583644368e76bac8293aa38a</td>\n",
       "      <td>37.353754</td>\n",
       "      <td>simulated</td>\n",
       "      <td>simulated</td>\n",
       "      <td>[do NOT contact me with unsolicited services o...</td>\n",
       "    </tr>\n",
       "    <tr>\n",
       "      <th>1</th>\n",
       "      <td>$1769 / 2br - 875ft2 - ❄ Pittsburg Apartment L...</td>\n",
       "      <td>2205 E Leland Rd</td>\n",
       "      <td>1539451812116</td>\n",
       "      <td>https://sfbay.craigslist.org/eby/apa/d/pittsbu...</td>\n",
       "      <td>simulated</td>\n",
       "      <td>1769</td>\n",
       "      <td>$1769</td>\n",
       "      <td>2br - 875ft2</td>\n",
       "      <td>simulated</td>\n",
       "      <td>-121.864673</td>\n",
       "      <td>...</td>\n",
       "      <td>Diamond Hillside Apartment Homes offers spacio...</td>\n",
       "      <td>None</td>\n",
       "      <td>[https://images.craigslist.org/00c0c_505E4utDZ...</td>\n",
       "      <td>simulated</td>\n",
       "      <td>❄ Pittsburg Apartment Living, Gated Community,...</td>\n",
       "      <td>0f490163255448ac973218ae45b7fa99</td>\n",
       "      <td>38.008321</td>\n",
       "      <td>simulated</td>\n",
       "      <td>simulated</td>\n",
       "      <td>[do NOT contact me with unsolicited services o...</td>\n",
       "    </tr>\n",
       "    <tr>\n",
       "      <th>2</th>\n",
       "      <td>$3000 / 2br - 1800ft2 - 2 Bedroom 1 Bath 1 Car...</td>\n",
       "      <td>375 Pope Street</td>\n",
       "      <td>1538947757137</td>\n",
       "      <td>https://sfbay.craigslist.org/sfc/apa/d/2-bedro...</td>\n",
       "      <td>simulated</td>\n",
       "      <td>3000</td>\n",
       "      <td>$3000</td>\n",
       "      <td>2br - 1800ft2</td>\n",
       "      <td>simulated</td>\n",
       "      <td>-122.439706</td>\n",
       "      <td>...</td>\n",
       "      <td>clean 2 Bedroom 1 full bathroom 1 car garage. ...</td>\n",
       "      <td>None</td>\n",
       "      <td>[https://images.craigslist.org/00G0G_2bsd96Q2m...</td>\n",
       "      <td>simulated</td>\n",
       "      <td>2 Bedroom 1 Bath 1 Car Garage House</td>\n",
       "      <td>ef4a3ac21bca461bab5364dbda00144c</td>\n",
       "      <td>37.710526</td>\n",
       "      <td>simulated</td>\n",
       "      <td>simulated</td>\n",
       "      <td>[do NOT contact me with unsolicited services o...</td>\n",
       "    </tr>\n",
       "    <tr>\n",
       "      <th>3</th>\n",
       "      <td>$2150 / 3br - 1200ft2 - Updated 1200 SQ FT 3 B...</td>\n",
       "      <td>2436 Baltic Dr</td>\n",
       "      <td>1585287116209</td>\n",
       "      <td>https://sfbay.craigslist.org/eby/apa/d/fairfie...</td>\n",
       "      <td>simulated</td>\n",
       "      <td>2150</td>\n",
       "      <td>$2150</td>\n",
       "      <td>3br - 1200ft2</td>\n",
       "      <td>simulated</td>\n",
       "      <td>-122.019156</td>\n",
       "      <td>...</td>\n",
       "      <td>Updated 1200 SQ FT 3 Bed 1.5 Bath 2-story hous...</td>\n",
       "      <td>None</td>\n",
       "      <td>[https://images.craigslist.org/00s0s_fp0FHrerE...</td>\n",
       "      <td>simulated</td>\n",
       "      <td>Updated 1200 SQ FT 3 Bed 1.5 Bath 2-story hous...</td>\n",
       "      <td>bad01973976c49a88c0f45894ae19cc3</td>\n",
       "      <td>38.27479</td>\n",
       "      <td>simulated</td>\n",
       "      <td>simulated</td>\n",
       "      <td>[do NOT contact me with unsolicited services o...</td>\n",
       "    </tr>\n",
       "    <tr>\n",
       "      <th>4</th>\n",
       "      <td>$2150 / 1br - 726ft2 - FULLY RENOVATED 1BED 1B...</td>\n",
       "      <td>1182 E Street near 2nd</td>\n",
       "      <td>1587684611249</td>\n",
       "      <td>https://sfbay.craigslist.org/eby/apa/d/hayward...</td>\n",
       "      <td>simulated</td>\n",
       "      <td>2150</td>\n",
       "      <td>$2150</td>\n",
       "      <td>1br - 726ft2</td>\n",
       "      <td>simulated</td>\n",
       "      <td>-122.076737</td>\n",
       "      <td>...</td>\n",
       "      <td>Beautiful Fully Renovated 1 bedroom 1 bathroom...</td>\n",
       "      <td>None</td>\n",
       "      <td>[https://images.craigslist.org/01010_IJCcnFKWL...</td>\n",
       "      <td>simulated</td>\n",
       "      <td>FULLY RENOVATED 1BED 1BATH IN HAYWARD! PRE-LEA...</td>\n",
       "      <td>51f6a9ed9e224966b5fe96faf83521a1</td>\n",
       "      <td>37.671644</td>\n",
       "      <td>simulated</td>\n",
       "      <td>simulated</td>\n",
       "      <td>[do NOT contact me with unsolicited services o...</td>\n",
       "    </tr>\n",
       "  </tbody>\n",
       "</table>\n",
       "<p>5 rows × 23 columns</p>\n",
       "</div>"
      ],
      "text/plain": [
       "                             parsed_postingtitletext      parsed_map_address  \\\n",
       "0  $3150 / 2br - 1300ft2 - Sunset Oaks Townhome- ...   1249 Crescent Terrace   \n",
       "1  $1769 / 2br - 875ft2 - ❄ Pittsburg Apartment L...        2205 E Leland Rd   \n",
       "2  $3000 / 2br - 1800ft2 - 2 Bedroom 1 Bath 1 Car...         375 Pope Street   \n",
       "3  $2150 / 3br - 1200ft2 - Updated 1200 SQ FT 3 B...          2436 Baltic Dr   \n",
       "4  $2150 / 1br - 726ft2 - FULLY RENOVATED 1BED 1B...  1182 E Street near 2nd   \n",
       "\n",
       "           added                                            PostUrl  \\\n",
       "0  1538706586266  https://sfbay.craigslist.org/sby/apa/d/sunset-...   \n",
       "1  1539451812116  https://sfbay.craigslist.org/eby/apa/d/pittsbu...   \n",
       "2  1538947757137  https://sfbay.craigslist.org/sfc/apa/d/2-bedro...   \n",
       "3  1585287116209  https://sfbay.craigslist.org/eby/apa/d/fairfie...   \n",
       "4  1587684611249  https://sfbay.craigslist.org/eby/apa/d/hayward...   \n",
       "\n",
       "   PostTitle parsed_price parsed_price_text parsed_housing PostContent  \\\n",
       "0  simulated         3150             $3150  2br - 1300ft2   simulated   \n",
       "1  simulated         1769             $1769   2br - 875ft2   simulated   \n",
       "2  simulated         3000             $3000  2br - 1800ft2   simulated   \n",
       "3  simulated         2150             $2150  3br - 1200ft2   simulated   \n",
       "4  simulated         2150             $2150   1br - 726ft2   simulated   \n",
       "\n",
       "  parsed_data_longitude  ...  \\\n",
       "0           -122.026428  ...   \n",
       "1           -121.864673  ...   \n",
       "2           -122.439706  ...   \n",
       "3           -122.019156  ...   \n",
       "4           -122.076737  ...   \n",
       "\n",
       "                                  parsed_postingbody parsed_page_head  \\\n",
       "0  Well designed and spacious 2 bedroom, 2 1/2 ba...             None   \n",
       "1  Diamond Hillside Apartment Homes offers spacio...             None   \n",
       "2  clean 2 Bedroom 1 full bathroom 1 car garage. ...             None   \n",
       "3  Updated 1200 SQ FT 3 Bed 1.5 Bath 2-story hous...             None   \n",
       "4  Beautiful Fully Renovated 1 bedroom 1 bathroom...             None   \n",
       "\n",
       "                                       parsed_thumbs  FeedTitle  \\\n",
       "0  [https://images.craigslist.org/00Z0Z_5KZmIXxAc...  simulated   \n",
       "1  [https://images.craigslist.org/00c0c_505E4utDZ...  simulated   \n",
       "2  [https://images.craigslist.org/00G0G_2bsd96Q2m...  simulated   \n",
       "3  [https://images.craigslist.org/00s0s_fp0FHrerE...  simulated   \n",
       "4  [https://images.craigslist.org/01010_IJCcnFKWL...  simulated   \n",
       "\n",
       "                                parsed_titletextonly  \\\n",
       "0  Sunset Oaks Townhome- 1249 Crescent Terrace - ...   \n",
       "1  ❄ Pittsburg Apartment Living, Gated Community,...   \n",
       "2                2 Bedroom 1 Bath 1 Car Garage House   \n",
       "3  Updated 1200 SQ FT 3 Bed 1.5 Bath 2-story hous...   \n",
       "4  FULLY RENOVATED 1BED 1BATH IN HAYWARD! PRE-LEA...   \n",
       "\n",
       "                              intid parsed_data_latitude    FeedUrl  \\\n",
       "0  6aea5603583644368e76bac8293aa38a            37.353754  simulated   \n",
       "1  0f490163255448ac973218ae45b7fa99            38.008321  simulated   \n",
       "2  ef4a3ac21bca461bab5364dbda00144c            37.710526  simulated   \n",
       "3  bad01973976c49a88c0f45894ae19cc3             38.27479  simulated   \n",
       "4  51f6a9ed9e224966b5fe96faf83521a1            37.671644  simulated   \n",
       "\n",
       "  PostPublished                                     parsed_notices  \n",
       "0     simulated  [do NOT contact me with unsolicited services o...  \n",
       "1     simulated  [do NOT contact me with unsolicited services o...  \n",
       "2     simulated  [do NOT contact me with unsolicited services o...  \n",
       "3     simulated  [do NOT contact me with unsolicited services o...  \n",
       "4     simulated  [do NOT contact me with unsolicited services o...  \n",
       "\n",
       "[5 rows x 23 columns]"
      ]
     },
     "execution_count": 12,
     "metadata": {},
     "output_type": "execute_result"
    }
   ],
   "source": [
    "df.head()"
   ]
  },
  {
   "cell_type": "code",
   "execution_count": 13,
   "metadata": {},
   "outputs": [
    {
     "data": {
      "text/plain": [
       "count                                                  5856\n",
       "unique                                                 5049\n",
       "top       \"FULLY REMODELED\" 3 Bed, 1 Bath, Duplex - apts...\n",
       "freq                                                     15\n",
       "Name: parsed_page_head, dtype: object"
      ]
     },
     "execution_count": 13,
     "metadata": {},
     "output_type": "execute_result"
    }
   ],
   "source": [
    "df[\"parsed_page_head\"].describe()"
   ]
  },
  {
   "cell_type": "code",
   "execution_count": 14,
   "metadata": {},
   "outputs": [],
   "source": [
    "# small cleanup of \"simulated\"\n",
    "del df[\"FeedTitle\"]\n",
    "del df[\"FeedUrl\"]\n",
    "del df[\"PostContent\"]\n",
    "del df[\"PostPublished\"]\n",
    "del df[\"PostTitle\"]\n",
    "# delete parsed_notices. looks like it is the same\n",
    "del df[\"parsed_notices\"]\n",
    "# no need for price text\n",
    "del df[\"parsed_price_text\"]"
   ]
  },
  {
   "cell_type": "code",
   "execution_count": 15,
   "metadata": {},
   "outputs": [
    {
     "data": {
      "text/plain": [
       "Index(['parsed_postingtitletext', 'parsed_map_address', 'added', 'PostUrl',\n",
       "       'parsed_price', 'parsed_housing', 'parsed_data_longitude',\n",
       "       'parsed_attrs', 'parsed_district', 'parsed_map_link',\n",
       "       'parsed_postingbody', 'parsed_page_head', 'parsed_thumbs',\n",
       "       'parsed_titletextonly', 'intid', 'parsed_data_latitude'],\n",
       "      dtype='object')"
      ]
     },
     "execution_count": 15,
     "metadata": {},
     "output_type": "execute_result"
    }
   ],
   "source": [
    "df.columns"
   ]
  },
  {
   "cell_type": "code",
   "execution_count": 16,
   "metadata": {
    "scrolled": true
   },
   "outputs": [],
   "source": [
    "# for col in df.columns:\n",
    "#     print(col)\n",
    "#     print(df[col].describe())\n",
    "#     print(df[col].head())\n",
    "#     print(\"=\" * 60)"
   ]
  },
  {
   "cell_type": "code",
   "execution_count": 17,
   "metadata": {},
   "outputs": [],
   "source": [
    "def clean_parsed_args(args):\n",
    "    if not isinstance(args, list):\n",
    "        return []\n",
    "    clean = []\n",
    "    for p in args:\n",
    "        # remove days\n",
    "        if p.startswith(\"friday\") or p.startswith(\"monday\") or p.startswith(\"saturday\") or p.startswith(\"sunday\") or p.startswith(\"thursday\") or p.startswith(\"tuesday\") or p.startswith(\"wednesday\"):\n",
    "            continue\n",
    "        # remove br/ba\n",
    "        if \"BR / \" in p: continue\n",
    "        # remove ft2\n",
    "        if p.endswith(\"ft2\"): continue\n",
    "\n",
    "        # remove application fee\n",
    "        if p.startswith(\"application fee\"): continue\n",
    "        \n",
    "        # remove broker fee\n",
    "        if p.startswith(\"broker fee\"): continue\n",
    "        \n",
    "        # remove available\n",
    "        if p.startswith(\"available\"): continue\n",
    "        \n",
    "        # remove listed by\n",
    "        if p.startswith(\"listed by\"): continue\n",
    "        clean.append(p)\n",
    "    return clean\n",
    "        "
   ]
  },
  {
   "cell_type": "code",
   "execution_count": 18,
   "metadata": {},
   "outputs": [
    {
     "name": "stdout",
     "output_type": "stream",
     "text": [
      "EV charging\n",
      "apartment\n",
      "assisted living\n",
      "attached garage\n",
      "carport\n",
      "cats are OK - purrr\n",
      "condo\n",
      "cottage/cabin\n",
      "detached garage\n",
      "dogs are OK - wooof\n",
      "duplex\n",
      "flat\n",
      "furnished\n",
      "house\n",
      "in-law\n",
      "land\n",
      "laundry in bldg\n",
      "laundry on site\n",
      "loft\n",
      "manufactured\n",
      "no laundry on site\n",
      "no parking\n",
      "no smoking\n",
      "off-street parking\n",
      "street parking\n",
      "townhouse\n",
      "valet parking\n",
      "w/d hookups\n",
      "w/d in unit\n",
      "wheelchair accessible\n"
     ]
    }
   ],
   "source": [
    "aa = []\n",
    "for i in df['parsed_attrs']:\n",
    "    if isinstance(i, list): aa.extend(i)\n",
    "\n",
    "for i in sorted(set(clean_parsed_args(aa))):\n",
    "    print(i)\n",
    "    "
   ]
  },
  {
   "cell_type": "code",
   "execution_count": 19,
   "metadata": {},
   "outputs": [],
   "source": [
    "df['parsed_attrs'] = df['parsed_attrs'].map(clean_parsed_args)\n",
    "# one_hot = pd.get_dummies(df['parsed_attrs'])"
   ]
  },
  {
   "cell_type": "code",
   "execution_count": 20,
   "metadata": {},
   "outputs": [
    {
     "data": {
      "text/plain": [
       "0         [townhouse, w/d in unit, no smoking, detached ...\n",
       "1                                               [apartment]\n",
       "2         [house, laundry in bldg, no smoking, attached ...\n",
       "3                     [house, w/d hookups, detached garage]\n",
       "4         [cats are OK - purrr, dogs are OK - wooof, apa...\n",
       "                                ...                        \n",
       "843726    [cats are OK - purrr, apartment, laundry on si...\n",
       "843727    [townhouse, w/d in unit, no smoking, detached ...\n",
       "843728                                                   []\n",
       "843729    [cats are OK - purrr, dogs are OK - wooof, fur...\n",
       "843730        [apartment, laundry on site, detached garage]\n",
       "Name: parsed_attrs, Length: 843731, dtype: object"
      ]
     },
     "execution_count": 20,
     "metadata": {},
     "output_type": "execute_result"
    }
   ],
   "source": [
    "df['parsed_attrs']"
   ]
  },
  {
   "cell_type": "code",
   "execution_count": 21,
   "metadata": {},
   "outputs": [
    {
     "data": {
      "text/html": [
       "<div>\n",
       "<style scoped>\n",
       "    .dataframe tbody tr th:only-of-type {\n",
       "        vertical-align: middle;\n",
       "    }\n",
       "\n",
       "    .dataframe tbody tr th {\n",
       "        vertical-align: top;\n",
       "    }\n",
       "\n",
       "    .dataframe thead th {\n",
       "        text-align: right;\n",
       "    }\n",
       "</style>\n",
       "<table border=\"1\" class=\"dataframe\">\n",
       "  <thead>\n",
       "    <tr style=\"text-align: right;\">\n",
       "      <th></th>\n",
       "      <th>parsed_postingtitletext</th>\n",
       "      <th>parsed_map_address</th>\n",
       "      <th>added</th>\n",
       "      <th>PostUrl</th>\n",
       "      <th>parsed_price</th>\n",
       "      <th>parsed_housing</th>\n",
       "      <th>parsed_data_longitude</th>\n",
       "      <th>parsed_attrs</th>\n",
       "      <th>parsed_district</th>\n",
       "      <th>parsed_map_link</th>\n",
       "      <th>parsed_postingbody</th>\n",
       "      <th>parsed_page_head</th>\n",
       "      <th>parsed_thumbs</th>\n",
       "      <th>parsed_titletextonly</th>\n",
       "      <th>intid</th>\n",
       "      <th>parsed_data_latitude</th>\n",
       "    </tr>\n",
       "  </thead>\n",
       "  <tbody>\n",
       "    <tr>\n",
       "      <th>0</th>\n",
       "      <td>$3150 / 2br - 1300ft2 - Sunset Oaks Townhome- ...</td>\n",
       "      <td>1249 Crescent Terrace</td>\n",
       "      <td>1538706586266</td>\n",
       "      <td>https://sfbay.craigslist.org/sby/apa/d/sunset-...</td>\n",
       "      <td>3150</td>\n",
       "      <td>2br - 1300ft2</td>\n",
       "      <td>-122.026428</td>\n",
       "      <td>[townhouse, w/d in unit, no smoking, detached ...</td>\n",
       "      <td>sunnyvale</td>\n",
       "      <td>https://maps.google.com/?q=loc%3A+%31%32%34%39...</td>\n",
       "      <td>Well designed and spacious 2 bedroom, 2 1/2 ba...</td>\n",
       "      <td>None</td>\n",
       "      <td>[https://images.craigslist.org/00Z0Z_5KZmIXxAc...</td>\n",
       "      <td>Sunset Oaks Townhome- 1249 Crescent Terrace - ...</td>\n",
       "      <td>6aea5603583644368e76bac8293aa38a</td>\n",
       "      <td>37.353754</td>\n",
       "    </tr>\n",
       "    <tr>\n",
       "      <th>1</th>\n",
       "      <td>$1769 / 2br - 875ft2 - ❄ Pittsburg Apartment L...</td>\n",
       "      <td>2205 E Leland Rd</td>\n",
       "      <td>1539451812116</td>\n",
       "      <td>https://sfbay.craigslist.org/eby/apa/d/pittsbu...</td>\n",
       "      <td>1769</td>\n",
       "      <td>2br - 875ft2</td>\n",
       "      <td>-121.864673</td>\n",
       "      <td>[apartment]</td>\n",
       "      <td>Pittsburg, CA</td>\n",
       "      <td>https://maps.google.com/?q=loc%3A+%32%32%30%35...</td>\n",
       "      <td>Diamond Hillside Apartment Homes offers spacio...</td>\n",
       "      <td>None</td>\n",
       "      <td>[https://images.craigslist.org/00c0c_505E4utDZ...</td>\n",
       "      <td>❄ Pittsburg Apartment Living, Gated Community,...</td>\n",
       "      <td>0f490163255448ac973218ae45b7fa99</td>\n",
       "      <td>38.008321</td>\n",
       "    </tr>\n",
       "    <tr>\n",
       "      <th>2</th>\n",
       "      <td>$3000 / 2br - 1800ft2 - 2 Bedroom 1 Bath 1 Car...</td>\n",
       "      <td>375 Pope Street</td>\n",
       "      <td>1538947757137</td>\n",
       "      <td>https://sfbay.craigslist.org/sfc/apa/d/2-bedro...</td>\n",
       "      <td>3000</td>\n",
       "      <td>2br - 1800ft2</td>\n",
       "      <td>-122.439706</td>\n",
       "      <td>[house, laundry in bldg, no smoking, attached ...</td>\n",
       "      <td>excelsior / outer mission</td>\n",
       "      <td>https://maps.google.com/?q=loc%3A+%33%37%35+Po...</td>\n",
       "      <td>clean 2 Bedroom 1 full bathroom 1 car garage. ...</td>\n",
       "      <td>None</td>\n",
       "      <td>[https://images.craigslist.org/00G0G_2bsd96Q2m...</td>\n",
       "      <td>2 Bedroom 1 Bath 1 Car Garage House</td>\n",
       "      <td>ef4a3ac21bca461bab5364dbda00144c</td>\n",
       "      <td>37.710526</td>\n",
       "    </tr>\n",
       "    <tr>\n",
       "      <th>3</th>\n",
       "      <td>$2150 / 3br - 1200ft2 - Updated 1200 SQ FT 3 B...</td>\n",
       "      <td>2436 Baltic Dr</td>\n",
       "      <td>1585287116209</td>\n",
       "      <td>https://sfbay.craigslist.org/eby/apa/d/fairfie...</td>\n",
       "      <td>2150</td>\n",
       "      <td>3br - 1200ft2</td>\n",
       "      <td>-122.019156</td>\n",
       "      <td>[house, w/d hookups, detached garage]</td>\n",
       "      <td>fairfield / vacaville</td>\n",
       "      <td>https://www.google.com/maps/search/38.274790,-...</td>\n",
       "      <td>Updated 1200 SQ FT 3 Bed 1.5 Bath 2-story hous...</td>\n",
       "      <td>None</td>\n",
       "      <td>[https://images.craigslist.org/00s0s_fp0FHrerE...</td>\n",
       "      <td>Updated 1200 SQ FT 3 Bed 1.5 Bath 2-story hous...</td>\n",
       "      <td>bad01973976c49a88c0f45894ae19cc3</td>\n",
       "      <td>38.27479</td>\n",
       "    </tr>\n",
       "    <tr>\n",
       "      <th>4</th>\n",
       "      <td>$2150 / 1br - 726ft2 - FULLY RENOVATED 1BED 1B...</td>\n",
       "      <td>1182 E Street near 2nd</td>\n",
       "      <td>1587684611249</td>\n",
       "      <td>https://sfbay.craigslist.org/eby/apa/d/hayward...</td>\n",
       "      <td>2150</td>\n",
       "      <td>1br - 726ft2</td>\n",
       "      <td>-122.076737</td>\n",
       "      <td>[cats are OK - purrr, dogs are OK - wooof, apa...</td>\n",
       "      <td>hayward / castro valley</td>\n",
       "      <td>https://www.google.com/maps/search/37.671644,-...</td>\n",
       "      <td>Beautiful Fully Renovated 1 bedroom 1 bathroom...</td>\n",
       "      <td>None</td>\n",
       "      <td>[https://images.craigslist.org/01010_IJCcnFKWL...</td>\n",
       "      <td>FULLY RENOVATED 1BED 1BATH IN HAYWARD! PRE-LEA...</td>\n",
       "      <td>51f6a9ed9e224966b5fe96faf83521a1</td>\n",
       "      <td>37.671644</td>\n",
       "    </tr>\n",
       "  </tbody>\n",
       "</table>\n",
       "</div>"
      ],
      "text/plain": [
       "                             parsed_postingtitletext      parsed_map_address  \\\n",
       "0  $3150 / 2br - 1300ft2 - Sunset Oaks Townhome- ...   1249 Crescent Terrace   \n",
       "1  $1769 / 2br - 875ft2 - ❄ Pittsburg Apartment L...        2205 E Leland Rd   \n",
       "2  $3000 / 2br - 1800ft2 - 2 Bedroom 1 Bath 1 Car...         375 Pope Street   \n",
       "3  $2150 / 3br - 1200ft2 - Updated 1200 SQ FT 3 B...          2436 Baltic Dr   \n",
       "4  $2150 / 1br - 726ft2 - FULLY RENOVATED 1BED 1B...  1182 E Street near 2nd   \n",
       "\n",
       "           added                                            PostUrl  \\\n",
       "0  1538706586266  https://sfbay.craigslist.org/sby/apa/d/sunset-...   \n",
       "1  1539451812116  https://sfbay.craigslist.org/eby/apa/d/pittsbu...   \n",
       "2  1538947757137  https://sfbay.craigslist.org/sfc/apa/d/2-bedro...   \n",
       "3  1585287116209  https://sfbay.craigslist.org/eby/apa/d/fairfie...   \n",
       "4  1587684611249  https://sfbay.craigslist.org/eby/apa/d/hayward...   \n",
       "\n",
       "  parsed_price parsed_housing parsed_data_longitude  \\\n",
       "0         3150  2br - 1300ft2           -122.026428   \n",
       "1         1769   2br - 875ft2           -121.864673   \n",
       "2         3000  2br - 1800ft2           -122.439706   \n",
       "3         2150  3br - 1200ft2           -122.019156   \n",
       "4         2150   1br - 726ft2           -122.076737   \n",
       "\n",
       "                                        parsed_attrs  \\\n",
       "0  [townhouse, w/d in unit, no smoking, detached ...   \n",
       "1                                        [apartment]   \n",
       "2  [house, laundry in bldg, no smoking, attached ...   \n",
       "3              [house, w/d hookups, detached garage]   \n",
       "4  [cats are OK - purrr, dogs are OK - wooof, apa...   \n",
       "\n",
       "             parsed_district  \\\n",
       "0                  sunnyvale   \n",
       "1              Pittsburg, CA   \n",
       "2  excelsior / outer mission   \n",
       "3      fairfield / vacaville   \n",
       "4    hayward / castro valley   \n",
       "\n",
       "                                     parsed_map_link  \\\n",
       "0  https://maps.google.com/?q=loc%3A+%31%32%34%39...   \n",
       "1  https://maps.google.com/?q=loc%3A+%32%32%30%35...   \n",
       "2  https://maps.google.com/?q=loc%3A+%33%37%35+Po...   \n",
       "3  https://www.google.com/maps/search/38.274790,-...   \n",
       "4  https://www.google.com/maps/search/37.671644,-...   \n",
       "\n",
       "                                  parsed_postingbody parsed_page_head  \\\n",
       "0  Well designed and spacious 2 bedroom, 2 1/2 ba...             None   \n",
       "1  Diamond Hillside Apartment Homes offers spacio...             None   \n",
       "2  clean 2 Bedroom 1 full bathroom 1 car garage. ...             None   \n",
       "3  Updated 1200 SQ FT 3 Bed 1.5 Bath 2-story hous...             None   \n",
       "4  Beautiful Fully Renovated 1 bedroom 1 bathroom...             None   \n",
       "\n",
       "                                       parsed_thumbs  \\\n",
       "0  [https://images.craigslist.org/00Z0Z_5KZmIXxAc...   \n",
       "1  [https://images.craigslist.org/00c0c_505E4utDZ...   \n",
       "2  [https://images.craigslist.org/00G0G_2bsd96Q2m...   \n",
       "3  [https://images.craigslist.org/00s0s_fp0FHrerE...   \n",
       "4  [https://images.craigslist.org/01010_IJCcnFKWL...   \n",
       "\n",
       "                                parsed_titletextonly  \\\n",
       "0  Sunset Oaks Townhome- 1249 Crescent Terrace - ...   \n",
       "1  ❄ Pittsburg Apartment Living, Gated Community,...   \n",
       "2                2 Bedroom 1 Bath 1 Car Garage House   \n",
       "3  Updated 1200 SQ FT 3 Bed 1.5 Bath 2-story hous...   \n",
       "4  FULLY RENOVATED 1BED 1BATH IN HAYWARD! PRE-LEA...   \n",
       "\n",
       "                              intid parsed_data_latitude  \n",
       "0  6aea5603583644368e76bac8293aa38a            37.353754  \n",
       "1  0f490163255448ac973218ae45b7fa99            38.008321  \n",
       "2  ef4a3ac21bca461bab5364dbda00144c            37.710526  \n",
       "3  bad01973976c49a88c0f45894ae19cc3             38.27479  \n",
       "4  51f6a9ed9e224966b5fe96faf83521a1            37.671644  "
      ]
     },
     "execution_count": 21,
     "metadata": {},
     "output_type": "execute_result"
    }
   ],
   "source": [
    "df.head()"
   ]
  },
  {
   "cell_type": "code",
   "execution_count": 22,
   "metadata": {},
   "outputs": [
    {
     "data": {
      "text/plain": [
       "(843731, 16)"
      ]
     },
     "execution_count": 22,
     "metadata": {},
     "output_type": "execute_result"
    }
   ],
   "source": [
    "df.shape"
   ]
  },
  {
   "cell_type": "code",
   "execution_count": 23,
   "metadata": {},
   "outputs": [],
   "source": [
    "def get_type(attrs):\n",
    "    if not isinstance(attrs, list):\n",
    "        return None\n",
    "    types = set([\n",
    "        \"apartment\", \n",
    "        \"townhouse\", \n",
    "        \"loft\", \n",
    "        \"land\", \n",
    "        \"house\", \n",
    "        \"duplex\", \n",
    "        \"flat\", \n",
    "        \"condo\", \n",
    "        \"cottage/cabin\"\n",
    "    ])\n",
    "    return \",\".join(sorted(types & set(attrs)))"
   ]
  },
  {
   "cell_type": "code",
   "execution_count": 24,
   "metadata": {},
   "outputs": [],
   "source": [
    "def prepare_data(df):\n",
    "    new  = pd.DataFrame()\n",
    "    new[\"latitude\"] = df[\"parsed_data_latitude\"]\n",
    "    new[\"longitude\"] = df[\"parsed_data_longitude\"]\n",
    "    new[\"district\"] = df[\"parsed_district\"].map(lambda s: s.strip(\"()\") if isinstance(s, str) else s)\n",
    "    new[\"address\"] = df[\"parsed_map_address\"].map(lambda x: x if x != \"(google map)\" else None)\n",
    "    new[\"housing\"] = df[\"parsed_housing\"]\n",
    "    \n",
    "    new[\"price\"] = df[\"parsed_price\"].map(lambda x: float(x) if x else x)\n",
    "    \n",
    "    # to numerical values\n",
    "    new['price'] = pd.to_numeric(new['price'])\n",
    "    new['longitude'] = pd.to_numeric(new['longitude'])\n",
    "    new['latitude'] = pd.to_numeric(new['latitude'])\n",
    "    \n",
    "    new['bedrooms'] = new['housing'].str.extract('(\\d+)br\\s.*', expand=True)\n",
    "    new['bedrooms'] = pd.to_numeric(new['bedrooms'])\n",
    "    \n",
    "    new['area'] = new['housing'].str.extract('(\\d+)ft2', expand=True)\n",
    "    new['area'] = pd.to_numeric(new['area'])\n",
    "    \n",
    "    new['type'] = df[\"parsed_attrs\"].map(get_type)\n",
    "    new['catsok'] = df[\"parsed_attrs\"].map(lambda x: \"cats are OK - purrr\" in x)\n",
    "    new['dogsok'] = df[\"parsed_attrs\"].map(lambda x: \"dogs are OK - wooof\" in x)\n",
    "    new['garagea'] = df[\"parsed_attrs\"].map(lambda x: \"attached garage\" in x)\n",
    "    new['garaged'] = df[\"parsed_attrs\"].map(lambda x: \"detached garage\" in x)\n",
    "    new['furnished'] = df[\"parsed_attrs\"].map(lambda x: \"furnished\" in x)\n",
    "    \n",
    "    new['laundryb'] = df[\"parsed_attrs\"].map(lambda x: \"laundry in bldg\" in x)\n",
    "    new['laundrys'] = df[\"parsed_attrs\"].map(lambda x: \"laundry on site\" in x)\n",
    "    \n",
    "    new['wd'] = df[\"parsed_attrs\"].map(lambda x: \"w/d in unit\" in x)\n",
    "\n",
    "    return new"
   ]
  },
  {
   "cell_type": "code",
   "execution_count": 35,
   "metadata": {},
   "outputs": [],
   "source": [
    "short = prepare_data(df)"
   ]
  },
  {
   "cell_type": "code",
   "execution_count": 36,
   "metadata": {},
   "outputs": [
    {
     "data": {
      "text/html": [
       "<div>\n",
       "<style scoped>\n",
       "    .dataframe tbody tr th:only-of-type {\n",
       "        vertical-align: middle;\n",
       "    }\n",
       "\n",
       "    .dataframe tbody tr th {\n",
       "        vertical-align: top;\n",
       "    }\n",
       "\n",
       "    .dataframe thead th {\n",
       "        text-align: right;\n",
       "    }\n",
       "</style>\n",
       "<table border=\"1\" class=\"dataframe\">\n",
       "  <thead>\n",
       "    <tr style=\"text-align: right;\">\n",
       "      <th></th>\n",
       "      <th>latitude</th>\n",
       "      <th>longitude</th>\n",
       "      <th>district</th>\n",
       "      <th>address</th>\n",
       "      <th>housing</th>\n",
       "      <th>price</th>\n",
       "      <th>bedrooms</th>\n",
       "      <th>area</th>\n",
       "      <th>type</th>\n",
       "      <th>catsok</th>\n",
       "      <th>dogsok</th>\n",
       "      <th>garagea</th>\n",
       "      <th>garaged</th>\n",
       "      <th>furnished</th>\n",
       "      <th>laundryb</th>\n",
       "      <th>laundrys</th>\n",
       "      <th>wd</th>\n",
       "    </tr>\n",
       "  </thead>\n",
       "  <tbody>\n",
       "    <tr>\n",
       "      <th>0</th>\n",
       "      <td>37.353754</td>\n",
       "      <td>-122.026428</td>\n",
       "      <td>sunnyvale</td>\n",
       "      <td>1249 Crescent Terrace</td>\n",
       "      <td>2br - 1300ft2</td>\n",
       "      <td>3150.0</td>\n",
       "      <td>2.0</td>\n",
       "      <td>1300.0</td>\n",
       "      <td>townhouse</td>\n",
       "      <td>False</td>\n",
       "      <td>False</td>\n",
       "      <td>False</td>\n",
       "      <td>True</td>\n",
       "      <td>False</td>\n",
       "      <td>False</td>\n",
       "      <td>False</td>\n",
       "      <td>True</td>\n",
       "    </tr>\n",
       "    <tr>\n",
       "      <th>1</th>\n",
       "      <td>38.008321</td>\n",
       "      <td>-121.864673</td>\n",
       "      <td>Pittsburg, CA</td>\n",
       "      <td>2205 E Leland Rd</td>\n",
       "      <td>2br - 875ft2</td>\n",
       "      <td>1769.0</td>\n",
       "      <td>2.0</td>\n",
       "      <td>875.0</td>\n",
       "      <td>apartment</td>\n",
       "      <td>False</td>\n",
       "      <td>False</td>\n",
       "      <td>False</td>\n",
       "      <td>False</td>\n",
       "      <td>False</td>\n",
       "      <td>False</td>\n",
       "      <td>False</td>\n",
       "      <td>False</td>\n",
       "    </tr>\n",
       "    <tr>\n",
       "      <th>2</th>\n",
       "      <td>37.710526</td>\n",
       "      <td>-122.439706</td>\n",
       "      <td>excelsior / outer mission</td>\n",
       "      <td>375 Pope Street</td>\n",
       "      <td>2br - 1800ft2</td>\n",
       "      <td>3000.0</td>\n",
       "      <td>2.0</td>\n",
       "      <td>1800.0</td>\n",
       "      <td>house</td>\n",
       "      <td>False</td>\n",
       "      <td>False</td>\n",
       "      <td>True</td>\n",
       "      <td>False</td>\n",
       "      <td>False</td>\n",
       "      <td>True</td>\n",
       "      <td>False</td>\n",
       "      <td>False</td>\n",
       "    </tr>\n",
       "    <tr>\n",
       "      <th>3</th>\n",
       "      <td>38.274790</td>\n",
       "      <td>-122.019156</td>\n",
       "      <td>fairfield / vacaville</td>\n",
       "      <td>2436 Baltic Dr</td>\n",
       "      <td>3br - 1200ft2</td>\n",
       "      <td>2150.0</td>\n",
       "      <td>3.0</td>\n",
       "      <td>1200.0</td>\n",
       "      <td>house</td>\n",
       "      <td>False</td>\n",
       "      <td>False</td>\n",
       "      <td>False</td>\n",
       "      <td>True</td>\n",
       "      <td>False</td>\n",
       "      <td>False</td>\n",
       "      <td>False</td>\n",
       "      <td>False</td>\n",
       "    </tr>\n",
       "    <tr>\n",
       "      <th>4</th>\n",
       "      <td>37.671644</td>\n",
       "      <td>-122.076737</td>\n",
       "      <td>hayward / castro valley</td>\n",
       "      <td>1182 E Street near 2nd</td>\n",
       "      <td>1br - 726ft2</td>\n",
       "      <td>2150.0</td>\n",
       "      <td>1.0</td>\n",
       "      <td>726.0</td>\n",
       "      <td>apartment</td>\n",
       "      <td>True</td>\n",
       "      <td>True</td>\n",
       "      <td>False</td>\n",
       "      <td>False</td>\n",
       "      <td>False</td>\n",
       "      <td>False</td>\n",
       "      <td>False</td>\n",
       "      <td>True</td>\n",
       "    </tr>\n",
       "    <tr>\n",
       "      <th>...</th>\n",
       "      <td>...</td>\n",
       "      <td>...</td>\n",
       "      <td>...</td>\n",
       "      <td>...</td>\n",
       "      <td>...</td>\n",
       "      <td>...</td>\n",
       "      <td>...</td>\n",
       "      <td>...</td>\n",
       "      <td>...</td>\n",
       "      <td>...</td>\n",
       "      <td>...</td>\n",
       "      <td>...</td>\n",
       "      <td>...</td>\n",
       "      <td>...</td>\n",
       "      <td>...</td>\n",
       "      <td>...</td>\n",
       "      <td>...</td>\n",
       "    </tr>\n",
       "    <tr>\n",
       "      <th>843726</th>\n",
       "      <td>37.337841</td>\n",
       "      <td>-121.978369</td>\n",
       "      <td>santa clara</td>\n",
       "      <td>2865 Homestead Rd</td>\n",
       "      <td>1br - 750ft2</td>\n",
       "      <td>2195.0</td>\n",
       "      <td>1.0</td>\n",
       "      <td>750.0</td>\n",
       "      <td>apartment</td>\n",
       "      <td>True</td>\n",
       "      <td>False</td>\n",
       "      <td>False</td>\n",
       "      <td>False</td>\n",
       "      <td>False</td>\n",
       "      <td>False</td>\n",
       "      <td>True</td>\n",
       "      <td>False</td>\n",
       "    </tr>\n",
       "    <tr>\n",
       "      <th>843727</th>\n",
       "      <td>37.552033</td>\n",
       "      <td>-121.996875</td>\n",
       "      <td>fremont / union city / newark</td>\n",
       "      <td>4095 EGGERS DR</td>\n",
       "      <td>2br - 1000ft2</td>\n",
       "      <td>2800.0</td>\n",
       "      <td>2.0</td>\n",
       "      <td>1000.0</td>\n",
       "      <td>townhouse</td>\n",
       "      <td>False</td>\n",
       "      <td>False</td>\n",
       "      <td>False</td>\n",
       "      <td>True</td>\n",
       "      <td>False</td>\n",
       "      <td>False</td>\n",
       "      <td>False</td>\n",
       "      <td>True</td>\n",
       "    </tr>\n",
       "    <tr>\n",
       "      <th>843728</th>\n",
       "      <td>NaN</td>\n",
       "      <td>NaN</td>\n",
       "      <td>fairfield / vacaville</td>\n",
       "      <td>NaN</td>\n",
       "      <td>/ 2br - 918ft2 -</td>\n",
       "      <td>1965.0</td>\n",
       "      <td>2.0</td>\n",
       "      <td>918.0</td>\n",
       "      <td></td>\n",
       "      <td>False</td>\n",
       "      <td>False</td>\n",
       "      <td>False</td>\n",
       "      <td>False</td>\n",
       "      <td>False</td>\n",
       "      <td>False</td>\n",
       "      <td>False</td>\n",
       "      <td>False</td>\n",
       "    </tr>\n",
       "    <tr>\n",
       "      <th>843729</th>\n",
       "      <td>37.787295</td>\n",
       "      <td>-122.392719</td>\n",
       "      <td>Rincon Hill</td>\n",
       "      <td>340 Fremont St, San Francisco, CA 94105, USA</td>\n",
       "      <td>1br - 708ft2</td>\n",
       "      <td>4890.0</td>\n",
       "      <td>1.0</td>\n",
       "      <td>708.0</td>\n",
       "      <td>apartment</td>\n",
       "      <td>True</td>\n",
       "      <td>True</td>\n",
       "      <td>False</td>\n",
       "      <td>False</td>\n",
       "      <td>True</td>\n",
       "      <td>False</td>\n",
       "      <td>False</td>\n",
       "      <td>True</td>\n",
       "    </tr>\n",
       "    <tr>\n",
       "      <th>843730</th>\n",
       "      <td>37.310800</td>\n",
       "      <td>-121.962300</td>\n",
       "      <td>ingleside / SFSU / CCSF</td>\n",
       "      <td>None</td>\n",
       "      <td>1br - 750ft2</td>\n",
       "      <td>2750.0</td>\n",
       "      <td>1.0</td>\n",
       "      <td>750.0</td>\n",
       "      <td>apartment</td>\n",
       "      <td>False</td>\n",
       "      <td>False</td>\n",
       "      <td>False</td>\n",
       "      <td>True</td>\n",
       "      <td>False</td>\n",
       "      <td>False</td>\n",
       "      <td>True</td>\n",
       "      <td>False</td>\n",
       "    </tr>\n",
       "  </tbody>\n",
       "</table>\n",
       "<p>843731 rows × 17 columns</p>\n",
       "</div>"
      ],
      "text/plain": [
       "         latitude   longitude                       district  \\\n",
       "0       37.353754 -122.026428                      sunnyvale   \n",
       "1       38.008321 -121.864673                  Pittsburg, CA   \n",
       "2       37.710526 -122.439706      excelsior / outer mission   \n",
       "3       38.274790 -122.019156          fairfield / vacaville   \n",
       "4       37.671644 -122.076737        hayward / castro valley   \n",
       "...           ...         ...                            ...   \n",
       "843726  37.337841 -121.978369                    santa clara   \n",
       "843727  37.552033 -121.996875  fremont / union city / newark   \n",
       "843728        NaN         NaN          fairfield / vacaville   \n",
       "843729  37.787295 -122.392719                    Rincon Hill   \n",
       "843730  37.310800 -121.962300        ingleside / SFSU / CCSF   \n",
       "\n",
       "                                             address           housing  \\\n",
       "0                              1249 Crescent Terrace     2br - 1300ft2   \n",
       "1                                   2205 E Leland Rd      2br - 875ft2   \n",
       "2                                    375 Pope Street     2br - 1800ft2   \n",
       "3                                     2436 Baltic Dr     3br - 1200ft2   \n",
       "4                             1182 E Street near 2nd      1br - 726ft2   \n",
       "...                                              ...               ...   \n",
       "843726                             2865 Homestead Rd      1br - 750ft2   \n",
       "843727                                4095 EGGERS DR     2br - 1000ft2   \n",
       "843728                                           NaN  / 2br - 918ft2 -   \n",
       "843729  340 Fremont St, San Francisco, CA 94105, USA      1br - 708ft2   \n",
       "843730                                          None      1br - 750ft2   \n",
       "\n",
       "         price  bedrooms    area       type  catsok  dogsok  garagea  garaged  \\\n",
       "0       3150.0       2.0  1300.0  townhouse   False   False    False     True   \n",
       "1       1769.0       2.0   875.0  apartment   False   False    False    False   \n",
       "2       3000.0       2.0  1800.0      house   False   False     True    False   \n",
       "3       2150.0       3.0  1200.0      house   False   False    False     True   \n",
       "4       2150.0       1.0   726.0  apartment    True    True    False    False   \n",
       "...        ...       ...     ...        ...     ...     ...      ...      ...   \n",
       "843726  2195.0       1.0   750.0  apartment    True   False    False    False   \n",
       "843727  2800.0       2.0  1000.0  townhouse   False   False    False     True   \n",
       "843728  1965.0       2.0   918.0              False   False    False    False   \n",
       "843729  4890.0       1.0   708.0  apartment    True    True    False    False   \n",
       "843730  2750.0       1.0   750.0  apartment   False   False    False     True   \n",
       "\n",
       "        furnished  laundryb  laundrys     wd  \n",
       "0           False     False     False   True  \n",
       "1           False     False     False  False  \n",
       "2           False      True     False  False  \n",
       "3           False     False     False  False  \n",
       "4           False     False     False   True  \n",
       "...           ...       ...       ...    ...  \n",
       "843726      False     False      True  False  \n",
       "843727      False     False     False   True  \n",
       "843728      False     False     False  False  \n",
       "843729       True     False     False   True  \n",
       "843730      False     False      True  False  \n",
       "\n",
       "[843731 rows x 17 columns]"
      ]
     },
     "execution_count": 36,
     "metadata": {},
     "output_type": "execute_result"
    }
   ],
   "source": [
    "short"
   ]
  },
  {
   "cell_type": "code",
   "execution_count": 37,
   "metadata": {},
   "outputs": [
    {
     "data": {
      "text/plain": [
       "(843731, 17)"
      ]
     },
     "execution_count": 37,
     "metadata": {},
     "output_type": "execute_result"
    }
   ],
   "source": [
    "short.shape"
   ]
  },
  {
   "cell_type": "code",
   "execution_count": 38,
   "metadata": {},
   "outputs": [],
   "source": [
    "del short[\"housing\"]\n",
    "del short[\"address\"]"
   ]
  },
  {
   "cell_type": "code",
   "execution_count": 39,
   "metadata": {},
   "outputs": [
    {
     "data": {
      "text/plain": [
       "latitude     float64\n",
       "longitude    float64\n",
       "district      object\n",
       "price        float64\n",
       "bedrooms     float64\n",
       "area         float64\n",
       "type          object\n",
       "catsok          bool\n",
       "dogsok          bool\n",
       "garagea         bool\n",
       "garaged         bool\n",
       "furnished       bool\n",
       "laundryb        bool\n",
       "laundrys        bool\n",
       "wd              bool\n",
       "dtype: object"
      ]
     },
     "execution_count": 39,
     "metadata": {},
     "output_type": "execute_result"
    }
   ],
   "source": [
    "short.dtypes"
   ]
  },
  {
   "cell_type": "code",
   "execution_count": 40,
   "metadata": {},
   "outputs": [
    {
     "data": {
      "text/html": [
       "<div>\n",
       "<style scoped>\n",
       "    .dataframe tbody tr th:only-of-type {\n",
       "        vertical-align: middle;\n",
       "    }\n",
       "\n",
       "    .dataframe tbody tr th {\n",
       "        vertical-align: top;\n",
       "    }\n",
       "\n",
       "    .dataframe thead th {\n",
       "        text-align: right;\n",
       "    }\n",
       "</style>\n",
       "<table border=\"1\" class=\"dataframe\">\n",
       "  <thead>\n",
       "    <tr style=\"text-align: right;\">\n",
       "      <th></th>\n",
       "      <th>latitude</th>\n",
       "      <th>longitude</th>\n",
       "      <th>district</th>\n",
       "      <th>price</th>\n",
       "      <th>bedrooms</th>\n",
       "      <th>area</th>\n",
       "      <th>type</th>\n",
       "      <th>catsok</th>\n",
       "      <th>dogsok</th>\n",
       "      <th>garagea</th>\n",
       "      <th>garaged</th>\n",
       "      <th>furnished</th>\n",
       "      <th>laundryb</th>\n",
       "      <th>laundrys</th>\n",
       "      <th>wd</th>\n",
       "    </tr>\n",
       "  </thead>\n",
       "  <tbody>\n",
       "    <tr>\n",
       "      <th>0</th>\n",
       "      <td>37.353754</td>\n",
       "      <td>-122.026428</td>\n",
       "      <td>sunnyvale</td>\n",
       "      <td>3150.0</td>\n",
       "      <td>2.0</td>\n",
       "      <td>1300.0</td>\n",
       "      <td>townhouse</td>\n",
       "      <td>False</td>\n",
       "      <td>False</td>\n",
       "      <td>False</td>\n",
       "      <td>True</td>\n",
       "      <td>False</td>\n",
       "      <td>False</td>\n",
       "      <td>False</td>\n",
       "      <td>True</td>\n",
       "    </tr>\n",
       "    <tr>\n",
       "      <th>1</th>\n",
       "      <td>38.008321</td>\n",
       "      <td>-121.864673</td>\n",
       "      <td>Pittsburg, CA</td>\n",
       "      <td>1769.0</td>\n",
       "      <td>2.0</td>\n",
       "      <td>875.0</td>\n",
       "      <td>apartment</td>\n",
       "      <td>False</td>\n",
       "      <td>False</td>\n",
       "      <td>False</td>\n",
       "      <td>False</td>\n",
       "      <td>False</td>\n",
       "      <td>False</td>\n",
       "      <td>False</td>\n",
       "      <td>False</td>\n",
       "    </tr>\n",
       "    <tr>\n",
       "      <th>2</th>\n",
       "      <td>37.710526</td>\n",
       "      <td>-122.439706</td>\n",
       "      <td>excelsior / outer mission</td>\n",
       "      <td>3000.0</td>\n",
       "      <td>2.0</td>\n",
       "      <td>1800.0</td>\n",
       "      <td>house</td>\n",
       "      <td>False</td>\n",
       "      <td>False</td>\n",
       "      <td>True</td>\n",
       "      <td>False</td>\n",
       "      <td>False</td>\n",
       "      <td>True</td>\n",
       "      <td>False</td>\n",
       "      <td>False</td>\n",
       "    </tr>\n",
       "    <tr>\n",
       "      <th>3</th>\n",
       "      <td>38.274790</td>\n",
       "      <td>-122.019156</td>\n",
       "      <td>fairfield / vacaville</td>\n",
       "      <td>2150.0</td>\n",
       "      <td>3.0</td>\n",
       "      <td>1200.0</td>\n",
       "      <td>house</td>\n",
       "      <td>False</td>\n",
       "      <td>False</td>\n",
       "      <td>False</td>\n",
       "      <td>True</td>\n",
       "      <td>False</td>\n",
       "      <td>False</td>\n",
       "      <td>False</td>\n",
       "      <td>False</td>\n",
       "    </tr>\n",
       "    <tr>\n",
       "      <th>4</th>\n",
       "      <td>37.671644</td>\n",
       "      <td>-122.076737</td>\n",
       "      <td>hayward / castro valley</td>\n",
       "      <td>2150.0</td>\n",
       "      <td>1.0</td>\n",
       "      <td>726.0</td>\n",
       "      <td>apartment</td>\n",
       "      <td>True</td>\n",
       "      <td>True</td>\n",
       "      <td>False</td>\n",
       "      <td>False</td>\n",
       "      <td>False</td>\n",
       "      <td>False</td>\n",
       "      <td>False</td>\n",
       "      <td>True</td>\n",
       "    </tr>\n",
       "    <tr>\n",
       "      <th>...</th>\n",
       "      <td>...</td>\n",
       "      <td>...</td>\n",
       "      <td>...</td>\n",
       "      <td>...</td>\n",
       "      <td>...</td>\n",
       "      <td>...</td>\n",
       "      <td>...</td>\n",
       "      <td>...</td>\n",
       "      <td>...</td>\n",
       "      <td>...</td>\n",
       "      <td>...</td>\n",
       "      <td>...</td>\n",
       "      <td>...</td>\n",
       "      <td>...</td>\n",
       "      <td>...</td>\n",
       "    </tr>\n",
       "    <tr>\n",
       "      <th>843726</th>\n",
       "      <td>37.337841</td>\n",
       "      <td>-121.978369</td>\n",
       "      <td>santa clara</td>\n",
       "      <td>2195.0</td>\n",
       "      <td>1.0</td>\n",
       "      <td>750.0</td>\n",
       "      <td>apartment</td>\n",
       "      <td>True</td>\n",
       "      <td>False</td>\n",
       "      <td>False</td>\n",
       "      <td>False</td>\n",
       "      <td>False</td>\n",
       "      <td>False</td>\n",
       "      <td>True</td>\n",
       "      <td>False</td>\n",
       "    </tr>\n",
       "    <tr>\n",
       "      <th>843727</th>\n",
       "      <td>37.552033</td>\n",
       "      <td>-121.996875</td>\n",
       "      <td>fremont / union city / newark</td>\n",
       "      <td>2800.0</td>\n",
       "      <td>2.0</td>\n",
       "      <td>1000.0</td>\n",
       "      <td>townhouse</td>\n",
       "      <td>False</td>\n",
       "      <td>False</td>\n",
       "      <td>False</td>\n",
       "      <td>True</td>\n",
       "      <td>False</td>\n",
       "      <td>False</td>\n",
       "      <td>False</td>\n",
       "      <td>True</td>\n",
       "    </tr>\n",
       "    <tr>\n",
       "      <th>843728</th>\n",
       "      <td>NaN</td>\n",
       "      <td>NaN</td>\n",
       "      <td>fairfield / vacaville</td>\n",
       "      <td>1965.0</td>\n",
       "      <td>2.0</td>\n",
       "      <td>918.0</td>\n",
       "      <td></td>\n",
       "      <td>False</td>\n",
       "      <td>False</td>\n",
       "      <td>False</td>\n",
       "      <td>False</td>\n",
       "      <td>False</td>\n",
       "      <td>False</td>\n",
       "      <td>False</td>\n",
       "      <td>False</td>\n",
       "    </tr>\n",
       "    <tr>\n",
       "      <th>843729</th>\n",
       "      <td>37.787295</td>\n",
       "      <td>-122.392719</td>\n",
       "      <td>Rincon Hill</td>\n",
       "      <td>4890.0</td>\n",
       "      <td>1.0</td>\n",
       "      <td>708.0</td>\n",
       "      <td>apartment</td>\n",
       "      <td>True</td>\n",
       "      <td>True</td>\n",
       "      <td>False</td>\n",
       "      <td>False</td>\n",
       "      <td>True</td>\n",
       "      <td>False</td>\n",
       "      <td>False</td>\n",
       "      <td>True</td>\n",
       "    </tr>\n",
       "    <tr>\n",
       "      <th>843730</th>\n",
       "      <td>37.310800</td>\n",
       "      <td>-121.962300</td>\n",
       "      <td>ingleside / SFSU / CCSF</td>\n",
       "      <td>2750.0</td>\n",
       "      <td>1.0</td>\n",
       "      <td>750.0</td>\n",
       "      <td>apartment</td>\n",
       "      <td>False</td>\n",
       "      <td>False</td>\n",
       "      <td>False</td>\n",
       "      <td>True</td>\n",
       "      <td>False</td>\n",
       "      <td>False</td>\n",
       "      <td>True</td>\n",
       "      <td>False</td>\n",
       "    </tr>\n",
       "  </tbody>\n",
       "</table>\n",
       "<p>843731 rows × 15 columns</p>\n",
       "</div>"
      ],
      "text/plain": [
       "         latitude   longitude                       district   price  \\\n",
       "0       37.353754 -122.026428                      sunnyvale  3150.0   \n",
       "1       38.008321 -121.864673                  Pittsburg, CA  1769.0   \n",
       "2       37.710526 -122.439706      excelsior / outer mission  3000.0   \n",
       "3       38.274790 -122.019156          fairfield / vacaville  2150.0   \n",
       "4       37.671644 -122.076737        hayward / castro valley  2150.0   \n",
       "...           ...         ...                            ...     ...   \n",
       "843726  37.337841 -121.978369                    santa clara  2195.0   \n",
       "843727  37.552033 -121.996875  fremont / union city / newark  2800.0   \n",
       "843728        NaN         NaN          fairfield / vacaville  1965.0   \n",
       "843729  37.787295 -122.392719                    Rincon Hill  4890.0   \n",
       "843730  37.310800 -121.962300        ingleside / SFSU / CCSF  2750.0   \n",
       "\n",
       "        bedrooms    area       type  catsok  dogsok  garagea  garaged  \\\n",
       "0            2.0  1300.0  townhouse   False   False    False     True   \n",
       "1            2.0   875.0  apartment   False   False    False    False   \n",
       "2            2.0  1800.0      house   False   False     True    False   \n",
       "3            3.0  1200.0      house   False   False    False     True   \n",
       "4            1.0   726.0  apartment    True    True    False    False   \n",
       "...          ...     ...        ...     ...     ...      ...      ...   \n",
       "843726       1.0   750.0  apartment    True   False    False    False   \n",
       "843727       2.0  1000.0  townhouse   False   False    False     True   \n",
       "843728       2.0   918.0              False   False    False    False   \n",
       "843729       1.0   708.0  apartment    True    True    False    False   \n",
       "843730       1.0   750.0  apartment   False   False    False     True   \n",
       "\n",
       "        furnished  laundryb  laundrys     wd  \n",
       "0           False     False     False   True  \n",
       "1           False     False     False  False  \n",
       "2           False      True     False  False  \n",
       "3           False     False     False  False  \n",
       "4           False     False     False   True  \n",
       "...           ...       ...       ...    ...  \n",
       "843726      False     False      True  False  \n",
       "843727      False     False     False   True  \n",
       "843728      False     False     False  False  \n",
       "843729       True     False     False   True  \n",
       "843730      False     False      True  False  \n",
       "\n",
       "[843731 rows x 15 columns]"
      ]
     },
     "execution_count": 40,
     "metadata": {},
     "output_type": "execute_result"
    }
   ],
   "source": [
    "short"
   ]
  },
  {
   "cell_type": "code",
   "execution_count": 41,
   "metadata": {},
   "outputs": [
    {
     "data": {
      "text/plain": [
       "(843731, 15)"
      ]
     },
     "execution_count": 41,
     "metadata": {},
     "output_type": "execute_result"
    }
   ],
   "source": [
    "short.shape"
   ]
  },
  {
   "cell_type": "code",
   "execution_count": 42,
   "metadata": {},
   "outputs": [
    {
     "data": {
      "text/plain": [
       "(838998, 15)"
      ]
     },
     "execution_count": 42,
     "metadata": {},
     "output_type": "execute_result"
    }
   ],
   "source": [
    "short.dropna(subset=[\"price\"], inplace=True)\n",
    "short.shape"
   ]
  },
  {
   "cell_type": "code",
   "execution_count": 143,
   "metadata": {},
   "outputs": [],
   "source": [
    "# short.dropna(inplace=True)\n",
    "# short.shape"
   ]
  },
  {
   "cell_type": "code",
   "execution_count": 43,
   "metadata": {},
   "outputs": [
    {
     "data": {
      "text/plain": [
       "(354318, 15)"
      ]
     },
     "execution_count": 43,
     "metadata": {},
     "output_type": "execute_result"
    }
   ],
   "source": [
    "short.drop_duplicates(inplace=True)\n",
    "short.shape"
   ]
  },
  {
   "cell_type": "code",
   "execution_count": 53,
   "metadata": {},
   "outputs": [],
   "source": [
    "short['price_bucket'] = short['price'].apply(lambda x: f\"{x//500:02.0f}x500\")"
   ]
  },
  {
   "cell_type": "code",
   "execution_count": 54,
   "metadata": {},
   "outputs": [
    {
     "data": {
      "text/html": [
       "<div>\n",
       "<style scoped>\n",
       "    .dataframe tbody tr th:only-of-type {\n",
       "        vertical-align: middle;\n",
       "    }\n",
       "\n",
       "    .dataframe tbody tr th {\n",
       "        vertical-align: top;\n",
       "    }\n",
       "\n",
       "    .dataframe thead th {\n",
       "        text-align: right;\n",
       "    }\n",
       "</style>\n",
       "<table border=\"1\" class=\"dataframe\">\n",
       "  <thead>\n",
       "    <tr style=\"text-align: right;\">\n",
       "      <th></th>\n",
       "      <th>latitude</th>\n",
       "      <th>longitude</th>\n",
       "      <th>district</th>\n",
       "      <th>price</th>\n",
       "      <th>bedrooms</th>\n",
       "      <th>area</th>\n",
       "      <th>type</th>\n",
       "      <th>catsok</th>\n",
       "      <th>dogsok</th>\n",
       "      <th>garagea</th>\n",
       "      <th>garaged</th>\n",
       "      <th>furnished</th>\n",
       "      <th>laundryb</th>\n",
       "      <th>laundrys</th>\n",
       "      <th>wd</th>\n",
       "      <th>price_bucket</th>\n",
       "    </tr>\n",
       "  </thead>\n",
       "  <tbody>\n",
       "    <tr>\n",
       "      <th>0</th>\n",
       "      <td>37.353754</td>\n",
       "      <td>-122.026428</td>\n",
       "      <td>sunnyvale</td>\n",
       "      <td>3150.0</td>\n",
       "      <td>2.0</td>\n",
       "      <td>1300.0</td>\n",
       "      <td>townhouse</td>\n",
       "      <td>False</td>\n",
       "      <td>False</td>\n",
       "      <td>False</td>\n",
       "      <td>True</td>\n",
       "      <td>False</td>\n",
       "      <td>False</td>\n",
       "      <td>False</td>\n",
       "      <td>True</td>\n",
       "      <td>06x500</td>\n",
       "    </tr>\n",
       "    <tr>\n",
       "      <th>1</th>\n",
       "      <td>38.008321</td>\n",
       "      <td>-121.864673</td>\n",
       "      <td>Pittsburg, CA</td>\n",
       "      <td>1769.0</td>\n",
       "      <td>2.0</td>\n",
       "      <td>875.0</td>\n",
       "      <td>apartment</td>\n",
       "      <td>False</td>\n",
       "      <td>False</td>\n",
       "      <td>False</td>\n",
       "      <td>False</td>\n",
       "      <td>False</td>\n",
       "      <td>False</td>\n",
       "      <td>False</td>\n",
       "      <td>False</td>\n",
       "      <td>03x500</td>\n",
       "    </tr>\n",
       "    <tr>\n",
       "      <th>2</th>\n",
       "      <td>37.710526</td>\n",
       "      <td>-122.439706</td>\n",
       "      <td>excelsior / outer mission</td>\n",
       "      <td>3000.0</td>\n",
       "      <td>2.0</td>\n",
       "      <td>1800.0</td>\n",
       "      <td>house</td>\n",
       "      <td>False</td>\n",
       "      <td>False</td>\n",
       "      <td>True</td>\n",
       "      <td>False</td>\n",
       "      <td>False</td>\n",
       "      <td>True</td>\n",
       "      <td>False</td>\n",
       "      <td>False</td>\n",
       "      <td>06x500</td>\n",
       "    </tr>\n",
       "    <tr>\n",
       "      <th>3</th>\n",
       "      <td>38.274790</td>\n",
       "      <td>-122.019156</td>\n",
       "      <td>fairfield / vacaville</td>\n",
       "      <td>2150.0</td>\n",
       "      <td>3.0</td>\n",
       "      <td>1200.0</td>\n",
       "      <td>house</td>\n",
       "      <td>False</td>\n",
       "      <td>False</td>\n",
       "      <td>False</td>\n",
       "      <td>True</td>\n",
       "      <td>False</td>\n",
       "      <td>False</td>\n",
       "      <td>False</td>\n",
       "      <td>False</td>\n",
       "      <td>04x500</td>\n",
       "    </tr>\n",
       "    <tr>\n",
       "      <th>4</th>\n",
       "      <td>37.671644</td>\n",
       "      <td>-122.076737</td>\n",
       "      <td>hayward / castro valley</td>\n",
       "      <td>2150.0</td>\n",
       "      <td>1.0</td>\n",
       "      <td>726.0</td>\n",
       "      <td>apartment</td>\n",
       "      <td>True</td>\n",
       "      <td>True</td>\n",
       "      <td>False</td>\n",
       "      <td>False</td>\n",
       "      <td>False</td>\n",
       "      <td>False</td>\n",
       "      <td>False</td>\n",
       "      <td>True</td>\n",
       "      <td>04x500</td>\n",
       "    </tr>\n",
       "  </tbody>\n",
       "</table>\n",
       "</div>"
      ],
      "text/plain": [
       "    latitude   longitude                   district   price  bedrooms    area  \\\n",
       "0  37.353754 -122.026428                  sunnyvale  3150.0       2.0  1300.0   \n",
       "1  38.008321 -121.864673              Pittsburg, CA  1769.0       2.0   875.0   \n",
       "2  37.710526 -122.439706  excelsior / outer mission  3000.0       2.0  1800.0   \n",
       "3  38.274790 -122.019156      fairfield / vacaville  2150.0       3.0  1200.0   \n",
       "4  37.671644 -122.076737    hayward / castro valley  2150.0       1.0   726.0   \n",
       "\n",
       "        type  catsok  dogsok  garagea  garaged  furnished  laundryb  laundrys  \\\n",
       "0  townhouse   False   False    False     True      False     False     False   \n",
       "1  apartment   False   False    False    False      False     False     False   \n",
       "2      house   False   False     True    False      False      True     False   \n",
       "3      house   False   False    False     True      False     False     False   \n",
       "4  apartment    True    True    False    False      False     False     False   \n",
       "\n",
       "      wd price_bucket  \n",
       "0   True       06x500  \n",
       "1  False       03x500  \n",
       "2  False       06x500  \n",
       "3  False       04x500  \n",
       "4   True       04x500  "
      ]
     },
     "execution_count": 54,
     "metadata": {},
     "output_type": "execute_result"
    }
   ],
   "source": [
    "short.head()"
   ]
  },
  {
   "cell_type": "code",
   "execution_count": 105,
   "metadata": {},
   "outputs": [
    {
     "data": {
      "text/plain": [
       "(0, 16)"
      ]
     },
     "execution_count": 105,
     "metadata": {},
     "output_type": "execute_result"
    }
   ],
   "source": [
    "short[short[\"price\"] > 8000].shape"
   ]
  },
  {
   "cell_type": "code",
   "execution_count": 102,
   "metadata": {},
   "outputs": [
    {
     "data": {
      "text/plain": [
       "(350647, 16)"
      ]
     },
     "execution_count": 102,
     "metadata": {},
     "output_type": "execute_result"
    }
   ],
   "source": [
    "# short = short.drop(.index)\n",
    "# df = df.drop(df[<some boolean condition>].index)\n",
    "short = short.drop(short[short[\"price\"] > 8000].index)\n",
    "short.shape"
   ]
  },
  {
   "cell_type": "code",
   "execution_count": 103,
   "metadata": {},
   "outputs": [
    {
     "data": {
      "text/plain": [
       "array([  2.,   3.,   1.,  nan,   4.,   6.,   5.,   7.,   8., 123.])"
      ]
     },
     "execution_count": 103,
     "metadata": {},
     "output_type": "execute_result"
    }
   ],
   "source": [
    "short[\"bedrooms\"].unique()"
   ]
  },
  {
   "cell_type": "code",
   "execution_count": 84,
   "metadata": {},
   "outputs": [
    {
     "data": {
      "text/plain": [
       "latitude        float64\n",
       "longitude       float64\n",
       "district         object\n",
       "price           float64\n",
       "bedrooms        float64\n",
       "area            float64\n",
       "type             object\n",
       "catsok             bool\n",
       "dogsok             bool\n",
       "garagea            bool\n",
       "garaged            bool\n",
       "furnished          bool\n",
       "laundryb           bool\n",
       "laundrys           bool\n",
       "wd                 bool\n",
       "price_bucket     object\n",
       "dtype: object"
      ]
     },
     "execution_count": 84,
     "metadata": {},
     "output_type": "execute_result"
    }
   ],
   "source": [
    "short.dtypes"
   ]
  },
  {
   "cell_type": "code",
   "execution_count": 104,
   "metadata": {},
   "outputs": [
    {
     "data": {
      "text/plain": [
       "count     350647\n",
       "unique        17\n",
       "top       05x500\n",
       "freq       72604\n",
       "Name: price_bucket, dtype: object"
      ]
     },
     "execution_count": 104,
     "metadata": {},
     "output_type": "execute_result"
    }
   ],
   "source": [
    "short[\"price_bucket\"].describe()"
   ]
  },
  {
   "cell_type": "code",
   "execution_count": 99,
   "metadata": {},
   "outputs": [
    {
     "data": {
      "text/plain": [
       "array(['06x500', '03x500', '04x500', '08x500', '07x500', '05x500',\n",
       "       '11x500', '02x500', '01x500', '00x500', '13x500', '09x500',\n",
       "       '12x500', '10x500', '17x500', '15x500', '19x500', '21x500',\n",
       "       '14x500', '23x500', '16x500', '20x500', '18x500', '24x500',\n",
       "       '27x500', '30x500', '29x500', '28x500', '22x500', '25x500',\n",
       "       '26x500'], dtype=object)"
      ]
     },
     "execution_count": 99,
     "metadata": {},
     "output_type": "execute_result"
    }
   ],
   "source": [
    "short[\"price_bucket\"].unique()"
   ]
  },
  {
   "cell_type": "code",
   "execution_count": 107,
   "metadata": {},
   "outputs": [],
   "source": [
    "short.to_csv(\"data.csv\", index=False) "
   ]
  },
  {
   "cell_type": "code",
   "execution_count": 45,
   "metadata": {},
   "outputs": [],
   "source": [
    "del short"
   ]
  },
  {
   "cell_type": "code",
   "execution_count": 46,
   "metadata": {},
   "outputs": [
    {
     "data": {
      "text/plain": [
       "array([['$7072899529 / 2br - 516ft2 - GORGEOUS 2X2 WITH FULL SIZE WASHER & DRYER (napa county) hide this posting unhide',\n",
       "        '5500 Eucalyptus Drive', Decimal('1541814393509'),\n",
       "        'https://sfbay.craigslist.org/nby/apa/d/gorgeous-2x2-with-full-size/6745199759.html',\n",
       "        Decimal('7072899529'), '2br - 516ft2', Decimal('-122.256082'),\n",
       "        list(['2BR / 2Ba', '516ft2', 'available nov 9', 'cats are OK - purrr', 'dogs are OK - wooof', 'apartment', 'w/d in unit', 'carport']),\n",
       "        'napa county',\n",
       "        'https://maps.google.com/?q=loc%3A+%35%35%30%30+Eucalyptus+Drive+American+Canyon+CA+US',\n",
       "        '2 \\xa0bedroom 2 bath 1085Sq.Ft. $2,253 - $2,624/mo\\nThe Lodge At Napa Junction\\nCALL US TODAY: show contact info x516\\nDESCRIPTION:\\nExperience the best in luxury apartment living in American Canyon, thanks to this two-bedroom, two-bathroom floor plan from The Lodge at Napa Junction. Along with a fireplace in select homes, the layout includes a built-in desk nook in the kitchen and a walk-in closet in the master bedroom. This pet-friendly community offers plenty of play areas, green spaces, and walking trails ideal for leisurely strolling with pets. Visit today.\\nOFFICE HOURS:\\nMonday to Sunday 9:00 am to 6:00 pm\\nLeasing Contact Center Available 24/7\\nPROPERTY AMENITIES:\\n•\\xa0Elegant Social Lounge\\n•\\xa024 Hrs Fit Gym w/ Cardio & Weights\\n•\\xa0Resort Style Heated Pool & Spa\\n•\\xa0Poolside Fireplace & Outdoor Grilling Area\\n•\\xa0Tech Center w/ Computer & Wi-Fi Acces\\n•\\xa0Assigned Parking & Private Garages Available\\n•\\xa0Package Receiving Lockers\\n•\\xa0American Canyon School District\\n•\\xa0Walking Distance to Napa Junction Shopping Center\\n•\\xa0Online Resident Portal & Rent Payments\\n\\n\\nCALL US TODAY! show contact info x516\\nThe Lodge at Napa Junction\\n5500 Eucalyptus Drive |\\xa0American Canyon, CA 94503\\nVisit us @ www.thelodgenapajunction.com\\nMANAGED BY: WOODMONT REAL ESTATE SERVICES\\nFloorplans specifications and prices are subject to change without notice\\nWoodmont Real Estate Services strictly prohibits subletting of all apartment homes we manage. Please contact the onsite community staff should you come across a sublet or short term stay at this location through other online sources\\nEqual Housing Opportunity',\n",
       "        None,\n",
       "        list(['https://images.craigslist.org/00U0U_zHkXn5EkuF_600x450.jpg', 'https://images.craigslist.org/00d0d_2bB4rRcT9lE_600x450.jpg', 'https://images.craigslist.org/00H0H_94tTI20YJbD_600x450.jpg', 'https://images.craigslist.org/00H0H_f2EMQxb1E2w_600x450.jpg', 'https://images.craigslist.org/00a0a_loBVhaOHe9Q_600x450.jpg', 'https://images.craigslist.org/00A0A_1dMAKMpKTbO_600x450.jpg', 'https://images.craigslist.org/00t0t_8HiBEdmdfXZ_600x450.jpg', 'https://images.craigslist.org/00i0i_9DJRcCI2mBr_600x450.jpg', 'https://images.craigslist.org/00H0H_fIafs9QyO86_600x450.jpg', 'https://images.craigslist.org/01212_laLRQo41RBH_600x450.jpg']),\n",
       "        'GORGEOUS 2X2 WITH FULL SIZE WASHER & DRYER',\n",
       "        'b113b680f7874274b2bab80ba42e786d', Decimal('38.179317')]],\n",
       "      dtype=object)"
      ]
     },
     "execution_count": 46,
     "metadata": {},
     "output_type": "execute_result"
    }
   ],
   "source": [
    "df[df['parsed_price'] == 7072899529].values"
   ]
  },
  {
   "cell_type": "code",
   "execution_count": 47,
   "metadata": {},
   "outputs": [
    {
     "data": {
      "text/plain": [
       "count    8.389980e+05\n",
       "mean     3.575694e+14\n",
       "std      3.275222e+17\n",
       "min      0.000000e+00\n",
       "25%      2.095000e+03\n",
       "50%      2.656000e+03\n",
       "75%      3.495000e+03\n",
       "max      3.000000e+20\n",
       "Name: parsed_price, dtype: float64"
      ]
     },
     "execution_count": 47,
     "metadata": {},
     "output_type": "execute_result"
    }
   ],
   "source": [
    "p = df[\"parsed_price\"].dropna().map(float)\n",
    "p.describe()\n"
   ]
  },
  {
   "cell_type": "code",
   "execution_count": 48,
   "metadata": {},
   "outputs": [
    {
     "data": {
      "text/plain": [
       "0.50    2.656000e+03\n",
       "0.75    3.495000e+03\n",
       "0.80    3.700000e+03\n",
       "0.90    4.500000e+03\n",
       "1.00    3.000000e+20\n",
       "Name: parsed_price, dtype: float64"
      ]
     },
     "execution_count": 48,
     "metadata": {},
     "output_type": "execute_result"
    }
   ],
   "source": [
    "p.quantile([0.5, 0.75, 0.8, 0.9, 1.0])"
   ]
  },
  {
   "cell_type": "code",
   "execution_count": 49,
   "metadata": {},
   "outputs": [
    {
     "data": {
      "image/png": "[encoded data removed]",
      "text/plain": [
       "<Figure size 1008x432 with 1 Axes>"
      ]
     },
     "metadata": {
      "image/png": {
       "height": 375,
       "width": 838
      }
     },
     "output_type": "display_data"
    }
   ],
   "source": [
    "sns.set(color_codes=True)\n",
    "plt.figure(figsize=(14, 6))\n",
    "\n",
    "g = sns.distplot(p[p < 10000]);\n",
    "# g = sns.distplot(p);"
   ]
  },
  {
   "cell_type": "code",
   "execution_count": 50,
   "metadata": {},
   "outputs": [
    {
     "data": {
      "text/plain": [
       "count    838813.000000\n",
       "mean       2977.999570\n",
       "std        1728.314742\n",
       "min           0.000000\n",
       "25%        2095.000000\n",
       "50%        2655.000000\n",
       "75%        3495.000000\n",
       "max       59000.000000\n",
       "Name: parsed_price, dtype: float64"
      ]
     },
     "execution_count": 50,
     "metadata": {},
     "output_type": "execute_result"
    }
   ],
   "source": [
    "p[p < 60000].describe()"
   ]
  },
  {
   "cell_type": "code",
   "execution_count": 51,
   "metadata": {},
   "outputs": [
    {
     "data": {
      "text/plain": [
       "53525       0.0\n",
       "747739      0.0\n",
       "503351      0.0\n",
       "15258       0.0\n",
       "568709      0.0\n",
       "          ...  \n",
       "410796    999.0\n",
       "41346     999.0\n",
       "546363    999.0\n",
       "165607    999.0\n",
       "459056    999.0\n",
       "Name: parsed_price, Length: 19333, dtype: float64"
      ]
     },
     "execution_count": 51,
     "metadata": {},
     "output_type": "execute_result"
    }
   ],
   "source": [
    "p[p<1000].sort_values()\n"
   ]
  },
  {
   "cell_type": "code",
   "execution_count": 52,
   "metadata": {},
   "outputs": [
    {
     "name": "stdout",
     "output_type": "stream",
     "text": [
      "parsed_postingtitletext    $3472 / 1br - 685ft2 - 2 WEEKS FREE!!! Resort ...\n",
      "parsed_map_address                                           300 Railway Ave\n",
      "added                                                          1572742708539\n",
      "PostUrl                    https://sfbay.craigslist.org/sby/apa/d/campbel...\n",
      "parsed_price                                                            3472\n",
      "parsed_housing                                                  1br - 685ft2\n",
      "parsed_data_longitude                                            -121.944669\n",
      "parsed_attrs               [1BR / 1Ba, 685ft2, available nov 2, sunday 20...\n",
      "parsed_district                                                     Campbell\n",
      "parsed_map_link            https://www.google.com/maps/preview/@37.283326...\n",
      "parsed_postingbody         Now open for tours! At 300 Railway, each resid...\n",
      "parsed_page_head                                                        None\n",
      "parsed_thumbs              [https://images.craigslist.org/00909_6B4ImEqVl...\n",
      "parsed_titletextonly       2 WEEKS FREE!!! Resort Style Living Near Downt...\n",
      "intid                                       f76082ef2ef6405f9feadf18e19efaed\n",
      "parsed_data_latitude                                               37.283326\n",
      "Name: 344311, dtype: object\n",
      "https://sfbay.craigslist.org/sby/apa/d/campbell-2-weeks-free-resort-style/7012455116.html\n",
      "['https://images.craigslist.org/00909_6B4ImEqVlFX_600x450.jpg', 'https://images.craigslist.org/00m0m_l7kw4jYenw9_600x450.jpg', 'https://images.craigslist.org/00J0J_5PaAyxdgljH_600x450.jpg', 'https://images.craigslist.org/00505_7Y4xg9gfMRN_600x450.jpg', 'https://images.craigslist.org/01313_a2zHKwKcQRC_600x450.jpg', 'https://images.craigslist.org/00d0d_1YDk43lEZD9_600x450.jpg', 'https://images.craigslist.org/00202_40exeRkD7w6_600x450.jpg', 'https://images.craigslist.org/00C0C_8rsEyaZu9wV_600x450.jpg', 'https://images.craigslist.org/00d0d_fqR1tKltw2R_600x450.jpg', 'https://images.craigslist.org/00P0P_2WbJaJSNBid_600x450.jpg', 'https://images.craigslist.org/01717_k2TsK2ZtpDk_600x450.jpg', 'https://images.craigslist.org/00v0v_9u48CzUSDfD_600x450.jpg', 'https://images.craigslist.org/00505_9sOf8Hsbtq0_600x450.jpg', 'https://images.craigslist.org/00V0V_3Em1tMVDWTO_600x450.jpg', 'https://images.craigslist.org/00c0c_93YijKz5o9E_600x450.jpg', 'https://images.craigslist.org/00N0N_ljkA5aFLfrU_600x450.jpg', 'https://images.craigslist.org/00N0N_bdUsYaEq2w6_600x450.jpg', 'https://images.craigslist.org/00x0x_3lUVEHmFJm2_600x450.jpg', 'https://images.craigslist.org/00H0H_5ucgJBLP9io_600x450.jpg', 'https://images.craigslist.org/00G0G_hsgUwMZeTqk_600x450.jpg', 'https://images.craigslist.org/00d0d_axPR4ZWu1LL_600x450.jpg']\n"
     ]
    }
   ],
   "source": [
    "pid = 344311\n",
    "print(df.iloc[pid])\n",
    "print(df.iloc[pid][\"PostUrl\"])\n",
    "print(df.iloc[pid][\"parsed_thumbs\"])"
   ]
  },
  {
   "cell_type": "code",
   "execution_count": 53,
   "metadata": {},
   "outputs": [
    {
     "name": "stdout",
     "output_type": "stream",
     "text": [
      "Pickling train.pd.\n"
     ]
    }
   ],
   "source": [
    "maybe_pickle(prepare_data(df), \"train.pd\")"
   ]
  },
  {
   "cell_type": "code",
   "execution_count": 54,
   "metadata": {},
   "outputs": [
    {
     "data": {
      "text/plain": [
       "572782   -37.850922\n",
       "104391   -36.636071\n",
       "149750   -32.789807\n",
       "766217   -32.108455\n",
       "308374   -14.283544\n",
       "            ...    \n",
       "349791    66.361038\n",
       "762405    66.361038\n",
       "490962    83.539335\n",
       "304247    83.539335\n",
       "423773    83.539335\n",
       "Name: parsed_data_latitude, Length: 809936, dtype: float64"
      ]
     },
     "execution_count": 54,
     "metadata": {},
     "output_type": "execute_result"
    }
   ],
   "source": [
    "df[\"parsed_data_latitude\"].dropna().astype(float).sort_values()"
   ]
  },
  {
   "cell_type": "code",
   "execution_count": null,
   "metadata": {},
   "outputs": [],
   "source": []
  }
 ],
 "metadata": {
  "kernelspec": {
   "display_name": "Python 3",
   "language": "python",
   "name": "python3"
  },
  "language_info": {
   "codemirror_mode": {
    "name": "ipython",
    "version": 3
   },
   "file_extension": ".py",
   "mimetype": "text/x-python",
   "name": "python",
   "nbconvert_exporter": "python",
   "pygments_lexer": "ipython3",
   "version": "3.7.7"
  }
 },
 "nbformat": 4,
 "nbformat_minor": 2
}
