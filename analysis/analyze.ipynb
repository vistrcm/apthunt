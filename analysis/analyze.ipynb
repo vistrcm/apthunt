{
 "cells": [
  {
   "cell_type": "code",
   "execution_count": 1,
   "metadata": {
    "pycharm": {
     "is_executing": false
    }
   },
   "outputs": [],
   "source": [
    "%reload_ext autoreload\n",
    "%autoreload 2\n",
    "%matplotlib inline\n",
    "%config InlineBackend.figure_format='retina'"
   ]
  },
  {
   "cell_type": "code",
   "execution_count": 2,
   "metadata": {
    "pycharm": {
     "is_executing": false
    }
   },
   "outputs": [],
   "source": [
    "import os\n",
    "import boto3\n",
    "import pickle\n",
    "import pandas as pd\n",
    "import seaborn as sns\n",
    "import matplotlib.pyplot as plt"
   ]
  },
  {
   "cell_type": "code",
   "execution_count": 3,
   "metadata": {
    "pycharm": {
     "is_executing": false
    }
   },
   "outputs": [],
   "source": [
    "def maybe_pickle(data, filename, force=False):\n",
    "    if os.path.exists(filename) and not force:\n",
    "        # You may override by setting force=True.\n",
    "        print('%s already present - Skipping pickling.' % filename)\n",
    "    else:\n",
    "        print('Pickling %s.' % filename)\n",
    "        try:\n",
    "            with open(filename, 'wb') as f:\n",
    "                pickle.dump(data, f, pickle.HIGHEST_PROTOCOL)\n",
    "        except Exception as e:\n",
    "            print('Unable to save data to', filename, ':', e)\n",
    "\n",
    "\n",
    "def maybe_download(table, force=False):\n",
    "    storage_file = table + \".pkl\"\n",
    "    if force or not os.path.exists(storage_file):\n",
    "        data = data_retrieve(table)\n",
    "        maybe_pickle(data, storage_file)\n",
    "    return storage_file\n",
    "        \n",
    "def data_retrieve(table, page_size=100):\n",
    "    \"\"\"download data from table\"\"\"\n",
    "    client = boto3.client('dynamodb')\n",
    "    paginator = client.get_paginator('scan')\n",
    "\n",
    "    counter = 0\n",
    "    items = []\n",
    "    for page in paginator.paginate(TableName=table, PaginationConfig={\"PageSize\": page_size}):\n",
    "        items.extend(page[\"Items\"])\n",
    "        \n",
    "        counter += 1\n",
    "        if counter % 50 == 0:  # print debug every 50 pages\n",
    "            print(\"next page. {}. Count {}. ScannedCount: {}\".format(counter, page[\"Count\"], page[\"ScannedCount\"]))\n",
    "\n",
    "\n",
    "    return items\n",
    "    "
   ]
  },
  {
   "cell_type": "code",
   "execution_count": null,
   "metadata": {
    "pycharm": {
     "is_executing": true
    }
   },
   "outputs": [],
   "source": [
    "data_file = maybe_download(\"apthunt\")\n",
    "data = pickle.load(open(data_file, 'rb'))"
   ]
  },
  {
   "cell_type": "code",
   "execution_count": null,
   "metadata": {
    "pycharm": {
     "is_executing": true
    }
   },
   "outputs": [],
   "source": [
    "print(\"wow\")"
   ]
  },
  {
   "cell_type": "code",
   "execution_count": null,
   "metadata": {
    "pycharm": {
     "is_executing": true
    }
   },
   "outputs": [],
   "source": [
    "# To go from dynamo format to python\n",
    "from boto3.dynamodb import types\n",
    "\n",
    "deserializer = types.TypeDeserializer()\n",
    "python_data = [{k: deserializer.deserialize(v) for k,v in d.items()} for d in data]"
   ]
  },
  {
   "cell_type": "code",
   "execution_count": 7,
   "metadata": {},
   "outputs": [],
   "source": [
    "del data"
   ]
  },
  {
   "cell_type": "code",
   "execution_count": 8,
   "metadata": {},
   "outputs": [],
   "source": [
    "df = pd.DataFrame(python_data)"
   ]
  },
  {
   "cell_type": "code",
   "execution_count": 9,
   "metadata": {},
   "outputs": [],
   "source": [
    "del python_data"
   ]
  },
  {
   "cell_type": "code",
   "execution_count": 10,
   "metadata": {},
   "outputs": [],
   "source": [
    "# small cleanup of \"simulated\"\n",
    "del df[\"FeedTitle\"]\n",
    "del df[\"FeedUrl\"]\n",
    "del df[\"PostContent\"]\n",
    "del df[\"PostPublished\"]\n",
    "del df[\"PostTitle\"]\n",
    "# delete parsed_notices. looks like it is the same\n",
    "del df[\"parsed_notices\"]\n",
    "# no need for internal id\n",
    "del df[\"intid\"]\n",
    "# no information from PostUrl\n",
    "df[\"PostUrl\"]\n",
    "# no information from time added\n",
    "del df[\"added\"]"
   ]
  },
  {
   "cell_type": "code",
   "execution_count": 11,
   "metadata": {},
   "outputs": [
    {
     "data": {
      "text/plain": [
       "Index(['parsed_postingtitletext', 'parsed_map_address', 'PostUrl',\n",
       "       'parsed_price', 'parsed_price_text', 'parsed_housing',\n",
       "       'parsed_data_longitude', 'parsed_attrs', 'parsed_district',\n",
       "       'parsed_map_link', 'parsed_postingbody', 'parsed_page_head',\n",
       "       'parsed_thumbs', 'parsed_titletextonly', 'parsed_data_latitude'],\n",
       "      dtype='object')"
      ]
     },
     "execution_count": 11,
     "metadata": {},
     "output_type": "execute_result"
    }
   ],
   "source": [
    "df.columns"
   ]
  },
  {
   "cell_type": "code",
   "execution_count": 12,
   "metadata": {},
   "outputs": [],
   "source": [
    "# for col in df.columns:\n",
    "#     print(col)\n",
    "#     print(df[col].describe())\n",
    "#     print(df[col].head())\n",
    "#     print(\"=\" * 60)"
   ]
  },
  {
   "cell_type": "code",
   "execution_count": 13,
   "metadata": {},
   "outputs": [
    {
     "data": {
      "text/html": [
       "<div>\n",
       "<style scoped>\n",
       "    .dataframe tbody tr th:only-of-type {\n",
       "        vertical-align: middle;\n",
       "    }\n",
       "\n",
       "    .dataframe tbody tr th {\n",
       "        vertical-align: top;\n",
       "    }\n",
       "\n",
       "    .dataframe thead th {\n",
       "        text-align: right;\n",
       "    }\n",
       "</style>\n",
       "<table border=\"1\" class=\"dataframe\">\n",
       "  <thead>\n",
       "    <tr style=\"text-align: right;\">\n",
       "      <th></th>\n",
       "      <th>parsed_postingtitletext</th>\n",
       "      <th>parsed_map_address</th>\n",
       "      <th>PostUrl</th>\n",
       "      <th>parsed_price</th>\n",
       "      <th>parsed_price_text</th>\n",
       "      <th>parsed_housing</th>\n",
       "      <th>parsed_data_longitude</th>\n",
       "      <th>parsed_attrs</th>\n",
       "      <th>parsed_district</th>\n",
       "      <th>parsed_map_link</th>\n",
       "      <th>parsed_postingbody</th>\n",
       "      <th>parsed_page_head</th>\n",
       "      <th>parsed_thumbs</th>\n",
       "      <th>parsed_titletextonly</th>\n",
       "      <th>parsed_data_latitude</th>\n",
       "    </tr>\n",
       "  </thead>\n",
       "  <tbody>\n",
       "    <tr>\n",
       "      <th>0</th>\n",
       "      <td>$3150 / 2br - 1300ft2 - Sunset Oaks Townhome- ...</td>\n",
       "      <td>1249 Crescent Terrace</td>\n",
       "      <td>https://sfbay.craigslist.org/sby/apa/d/sunset-...</td>\n",
       "      <td>3150</td>\n",
       "      <td>$3150</td>\n",
       "      <td>2br - 1300ft2</td>\n",
       "      <td>-122.026428</td>\n",
       "      <td>[2BR / 2.5Ba, 1300ft2, available oct 6, townho...</td>\n",
       "      <td>sunnyvale</td>\n",
       "      <td>https://maps.google.com/?q=loc%3A+%31%32%34%39...</td>\n",
       "      <td>Well designed and spacious 2 bedroom, 2 1/2 ba...</td>\n",
       "      <td>None</td>\n",
       "      <td>[https://images.craigslist.org/00Z0Z_5KZmIXxAc...</td>\n",
       "      <td>Sunset Oaks Townhome- 1249 Crescent Terrace - ...</td>\n",
       "      <td>37.353754</td>\n",
       "    </tr>\n",
       "    <tr>\n",
       "      <th>1</th>\n",
       "      <td>$1769 / 2br - 875ft2 - ❄ Pittsburg Apartment L...</td>\n",
       "      <td>2205 E Leland Rd</td>\n",
       "      <td>https://sfbay.craigslist.org/eby/apa/d/pittsbu...</td>\n",
       "      <td>1769</td>\n",
       "      <td>$1769</td>\n",
       "      <td>2br - 875ft2</td>\n",
       "      <td>-121.864673</td>\n",
       "      <td>[2BR / 1Ba, 875ft2, apartment]</td>\n",
       "      <td>Pittsburg, CA</td>\n",
       "      <td>https://maps.google.com/?q=loc%3A+%32%32%30%35...</td>\n",
       "      <td>Diamond Hillside Apartment Homes offers spacio...</td>\n",
       "      <td>None</td>\n",
       "      <td>[https://images.craigslist.org/00c0c_505E4utDZ...</td>\n",
       "      <td>❄ Pittsburg Apartment Living, Gated Community,...</td>\n",
       "      <td>38.008321</td>\n",
       "    </tr>\n",
       "    <tr>\n",
       "      <th>2</th>\n",
       "      <td>$3000 / 2br - 1800ft2 - 2 Bedroom 1 Bath 1 Car...</td>\n",
       "      <td>375 Pope Street</td>\n",
       "      <td>https://sfbay.craigslist.org/sfc/apa/d/2-bedro...</td>\n",
       "      <td>3000</td>\n",
       "      <td>$3000</td>\n",
       "      <td>2br - 1800ft2</td>\n",
       "      <td>-122.439706</td>\n",
       "      <td>[2BR / 1Ba, 1800ft2, available oct 1, house, l...</td>\n",
       "      <td>excelsior / outer mission</td>\n",
       "      <td>https://maps.google.com/?q=loc%3A+%33%37%35+Po...</td>\n",
       "      <td>clean 2 Bedroom 1 full bathroom 1 car garage. ...</td>\n",
       "      <td>None</td>\n",
       "      <td>[https://images.craigslist.org/00G0G_2bsd96Q2m...</td>\n",
       "      <td>2 Bedroom 1 Bath 1 Car Garage House</td>\n",
       "      <td>37.710526</td>\n",
       "    </tr>\n",
       "    <tr>\n",
       "      <th>3</th>\n",
       "      <td>$2395 / 2br - Lovely 2bd/2ba + den close to fr...</td>\n",
       "      <td>Maricopa at Chilpancingo</td>\n",
       "      <td>https://sfbay.craigslist.org/eby/apa/d/lovely-...</td>\n",
       "      <td>2395</td>\n",
       "      <td>$2395</td>\n",
       "      <td>2br</td>\n",
       "      <td>-122.070774</td>\n",
       "      <td>[2BR / 2Ba, available jun 19, apartment, w/d h...</td>\n",
       "      <td>concord / pleasant hill / martinez</td>\n",
       "      <td>https://maps.google.com/?q=loc%3A+Maricopa+at+...</td>\n",
       "      <td>Lovely 2bd/2ba + den close to freeway in Pleas...</td>\n",
       "      <td>None</td>\n",
       "      <td>[https://images.craigslist.org/00J0J_bEViS29iF...</td>\n",
       "      <td>Lovely 2bd/2ba + den close to freeway in Pleas...</td>\n",
       "      <td>37.973522</td>\n",
       "    </tr>\n",
       "    <tr>\n",
       "      <th>4</th>\n",
       "      <td>$4342 / 2br - 1116ft2 - Murphy Park, 2x2, 2 En...</td>\n",
       "      <td>355 East Evelyn Ave. near Carroll Street</td>\n",
       "      <td>https://sfbay.craigslist.org/sby/apa/d/sunnyva...</td>\n",
       "      <td>4342</td>\n",
       "      <td>$4342</td>\n",
       "      <td>2br - 1116ft2</td>\n",
       "      <td>-122.027282</td>\n",
       "      <td>[2BR / 2Ba, 1116ft2, cats are OK - purrr, dogs...</td>\n",
       "      <td>sunnyvale</td>\n",
       "      <td>https://www.google.com/maps/preview/@37.376987...</td>\n",
       "      <td>Villa Del Sol\\n355 E EVELYN AVE, Sunnyvale, CA...</td>\n",
       "      <td>None</td>\n",
       "      <td>[https://images.craigslist.org/00x0x_9tzT9mvEh...</td>\n",
       "      <td>Murphy Park, 2x2, 2 Entrances, 24Hr. Gym, BBQ,...</td>\n",
       "      <td>37.376987</td>\n",
       "    </tr>\n",
       "  </tbody>\n",
       "</table>\n",
       "</div>"
      ],
      "text/plain": [
       "                             parsed_postingtitletext  \\\n",
       "0  $3150 / 2br - 1300ft2 - Sunset Oaks Townhome- ...   \n",
       "1  $1769 / 2br - 875ft2 - ❄ Pittsburg Apartment L...   \n",
       "2  $3000 / 2br - 1800ft2 - 2 Bedroom 1 Bath 1 Car...   \n",
       "3  $2395 / 2br - Lovely 2bd/2ba + den close to fr...   \n",
       "4  $4342 / 2br - 1116ft2 - Murphy Park, 2x2, 2 En...   \n",
       "\n",
       "                         parsed_map_address  \\\n",
       "0                     1249 Crescent Terrace   \n",
       "1                          2205 E Leland Rd   \n",
       "2                           375 Pope Street   \n",
       "3                  Maricopa at Chilpancingo   \n",
       "4  355 East Evelyn Ave. near Carroll Street   \n",
       "\n",
       "                                             PostUrl parsed_price  \\\n",
       "0  https://sfbay.craigslist.org/sby/apa/d/sunset-...         3150   \n",
       "1  https://sfbay.craigslist.org/eby/apa/d/pittsbu...         1769   \n",
       "2  https://sfbay.craigslist.org/sfc/apa/d/2-bedro...         3000   \n",
       "3  https://sfbay.craigslist.org/eby/apa/d/lovely-...         2395   \n",
       "4  https://sfbay.craigslist.org/sby/apa/d/sunnyva...         4342   \n",
       "\n",
       "  parsed_price_text parsed_housing parsed_data_longitude  \\\n",
       "0             $3150  2br - 1300ft2           -122.026428   \n",
       "1             $1769   2br - 875ft2           -121.864673   \n",
       "2             $3000  2br - 1800ft2           -122.439706   \n",
       "3             $2395            2br           -122.070774   \n",
       "4             $4342  2br - 1116ft2           -122.027282   \n",
       "\n",
       "                                        parsed_attrs  \\\n",
       "0  [2BR / 2.5Ba, 1300ft2, available oct 6, townho...   \n",
       "1                     [2BR / 1Ba, 875ft2, apartment]   \n",
       "2  [2BR / 1Ba, 1800ft2, available oct 1, house, l...   \n",
       "3  [2BR / 2Ba, available jun 19, apartment, w/d h...   \n",
       "4  [2BR / 2Ba, 1116ft2, cats are OK - purrr, dogs...   \n",
       "\n",
       "                      parsed_district  \\\n",
       "0                           sunnyvale   \n",
       "1                       Pittsburg, CA   \n",
       "2           excelsior / outer mission   \n",
       "3  concord / pleasant hill / martinez   \n",
       "4                           sunnyvale   \n",
       "\n",
       "                                     parsed_map_link  \\\n",
       "0  https://maps.google.com/?q=loc%3A+%31%32%34%39...   \n",
       "1  https://maps.google.com/?q=loc%3A+%32%32%30%35...   \n",
       "2  https://maps.google.com/?q=loc%3A+%33%37%35+Po...   \n",
       "3  https://maps.google.com/?q=loc%3A+Maricopa+at+...   \n",
       "4  https://www.google.com/maps/preview/@37.376987...   \n",
       "\n",
       "                                  parsed_postingbody parsed_page_head  \\\n",
       "0  Well designed and spacious 2 bedroom, 2 1/2 ba...             None   \n",
       "1  Diamond Hillside Apartment Homes offers spacio...             None   \n",
       "2  clean 2 Bedroom 1 full bathroom 1 car garage. ...             None   \n",
       "3  Lovely 2bd/2ba + den close to freeway in Pleas...             None   \n",
       "4  Villa Del Sol\\n355 E EVELYN AVE, Sunnyvale, CA...             None   \n",
       "\n",
       "                                       parsed_thumbs  \\\n",
       "0  [https://images.craigslist.org/00Z0Z_5KZmIXxAc...   \n",
       "1  [https://images.craigslist.org/00c0c_505E4utDZ...   \n",
       "2  [https://images.craigslist.org/00G0G_2bsd96Q2m...   \n",
       "3  [https://images.craigslist.org/00J0J_bEViS29iF...   \n",
       "4  [https://images.craigslist.org/00x0x_9tzT9mvEh...   \n",
       "\n",
       "                                parsed_titletextonly parsed_data_latitude  \n",
       "0  Sunset Oaks Townhome- 1249 Crescent Terrace - ...            37.353754  \n",
       "1  ❄ Pittsburg Apartment Living, Gated Community,...            38.008321  \n",
       "2                2 Bedroom 1 Bath 1 Car Garage House            37.710526  \n",
       "3  Lovely 2bd/2ba + den close to freeway in Pleas...            37.973522  \n",
       "4  Murphy Park, 2x2, 2 Entrances, 24Hr. Gym, BBQ,...            37.376987  "
      ]
     },
     "execution_count": 13,
     "metadata": {},
     "output_type": "execute_result"
    }
   ],
   "source": [
    "df.head()"
   ]
  },
  {
   "cell_type": "code",
   "execution_count": 14,
   "metadata": {},
   "outputs": [],
   "source": [
    "def prepare_data(df):\n",
    "    new  = pd.DataFrame()\n",
    "    new[\"latitude\"] = df[\"parsed_data_latitude\"]\n",
    "    new[\"longitude\"] = df[\"parsed_data_longitude\"]\n",
    "    new[\"district\"] = df[\"parsed_district\"].map(lambda s: s.strip(\"()\") if isinstance(s, str) else s)\n",
    "\n",
    "    new[\"price\"] = df[\"parsed_price\"].map(lambda x: float(x) if x else x)\n",
    "    \n",
    "    # # defined parts\n",
    "    # new[\"latitude_defined\"] = df[\"parsed_data_latitude\"].notna()\n",
    "    # new[\"longitude_defined\"] = df[\"parsed_data_longitude\"].notna()\n",
    "    # new[\"district_defined\"] = df[\"parsed_district\"].notna()\n",
    "    \n",
    "    return new"
   ]
  },
  {
   "cell_type": "code",
   "execution_count": 15,
   "metadata": {},
   "outputs": [
    {
     "data": {
      "text/html": [
       "<div>\n",
       "<style scoped>\n",
       "    .dataframe tbody tr th:only-of-type {\n",
       "        vertical-align: middle;\n",
       "    }\n",
       "\n",
       "    .dataframe tbody tr th {\n",
       "        vertical-align: top;\n",
       "    }\n",
       "\n",
       "    .dataframe thead th {\n",
       "        text-align: right;\n",
       "    }\n",
       "</style>\n",
       "<table border=\"1\" class=\"dataframe\">\n",
       "  <thead>\n",
       "    <tr style=\"text-align: right;\">\n",
       "      <th></th>\n",
       "      <th>latitude</th>\n",
       "      <th>longitude</th>\n",
       "      <th>district</th>\n",
       "      <th>price</th>\n",
       "    </tr>\n",
       "  </thead>\n",
       "  <tbody>\n",
       "    <tr>\n",
       "      <th>0</th>\n",
       "      <td>37.353754</td>\n",
       "      <td>-122.026428</td>\n",
       "      <td>sunnyvale</td>\n",
       "      <td>3150</td>\n",
       "    </tr>\n",
       "    <tr>\n",
       "      <th>1</th>\n",
       "      <td>38.008321</td>\n",
       "      <td>-121.864673</td>\n",
       "      <td>Pittsburg, CA</td>\n",
       "      <td>1769</td>\n",
       "    </tr>\n",
       "    <tr>\n",
       "      <th>2</th>\n",
       "      <td>37.710526</td>\n",
       "      <td>-122.439706</td>\n",
       "      <td>excelsior / outer mission</td>\n",
       "      <td>3000</td>\n",
       "    </tr>\n",
       "    <tr>\n",
       "      <th>3</th>\n",
       "      <td>37.973522</td>\n",
       "      <td>-122.070774</td>\n",
       "      <td>concord / pleasant hill / martinez</td>\n",
       "      <td>2395</td>\n",
       "    </tr>\n",
       "    <tr>\n",
       "      <th>4</th>\n",
       "      <td>37.376987</td>\n",
       "      <td>-122.027282</td>\n",
       "      <td>sunnyvale</td>\n",
       "      <td>4342</td>\n",
       "    </tr>\n",
       "    <tr>\n",
       "      <th>...</th>\n",
       "      <td>...</td>\n",
       "      <td>...</td>\n",
       "      <td>...</td>\n",
       "      <td>...</td>\n",
       "    </tr>\n",
       "    <tr>\n",
       "      <th>619284</th>\n",
       "      <td>37.472002</td>\n",
       "      <td>-122.216147</td>\n",
       "      <td>Redwood City</td>\n",
       "      <td>3890</td>\n",
       "    </tr>\n",
       "    <tr>\n",
       "      <th>619285</th>\n",
       "      <td>37.8002</td>\n",
       "      <td>-122.4091</td>\n",
       "      <td>north beach / telegraph hill</td>\n",
       "      <td>9900</td>\n",
       "    </tr>\n",
       "    <tr>\n",
       "      <th>619286</th>\n",
       "      <td>37.7015</td>\n",
       "      <td>-122.0782</td>\n",
       "      <td>hayward / castro valley</td>\n",
       "      <td>2650</td>\n",
       "    </tr>\n",
       "    <tr>\n",
       "      <th>619287</th>\n",
       "      <td>37.337841</td>\n",
       "      <td>-121.978369</td>\n",
       "      <td>santa clara</td>\n",
       "      <td>2195</td>\n",
       "    </tr>\n",
       "    <tr>\n",
       "      <th>619288</th>\n",
       "      <td>NaN</td>\n",
       "      <td>NaN</td>\n",
       "      <td>fairfield / vacaville</td>\n",
       "      <td>1965</td>\n",
       "    </tr>\n",
       "  </tbody>\n",
       "</table>\n",
       "<p>619289 rows × 4 columns</p>\n",
       "</div>"
      ],
      "text/plain": [
       "         latitude    longitude                            district price\n",
       "0       37.353754  -122.026428                           sunnyvale  3150\n",
       "1       38.008321  -121.864673                       Pittsburg, CA  1769\n",
       "2       37.710526  -122.439706           excelsior / outer mission  3000\n",
       "3       37.973522  -122.070774  concord / pleasant hill / martinez  2395\n",
       "4       37.376987  -122.027282                           sunnyvale  4342\n",
       "...           ...          ...                                 ...   ...\n",
       "619284  37.472002  -122.216147                        Redwood City  3890\n",
       "619285    37.8002    -122.4091        north beach / telegraph hill  9900\n",
       "619286    37.7015    -122.0782             hayward / castro valley  2650\n",
       "619287  37.337841  -121.978369                         santa clara  2195\n",
       "619288        NaN          NaN               fairfield / vacaville  1965\n",
       "\n",
       "[619289 rows x 4 columns]"
      ]
     },
     "execution_count": 15,
     "metadata": {},
     "output_type": "execute_result"
    }
   ],
   "source": [
    "prepare_data(df)"
   ]
  },
  {
   "cell_type": "code",
   "execution_count": 16,
   "metadata": {},
   "outputs": [
    {
     "data": {
      "text/plain": [
       "array([['$7072899529 / 2br - 516ft2 - GORGEOUS 2X2 WITH FULL SIZE WASHER & DRYER (napa county) hide this posting unhide',\n",
       "        '5500 Eucalyptus Drive',\n",
       "        'https://sfbay.craigslist.org/nby/apa/d/gorgeous-2x2-with-full-size/6745199759.html',\n",
       "        Decimal('7072899529'), '$7072899529', '2br - 516ft2',\n",
       "        Decimal('-122.256082'),\n",
       "        list(['2BR / 2Ba', '516ft2', 'available nov 9', 'cats are OK - purrr', 'dogs are OK - wooof', 'apartment', 'w/d in unit', 'carport']),\n",
       "        'napa county',\n",
       "        'https://maps.google.com/?q=loc%3A+%35%35%30%30+Eucalyptus+Drive+American+Canyon+CA+US',\n",
       "        '2 \\xa0bedroom 2 bath 1085Sq.Ft. $2,253 - $2,624/mo\\nThe Lodge At Napa Junction\\nCALL US TODAY: show contact info x516\\nDESCRIPTION:\\nExperience the best in luxury apartment living in American Canyon, thanks to this two-bedroom, two-bathroom floor plan from The Lodge at Napa Junction. Along with a fireplace in select homes, the layout includes a built-in desk nook in the kitchen and a walk-in closet in the master bedroom. This pet-friendly community offers plenty of play areas, green spaces, and walking trails ideal for leisurely strolling with pets. Visit today.\\nOFFICE HOURS:\\nMonday to Sunday 9:00 am to 6:00 pm\\nLeasing Contact Center Available 24/7\\nPROPERTY AMENITIES:\\n•\\xa0Elegant Social Lounge\\n•\\xa024 Hrs Fit Gym w/ Cardio & Weights\\n•\\xa0Resort Style Heated Pool & Spa\\n•\\xa0Poolside Fireplace & Outdoor Grilling Area\\n•\\xa0Tech Center w/ Computer & Wi-Fi Acces\\n•\\xa0Assigned Parking & Private Garages Available\\n•\\xa0Package Receiving Lockers\\n•\\xa0American Canyon School District\\n•\\xa0Walking Distance to Napa Junction Shopping Center\\n•\\xa0Online Resident Portal & Rent Payments\\n\\n\\nCALL US TODAY! show contact info x516\\nThe Lodge at Napa Junction\\n5500 Eucalyptus Drive |\\xa0American Canyon, CA 94503\\nVisit us @ www.thelodgenapajunction.com\\nMANAGED BY: WOODMONT REAL ESTATE SERVICES\\nFloorplans specifications and prices are subject to change without notice\\nWoodmont Real Estate Services strictly prohibits subletting of all apartment homes we manage. Please contact the onsite community staff should you come across a sublet or short term stay at this location through other online sources\\nEqual Housing Opportunity',\n",
       "        None,\n",
       "        list(['https://images.craigslist.org/00U0U_zHkXn5EkuF_600x450.jpg', 'https://images.craigslist.org/00d0d_2bB4rRcT9lE_600x450.jpg', 'https://images.craigslist.org/00H0H_94tTI20YJbD_600x450.jpg', 'https://images.craigslist.org/00H0H_f2EMQxb1E2w_600x450.jpg', 'https://images.craigslist.org/00a0a_loBVhaOHe9Q_600x450.jpg', 'https://images.craigslist.org/00A0A_1dMAKMpKTbO_600x450.jpg', 'https://images.craigslist.org/00t0t_8HiBEdmdfXZ_600x450.jpg', 'https://images.craigslist.org/00i0i_9DJRcCI2mBr_600x450.jpg', 'https://images.craigslist.org/00H0H_fIafs9QyO86_600x450.jpg', 'https://images.craigslist.org/01212_laLRQo41RBH_600x450.jpg']),\n",
       "        'GORGEOUS 2X2 WITH FULL SIZE WASHER & DRYER',\n",
       "        Decimal('38.179317')]], dtype=object)"
      ]
     },
     "execution_count": 16,
     "metadata": {},
     "output_type": "execute_result"
    }
   ],
   "source": [
    "df[df['parsed_price'] == 7072899529].values\n"
   ]
  },
  {
   "cell_type": "code",
   "execution_count": 17,
   "metadata": {},
   "outputs": [
    {
     "data": {
      "text/plain": [
       "count    6.150750e+05\n",
       "mean     1.614827e+04\n",
       "std      9.031118e+06\n",
       "min      0.000000e+00\n",
       "25%      2.095000e+03\n",
       "50%      2.681000e+03\n",
       "75%      3.500000e+03\n",
       "max      7.072900e+09\n",
       "Name: parsed_price, dtype: float64"
      ]
     },
     "execution_count": 17,
     "metadata": {},
     "output_type": "execute_result"
    }
   ],
   "source": [
    "p = df[\"parsed_price\"].dropna().map(float)\n",
    "p.describe()\n"
   ]
  },
  {
   "cell_type": "code",
   "execution_count": 18,
   "metadata": {},
   "outputs": [
    {
     "data": {
      "text/plain": [
       "0.50    2.681000e+03\n",
       "0.75    3.500000e+03\n",
       "0.80    3.725000e+03\n",
       "0.90    4.500000e+03\n",
       "1.00    7.072900e+09\n",
       "Name: parsed_price, dtype: float64"
      ]
     },
     "execution_count": 18,
     "metadata": {},
     "output_type": "execute_result"
    }
   ],
   "source": [
    "p.quantile([0.5, 0.75, 0.8, 0.9, 1.0])"
   ]
  },
  {
   "cell_type": "code",
   "execution_count": 19,
   "metadata": {},
   "outputs": [
    {
     "data": {
      "image/png": "[encoded data removed]",
      "text/plain": [
       "<Figure size 1008x432 with 1 Axes>"
      ]
     },
     "metadata": {
      "image/png": {
       "height": 375,
       "width": 838
      }
     },
     "output_type": "display_data"
    }
   ],
   "source": [
    "sns.set(color_codes=True)\n",
    "plt.figure(figsize=(14, 6))\n",
    "\n",
    "g = sns.distplot(p[p < 10000]);\n",
    "# g = sns.distplot(p);"
   ]
  },
  {
   "cell_type": "code",
   "execution_count": 20,
   "metadata": {},
   "outputs": [
    {
     "data": {
      "text/plain": [
       "count    614915.000000\n",
       "mean       2989.235462\n",
       "std        1703.579579\n",
       "min           0.000000\n",
       "25%        2095.000000\n",
       "50%        2681.000000\n",
       "75%        3500.000000\n",
       "max       59000.000000\n",
       "Name: parsed_price, dtype: float64"
      ]
     },
     "execution_count": 20,
     "metadata": {},
     "output_type": "execute_result"
    }
   ],
   "source": [
    "p[p < 60000].describe()"
   ]
  },
  {
   "cell_type": "code",
   "execution_count": 21,
   "metadata": {},
   "outputs": [
    {
     "data": {
      "text/plain": [
       "309060      0.0\n",
       "574945      0.0\n",
       "389601      0.0\n",
       "269427      0.0\n",
       "239172      0.0\n",
       "          ...  \n",
       "54167     999.0\n",
       "427095    999.0\n",
       "67253     999.0\n",
       "135649    999.0\n",
       "513635    999.0\n",
       "Name: parsed_price, Length: 14340, dtype: float64"
      ]
     },
     "execution_count": 21,
     "metadata": {},
     "output_type": "execute_result"
    }
   ],
   "source": [
    "p[p<1000].sort_values()\n"
   ]
  },
  {
   "cell_type": "code",
   "execution_count": 22,
   "metadata": {},
   "outputs": [
    {
     "name": "stdout",
     "output_type": "stream",
     "text": [
      "parsed_postingtitletext    $2495 / 2br - 850ft2 - Freshly updated 2 Bed 1...\n",
      "parsed_map_address                       1820 Welch Avenue Apt 4 near Senter\n",
      "PostUrl                    https://sfbay.craigslist.org/sby/apa/d/san-jos...\n",
      "parsed_price                                                            2495\n",
      "parsed_price_text                                                      $2495\n",
      "parsed_housing                                                  2br - 850ft2\n",
      "parsed_data_longitude                                            -121.856276\n",
      "parsed_attrs               [2BR / 1Ba, 850ft2, available dec 19, applicat...\n",
      "parsed_district                                            san jose downtown\n",
      "parsed_map_link            https://www.google.com/maps/preview/@37.317553...\n",
      "parsed_postingbody         Nice Townhouse Style Apartment near Kelly Park...\n",
      "parsed_page_head                                                        None\n",
      "parsed_thumbs              [https://images.craigslist.org/00909_51bDDpp9y...\n",
      "parsed_titletextonly       Freshly updated 2 Bed 1 Bath Townhouse Apartme...\n",
      "parsed_data_latitude                                               37.317553\n",
      "Name: 344311, dtype: object\n",
      "https://sfbay.craigslist.org/sby/apa/d/san-jose-freshly-updated-2-bed-1-bath/7041406709.html\n",
      "['https://images.craigslist.org/00909_51bDDpp9ygm_600x450.jpg', 'https://images.craigslist.org/00D0D_lMdqVpIIi8q_600x450.jpg', 'https://images.craigslist.org/00L0L_e6TvmFDNHnW_600x450.jpg', 'https://images.craigslist.org/00u0u_i3GMwF4Zsaf_600x450.jpg', 'https://images.craigslist.org/00L0L_j0Zdx6TFrpJ_600x450.jpg', 'https://images.craigslist.org/00f0f_a0AQQRo1IH6_600x450.jpg', 'https://images.craigslist.org/00101_euqUFFvar37_600x450.jpg']\n"
     ]
    }
   ],
   "source": [
    "pid = 344311\n",
    "print(df.iloc[pid])\n",
    "print(df.iloc[pid][\"PostUrl\"])\n",
    "print(df.iloc[pid][\"parsed_thumbs\"])"
   ]
  },
  {
   "cell_type": "code",
   "execution_count": 23,
   "metadata": {},
   "outputs": [
    {
     "name": "stdout",
     "output_type": "stream",
     "text": [
      "Pickling train.pd.\n"
     ]
    }
   ],
   "source": [
    "maybe_pickle(prepare_data(df), \"train.pd\")"
   ]
  },
  {
   "cell_type": "code",
   "execution_count": 24,
   "metadata": {},
   "outputs": [
    {
     "data": {
      "text/plain": [
       "420490   -37.850922\n",
       "76712    -36.636071\n",
       "110089   -32.789807\n",
       "562445   -32.108455\n",
       "226422   -14.283544\n",
       "            ...    \n",
       "162631    49.166579\n",
       "114008    50.238709\n",
       "115944    61.186929\n",
       "559651    66.361038\n",
       "256909    66.361038\n",
       "Name: parsed_data_latitude, Length: 586382, dtype: float64"
      ]
     },
     "execution_count": 24,
     "metadata": {},
     "output_type": "execute_result"
    }
   ],
   "source": [
    "df[\"parsed_data_latitude\"].dropna().astype(float).sort_values()"
   ]
  }
 ],
 "metadata": {
  "kernelspec": {
   "display_name": "Python 3",
   "language": "python",
   "name": "python3"
  },
  "language_info": {
   "codemirror_mode": {
    "name": "ipython",
    "version": 3
   },
   "file_extension": ".py",
   "mimetype": "text/x-python",
   "name": "python",
   "nbconvert_exporter": "python",
   "pygments_lexer": "ipython3",
   "version": "3.7.3"
  }
 },
 "nbformat": 4,
 "nbformat_minor": 2
}