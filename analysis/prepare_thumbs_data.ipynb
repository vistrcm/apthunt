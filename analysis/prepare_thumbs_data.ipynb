{
 "cells": [
  {
   "cell_type": "code",
   "execution_count": 1,
   "metadata": {},
   "outputs": [],
   "source": [
    "%reload_ext autoreload\n",
    "%autoreload 2\n",
    "%matplotlib inline\n",
    "%config InlineBackend.figure_format='retina'"
   ]
  },
  {
   "cell_type": "code",
   "execution_count": 17,
   "metadata": {},
   "outputs": [],
   "source": [
    "import pickle\n",
    "import pandas as pd"
   ]
  },
  {
   "cell_type": "code",
   "execution_count": 3,
   "metadata": {},
   "outputs": [],
   "source": [
    "df = pickle.load(open(\"df.pkl\", 'rb'))"
   ]
  },
  {
   "cell_type": "code",
   "execution_count": 4,
   "metadata": {},
   "outputs": [
    {
     "data": {
      "text/html": [
       "<div>\n",
       "<style scoped>\n",
       "    .dataframe tbody tr th:only-of-type {\n",
       "        vertical-align: middle;\n",
       "    }\n",
       "\n",
       "    .dataframe tbody tr th {\n",
       "        vertical-align: top;\n",
       "    }\n",
       "\n",
       "    .dataframe thead th {\n",
       "        text-align: right;\n",
       "    }\n",
       "</style>\n",
       "<table border=\"1\" class=\"dataframe\">\n",
       "  <thead>\n",
       "    <tr style=\"text-align: right;\">\n",
       "      <th></th>\n",
       "      <th>parsed_map_address</th>\n",
       "      <th>parsed_postingtitletext</th>\n",
       "      <th>added</th>\n",
       "      <th>PostUrl</th>\n",
       "      <th>PostTitle</th>\n",
       "      <th>parsed_price</th>\n",
       "      <th>parsed_price_text</th>\n",
       "      <th>parsed_housing</th>\n",
       "      <th>PostContent</th>\n",
       "      <th>parsed_data_longitude</th>\n",
       "      <th>...</th>\n",
       "      <th>parsed_area</th>\n",
       "      <th>parsed_furnished</th>\n",
       "      <th>parsed_wd</th>\n",
       "      <th>parsed_type</th>\n",
       "      <th>parsed_laundryb</th>\n",
       "      <th>parsed_nthumbs</th>\n",
       "      <th>parsed_garagea</th>\n",
       "      <th>parsed_laundrys</th>\n",
       "      <th>parsed_garaged</th>\n",
       "      <th>parsed_catsok</th>\n",
       "    </tr>\n",
       "  </thead>\n",
       "  <tbody>\n",
       "    <tr>\n",
       "      <th>0</th>\n",
       "      <td>reed near timberpine</td>\n",
       "      <td>$2895 / 2br - 1000ft2 - Luxury 2beds (private ...</td>\n",
       "      <td>1586943009425</td>\n",
       "      <td>https://sfbay.craigslist.org/sby/apa/d/sunnyva...</td>\n",
       "      <td>simulated</td>\n",
       "      <td>2895</td>\n",
       "      <td>$2895</td>\n",
       "      <td>2br - 1000ft2</td>\n",
       "      <td>simulated</td>\n",
       "      <td>-121.99987</td>\n",
       "      <td>...</td>\n",
       "      <td>NaN</td>\n",
       "      <td>NaN</td>\n",
       "      <td>NaN</td>\n",
       "      <td>NaN</td>\n",
       "      <td>NaN</td>\n",
       "      <td>NaN</td>\n",
       "      <td>NaN</td>\n",
       "      <td>NaN</td>\n",
       "      <td>NaN</td>\n",
       "      <td>NaN</td>\n",
       "    </tr>\n",
       "    <tr>\n",
       "      <th>1</th>\n",
       "      <td>3110 Casa De Campo</td>\n",
       "      <td>$1,995 / 550ft2 - Move In Special! 6 WEEKS FRE...</td>\n",
       "      <td>1600492989288</td>\n",
       "      <td>https://sfbay.craigslist.org/pen/apa/d/san-mat...</td>\n",
       "      <td>NaN</td>\n",
       "      <td>1995</td>\n",
       "      <td>$1,995</td>\n",
       "      <td>550ft2</td>\n",
       "      <td>NaN</td>\n",
       "      <td>-122.285547</td>\n",
       "      <td>...</td>\n",
       "      <td>550</td>\n",
       "      <td>False</td>\n",
       "      <td>True</td>\n",
       "      <td>apartment</td>\n",
       "      <td>False</td>\n",
       "      <td>3</td>\n",
       "      <td>False</td>\n",
       "      <td>False</td>\n",
       "      <td>False</td>\n",
       "      <td>True</td>\n",
       "    </tr>\n",
       "    <tr>\n",
       "      <th>2</th>\n",
       "      <td>150 Caldecott Lane #3 near Tunnel Road</td>\n",
       "      <td>$3297 / 3br - 1700ft2 - 3Bed 2Bath Claremont H...</td>\n",
       "      <td>1594826706728</td>\n",
       "      <td>https://sfbay.craigslist.org/eby/apa/d/oakland...</td>\n",
       "      <td>NaN</td>\n",
       "      <td>3297</td>\n",
       "      <td>$3297</td>\n",
       "      <td>3br - 1700ft2</td>\n",
       "      <td>NaN</td>\n",
       "      <td>-122.223458</td>\n",
       "      <td>...</td>\n",
       "      <td>1700</td>\n",
       "      <td>False</td>\n",
       "      <td>False</td>\n",
       "      <td>apartment</td>\n",
       "      <td>False</td>\n",
       "      <td>10</td>\n",
       "      <td>False</td>\n",
       "      <td>False</td>\n",
       "      <td>False</td>\n",
       "      <td>True</td>\n",
       "    </tr>\n",
       "    <tr>\n",
       "      <th>3</th>\n",
       "      <td>333 Harrison St. near Fremont St.</td>\n",
       "      <td>$3300 / 560ft2 - Generously Sized Studio Home ...</td>\n",
       "      <td>1576459291763</td>\n",
       "      <td>https://sfbay.craigslist.org/sfc/apa/d/san-fra...</td>\n",
       "      <td>simulated</td>\n",
       "      <td>3300</td>\n",
       "      <td>$3300</td>\n",
       "      <td>560ft2</td>\n",
       "      <td>simulated</td>\n",
       "      <td>-122.391465</td>\n",
       "      <td>...</td>\n",
       "      <td>NaN</td>\n",
       "      <td>NaN</td>\n",
       "      <td>NaN</td>\n",
       "      <td>NaN</td>\n",
       "      <td>NaN</td>\n",
       "      <td>NaN</td>\n",
       "      <td>NaN</td>\n",
       "      <td>NaN</td>\n",
       "      <td>NaN</td>\n",
       "      <td>NaN</td>\n",
       "    </tr>\n",
       "    <tr>\n",
       "      <th>4</th>\n",
       "      <td>2232 Haste ST near Ellsworth ST</td>\n",
       "      <td>$1895 / 1br - NICE ONE BEDROOM APT OPEN HOUSES...</td>\n",
       "      <td>1592637973617</td>\n",
       "      <td>https://sfbay.craigslist.org/eby/apa/d/berkele...</td>\n",
       "      <td>NaN</td>\n",
       "      <td>1895</td>\n",
       "      <td>$1895</td>\n",
       "      <td>1br</td>\n",
       "      <td>NaN</td>\n",
       "      <td>-122.257</td>\n",
       "      <td>...</td>\n",
       "      <td>None</td>\n",
       "      <td>False</td>\n",
       "      <td>False</td>\n",
       "      <td>apartment</td>\n",
       "      <td>False</td>\n",
       "      <td>0</td>\n",
       "      <td>False</td>\n",
       "      <td>True</td>\n",
       "      <td>False</td>\n",
       "      <td>False</td>\n",
       "    </tr>\n",
       "  </tbody>\n",
       "</table>\n",
       "<p>5 rows × 35 columns</p>\n",
       "</div>"
      ],
      "text/plain": [
       "                       parsed_map_address  \\\n",
       "0                    reed near timberpine   \n",
       "1                      3110 Casa De Campo   \n",
       "2  150 Caldecott Lane #3 near Tunnel Road   \n",
       "3       333 Harrison St. near Fremont St.   \n",
       "4         2232 Haste ST near Ellsworth ST   \n",
       "\n",
       "                             parsed_postingtitletext          added  \\\n",
       "0  $2895 / 2br - 1000ft2 - Luxury 2beds (private ...  1586943009425   \n",
       "1  $1,995 / 550ft2 - Move In Special! 6 WEEKS FRE...  1600492989288   \n",
       "2  $3297 / 3br - 1700ft2 - 3Bed 2Bath Claremont H...  1594826706728   \n",
       "3  $3300 / 560ft2 - Generously Sized Studio Home ...  1576459291763   \n",
       "4  $1895 / 1br - NICE ONE BEDROOM APT OPEN HOUSES...  1592637973617   \n",
       "\n",
       "                                             PostUrl  PostTitle parsed_price  \\\n",
       "0  https://sfbay.craigslist.org/sby/apa/d/sunnyva...  simulated         2895   \n",
       "1  https://sfbay.craigslist.org/pen/apa/d/san-mat...        NaN         1995   \n",
       "2  https://sfbay.craigslist.org/eby/apa/d/oakland...        NaN         3297   \n",
       "3  https://sfbay.craigslist.org/sfc/apa/d/san-fra...  simulated         3300   \n",
       "4  https://sfbay.craigslist.org/eby/apa/d/berkele...        NaN         1895   \n",
       "\n",
       "  parsed_price_text parsed_housing PostContent parsed_data_longitude  ...  \\\n",
       "0             $2895  2br - 1000ft2   simulated            -121.99987  ...   \n",
       "1            $1,995         550ft2         NaN           -122.285547  ...   \n",
       "2             $3297  3br - 1700ft2         NaN           -122.223458  ...   \n",
       "3             $3300         560ft2   simulated           -122.391465  ...   \n",
       "4             $1895            1br         NaN              -122.257  ...   \n",
       "\n",
       "  parsed_area parsed_furnished parsed_wd parsed_type parsed_laundryb  \\\n",
       "0         NaN              NaN       NaN         NaN             NaN   \n",
       "1         550            False      True   apartment           False   \n",
       "2        1700            False     False   apartment           False   \n",
       "3         NaN              NaN       NaN         NaN             NaN   \n",
       "4        None            False     False   apartment           False   \n",
       "\n",
       "  parsed_nthumbs parsed_garagea parsed_laundrys parsed_garaged parsed_catsok  \n",
       "0            NaN            NaN             NaN            NaN           NaN  \n",
       "1              3          False           False          False          True  \n",
       "2             10          False           False          False          True  \n",
       "3            NaN            NaN             NaN            NaN           NaN  \n",
       "4              0          False            True          False         False  \n",
       "\n",
       "[5 rows x 35 columns]"
      ]
     },
     "execution_count": 4,
     "metadata": {},
     "output_type": "execute_result"
    }
   ],
   "source": [
    "df.head()"
   ]
  },
  {
   "cell_type": "code",
   "execution_count": 9,
   "metadata": {},
   "outputs": [
    {
     "data": {
      "text/plain": [
       "(1266986, 35)"
      ]
     },
     "execution_count": 9,
     "metadata": {},
     "output_type": "execute_result"
    }
   ],
   "source": [
    "df.shape"
   ]
  },
  {
   "cell_type": "code",
   "execution_count": 12,
   "metadata": {},
   "outputs": [],
   "source": [
    "df.dropna(subset=[\"parsed_thumbs\",\"parsed_price\"], inplace=True)"
   ]
  },
  {
   "cell_type": "code",
   "execution_count": 13,
   "metadata": {},
   "outputs": [
    {
     "data": {
      "text/plain": [
       "(1189188, 35)"
      ]
     },
     "execution_count": 13,
     "metadata": {},
     "output_type": "execute_result"
    }
   ],
   "source": [
    "df.shape"
   ]
  },
  {
   "cell_type": "code",
   "execution_count": 14,
   "metadata": {},
   "outputs": [],
   "source": [
    "def flip_data(data):\n",
    "    # iterate over all data point\n",
    "    for _, row in df.iterrows():\n",
    "        price, thumbs, intid = row[\"parsed_price\"], row[\"parsed_thumbs\"], row[\"intid\"]\n",
    "        \n",
    "        if thumbs is None:\n",
    "            continue\n",
    "\n",
    "        for thumb in thumbs:\n",
    "            yield thumb, price, intid\n"
   ]
  },
  {
   "cell_type": "code",
   "execution_count": 15,
   "metadata": {},
   "outputs": [],
   "source": [
    "records = []\n",
    "\n",
    "for t, p, i in flip_data(df):\n",
    "    file = t.split(\"/\")[-1]\n",
    "    records.append({\n",
    "        \"file\": file,\n",
    "        \"price\": p,\n",
    "        \"id\": i\n",
    "    })\n"
   ]
  },
  {
   "cell_type": "code",
   "execution_count": 18,
   "metadata": {},
   "outputs": [],
   "source": [
    "ndf = pd.DataFrame(records)"
   ]
  },
  {
   "cell_type": "code",
   "execution_count": 19,
   "metadata": {},
   "outputs": [],
   "source": [
    "del df"
   ]
  },
  {
   "cell_type": "code",
   "execution_count": 20,
   "metadata": {},
   "outputs": [
    {
     "data": {
      "text/html": [
       "<div>\n",
       "<style scoped>\n",
       "    .dataframe tbody tr th:only-of-type {\n",
       "        vertical-align: middle;\n",
       "    }\n",
       "\n",
       "    .dataframe tbody tr th {\n",
       "        vertical-align: top;\n",
       "    }\n",
       "\n",
       "    .dataframe thead th {\n",
       "        text-align: right;\n",
       "    }\n",
       "</style>\n",
       "<table border=\"1\" class=\"dataframe\">\n",
       "  <thead>\n",
       "    <tr style=\"text-align: right;\">\n",
       "      <th></th>\n",
       "      <th>file</th>\n",
       "      <th>price</th>\n",
       "      <th>id</th>\n",
       "    </tr>\n",
       "  </thead>\n",
       "  <tbody>\n",
       "    <tr>\n",
       "      <th>0</th>\n",
       "      <td>01515_bfqW10n0T0Y_600x450.jpg</td>\n",
       "      <td>2895</td>\n",
       "      <td>fbdb4e74dda64a868e9809a742063d89</td>\n",
       "    </tr>\n",
       "    <tr>\n",
       "      <th>1</th>\n",
       "      <td>00e0e_3EnhJIr1o63_600x450.jpg</td>\n",
       "      <td>2895</td>\n",
       "      <td>fbdb4e74dda64a868e9809a742063d89</td>\n",
       "    </tr>\n",
       "    <tr>\n",
       "      <th>2</th>\n",
       "      <td>01616_lXV8ed96bGD_600x450.jpg</td>\n",
       "      <td>2895</td>\n",
       "      <td>fbdb4e74dda64a868e9809a742063d89</td>\n",
       "    </tr>\n",
       "    <tr>\n",
       "      <th>3</th>\n",
       "      <td>00c0c_4ZiuNvi1mKc_600x450.jpg</td>\n",
       "      <td>2895</td>\n",
       "      <td>fbdb4e74dda64a868e9809a742063d89</td>\n",
       "    </tr>\n",
       "    <tr>\n",
       "      <th>4</th>\n",
       "      <td>00r0r_l0HjyYSj85I_600x450.jpg</td>\n",
       "      <td>2895</td>\n",
       "      <td>fbdb4e74dda64a868e9809a742063d89</td>\n",
       "    </tr>\n",
       "  </tbody>\n",
       "</table>\n",
       "</div>"
      ],
      "text/plain": [
       "                            file price                                id\n",
       "0  01515_bfqW10n0T0Y_600x450.jpg  2895  fbdb4e74dda64a868e9809a742063d89\n",
       "1  00e0e_3EnhJIr1o63_600x450.jpg  2895  fbdb4e74dda64a868e9809a742063d89\n",
       "2  01616_lXV8ed96bGD_600x450.jpg  2895  fbdb4e74dda64a868e9809a742063d89\n",
       "3  00c0c_4ZiuNvi1mKc_600x450.jpg  2895  fbdb4e74dda64a868e9809a742063d89\n",
       "4  00r0r_l0HjyYSj85I_600x450.jpg  2895  fbdb4e74dda64a868e9809a742063d89"
      ]
     },
     "execution_count": 20,
     "metadata": {},
     "output_type": "execute_result"
    }
   ],
   "source": [
    "ndf.head()"
   ]
  },
  {
   "cell_type": "code",
   "execution_count": 22,
   "metadata": {},
   "outputs": [
    {
     "data": {
      "text/plain": [
       "(14307936, 3)"
      ]
     },
     "execution_count": 22,
     "metadata": {},
     "output_type": "execute_result"
    }
   ],
   "source": [
    "ndf.shape"
   ]
  },
  {
   "cell_type": "code",
   "execution_count": 24,
   "metadata": {},
   "outputs": [],
   "source": [
    "ndf.to_csv(\"thumb2price.csv\")"
   ]
  },
  {
   "cell_type": "code",
   "execution_count": null,
   "metadata": {},
   "outputs": [],
   "source": []
  }
 ],
 "metadata": {
  "kernelspec": {
   "display_name": "Python 3",
   "language": "python",
   "name": "python3"
  },
  "language_info": {
   "codemirror_mode": {
    "name": "ipython",
    "version": 3
   },
   "file_extension": ".py",
   "mimetype": "text/x-python",
   "name": "python",
   "nbconvert_exporter": "python",
   "pygments_lexer": "ipython3",
   "version": "3.8.6"
  }
 },
 "nbformat": 4,
 "nbformat_minor": 4
}
