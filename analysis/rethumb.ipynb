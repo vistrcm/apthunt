{
 "cells": [
  {
   "cell_type": "code",
   "execution_count": 1,
   "metadata": {},
   "outputs": [],
   "source": [
    "%reload_ext autoreload\n",
    "%autoreload 2\n",
    "%matplotlib inline\n",
    "%config InlineBackend.figure_format='retina'"
   ]
  },
  {
   "cell_type": "code",
   "execution_count": 91,
   "metadata": {},
   "outputs": [
    {
     "name": "stderr",
     "output_type": "stream",
     "text": [
      "/Users/vist/.local/share/virtualenvs/analysis-j_VNnu_c/lib/python3.7/site-packages/ipykernel_launcher.py:6: DeprecationWarning: Using or importing the ABCs from 'collections' instead of from 'collections.abc' is deprecated, and in 3.8 it will stop working\n",
      "  \n"
     ]
    }
   ],
   "source": [
    "import pickle\n",
    "import pandas as pd\n",
    "import json\n",
    "import boto3\n",
    "import sys"
   ]
  },
  {
   "cell_type": "code",
   "execution_count": 3,
   "metadata": {},
   "outputs": [],
   "source": [
    "data = pickle.load(open(\"apthunt.pkl\", 'rb'))"
   ]
  },
  {
   "cell_type": "code",
   "execution_count": 4,
   "metadata": {},
   "outputs": [],
   "source": [
    "# To go from dynamo format to python\n",
    "from boto3.dynamodb import types\n",
    "\n",
    "deserializer = types.TypeDeserializer()\n",
    "python_data = [{k: deserializer.deserialize(v) for k,v in d.items() if k == \"parsed_thumbs\"} for d in data]"
   ]
  },
  {
   "cell_type": "code",
   "execution_count": 5,
   "metadata": {},
   "outputs": [],
   "source": [
    "del data"
   ]
  },
  {
   "cell_type": "code",
   "execution_count": 6,
   "metadata": {},
   "outputs": [],
   "source": [
    "df = pd.DataFrame(python_data)"
   ]
  },
  {
   "cell_type": "code",
   "execution_count": 7,
   "metadata": {},
   "outputs": [],
   "source": [
    "del python_data"
   ]
  },
  {
   "cell_type": "code",
   "execution_count": 8,
   "metadata": {},
   "outputs": [],
   "source": [
    "thumbs = df[\"parsed_thumbs\"]"
   ]
  },
  {
   "cell_type": "code",
   "execution_count": 9,
   "metadata": {},
   "outputs": [],
   "source": [
    "del df"
   ]
  },
  {
   "cell_type": "code",
   "execution_count": 38,
   "metadata": {},
   "outputs": [],
   "source": [
    "sqs = boto3.resource('sqs')\n",
    "queue = sqs.get_queue_by_name(QueueName='apthunt-thumbs')"
   ]
  },
  {
   "cell_type": "code",
   "execution_count": 24,
   "metadata": {},
   "outputs": [],
   "source": [
    "t = thumbs[1]"
   ]
  },
  {
   "cell_type": "code",
   "execution_count": 25,
   "metadata": {},
   "outputs": [
    {
     "data": {
      "text/plain": [
       "{'MD5OfMessageBody': 'fbfaf7ac0cec7e08644410acdecd3101',\n",
       " 'MessageId': '0220241d-123f-4847-a195-163e7bccb94e',\n",
       " 'ResponseMetadata': {'RequestId': '6bd10008-b8ae-5258-9394-56b0931e5956',\n",
       "  'HTTPStatusCode': 200,\n",
       "  'HTTPHeaders': {'x-amzn-requestid': '6bd10008-b8ae-5258-9394-56b0931e5956',\n",
       "   'date': 'Sat, 08 Feb 2020 03:22:24 GMT',\n",
       "   'content-type': 'text/xml',\n",
       "   'content-length': '378'},\n",
       "  'RetryAttempts': 0}}"
      ]
     },
     "execution_count": 25,
     "metadata": {},
     "output_type": "execute_result"
    }
   ],
   "source": [
    "sqs.send_message(\n",
    "        QueueUrl=queue_url,\n",
    "        MessageBody=json.dumps(t)\n",
    "    )"
   ]
  },
  {
   "cell_type": "code",
   "execution_count": 41,
   "metadata": {},
   "outputs": [],
   "source": [
    "def paginate(l, size=10):\n",
    "    for i in range(0, len(l), size):\n",
    "        yield l[i:i+size]"
   ]
  },
  {
   "cell_type": "code",
   "execution_count": 110,
   "metadata": {},
   "outputs": [
    {
     "name": "stdout",
     "output_type": "stream",
     "text": [
      "0/619289 (0.00%)\n",
      "10000/619289 (1.61%)\n",
      "20000/619289 (3.23%)\n",
      "30000/619289 (4.84%)\n",
      "40000/619289 (6.46%)\n",
      "50000/619289 (8.07%)\n",
      "60000/619289 (9.69%)\n",
      "70000/619289 (11.30%)\n",
      "80000/619289 (12.92%)\n",
      "90000/619289 (14.53%)\n",
      "100000/619289 (16.15%)\n",
      "110000/619289 (17.76%)\n",
      "120000/619289 (19.38%)\n",
      "130000/619289 (20.99%)\n",
      "140000/619289 (22.61%)\n",
      "150000/619289 (24.22%)\n",
      "160000/619289 (25.84%)\n",
      "170000/619289 (27.45%)\n",
      "180000/619289 (29.07%)\n",
      "190000/619289 (30.68%)\n",
      "200000/619289 (32.30%)\n",
      "210000/619289 (33.91%)\n",
      "220000/619289 (35.52%)\n",
      "230000/619289 (37.14%)\n",
      "240000/619289 (38.75%)\n",
      "250000/619289 (40.37%)\n",
      "260000/619289 (41.98%)\n",
      "270000/619289 (43.60%)\n",
      "280000/619289 (45.21%)\n",
      "290000/619289 (46.83%)\n",
      "300000/619289 (48.44%)\n",
      "310000/619289 (50.06%)\n",
      "320000/619289 (51.67%)\n",
      "330000/619289 (53.29%)\n",
      "340000/619289 (54.90%)\n",
      "350000/619289 (56.52%)\n",
      "360000/619289 (58.13%)\n",
      "370000/619289 (59.75%)\n",
      "380000/619289 (61.36%)\n",
      "390000/619289 (62.98%)\n",
      "400000/619289 (64.59%)\n",
      "410000/619289 (66.20%)\n",
      "420000/619289 (67.82%)\n",
      "430000/619289 (69.43%)\n",
      "440000/619289 (71.05%)\n",
      "450000/619289 (72.66%)\n",
      "460000/619289 (74.28%)\n",
      "470000/619289 (75.89%)\n",
      "480000/619289 (77.51%)\n",
      "490000/619289 (79.12%)\n",
      "500000/619289 (80.74%)\n",
      "510000/619289 (82.35%)\n",
      "520000/619289 (83.97%)\n",
      "530000/619289 (85.58%)\n",
      "540000/619289 (87.20%)\n",
      "550000/619289 (88.81%)\n",
      "560000/619289 (90.43%)\n",
      "570000/619289 (92.04%)\n"
     ]
    }
   ],
   "source": [
    "l = len(thumbs)\n",
    "page = 10 # found by experiment.\n",
    "\n",
    "prepared = [{\"Id\": f\"{i}\", \"MessageBody\": json.dumps(t)} for i, t in enumerate(thumbs) if t is not None]\n",
    "for n, t in enumerate(paginate(prepared, page)):\n",
    "    processed = n * page\n",
    "    if processed%10000 == 0: print(f\"{processed}/{l} ({processed/l*100:.2f}%)\")\n",
    "\n",
    "    queue.send_messages(Entries=t)\n",
    "    \n",
    "#     sqs.send_message(\n",
    "#         QueueUrl=queue_url,\n",
    "#         MessageBody=json.dumps(t)\n",
    "#     )"
   ]
  },
  {
   "cell_type": "code",
   "execution_count": null,
   "metadata": {},
   "outputs": [],
   "source": []
  }
 ],
 "metadata": {
  "kernelspec": {
   "display_name": "Python 3",
   "language": "python",
   "name": "python3"
  },
  "language_info": {
   "codemirror_mode": {
    "name": "ipython",
    "version": 3
   },
   "file_extension": ".py",
   "mimetype": "text/x-python",
   "name": "python",
   "nbconvert_exporter": "python",
   "pygments_lexer": "ipython3",
   "version": "3.7.3"
  }
 },
 "nbformat": 4,
 "nbformat_minor": 4
}
